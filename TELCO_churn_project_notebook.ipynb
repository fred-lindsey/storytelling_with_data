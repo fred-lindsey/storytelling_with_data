{
 "cells": [
  {
   "cell_type": "markdown",
   "id": "e2987516",
   "metadata": {},
   "source": [
    "## Step 1: Define Goal, why it matters, id target variable, state initial hypotheses\n",
    "- Executives/Sales initial question: \"how many customers are churning?\", \"why are customers churning?\", \"How much revenue does that cost?\", \"How much investment is required to acquire equivalent new customers?\", \"How else culd we spend this money if we better retained customers?\"\n",
    "- Opportunity cost: if we retain customers, we eliminate both revenue loss, and additional capital outlay to acquire replacement customers\n",
    "- End State: \n",
    "    - understand: \n",
    "        - TELCO churn v. Industry average churn (source? >> BLS, quarterly reports, industry journals ans publications), \n",
    "        - profile of most common churning customer(age, gender, plan), \n",
    "        - identify most likely reason for churn (price, demographic), \n",
    "- DS questions: \n",
    "    - What are the drivers of customer churn?\n",
    "        - high price for certain contract types\n",
    "    - Who is churning?\n",
    "        - \n",
    "    - Why does churn matter? \n",
    "        - High cost of employee acquisition and training (50-200%)\n",
    "        - Productivity: drop in overall productivity (less personnel, drop in morale for remaining employees)\n",
    "        - Snowball effect in attrition\n",
    "        - HR retention bonus for low attrition?\n",
    "- Target variable:\n",
    "    - churn\n",
    "- What are some interesting variables?\n",
    "    - churned customer plan (monthly, month to month, bundle) vis-a-vis price\n",
    "    - customer demographic:\n",
    "        - senior or not\n",
    "        - gender\n",
    "        - dependants or not\n",
    "        - married or not\n",
    "        - payment type\n",
    "    - age/gender/race >> culture issue?\n",
    "    - time since last promotion/raise\n",
    "    - income, then...\n",
    "    - department, by income\n",
    "- What would a minimally viable product look like?\n",
    "    - deliverable: can be:\n",
    "        - email with recs >> the simplest \n",
    "        - sldieshow\n",
    "        - ML model we deliver to engineering team to deploy live\n",
    "    - what target rate are we hitting with churn?\n",
    "    - whats th biggest story i.e. variable most correlated with churn?\n",
    "    - we have survey data about job satisfaction and balance >> should we believe surverys?\n",
    "        - are the neg surveys accurately correlated with churn?\n",
    "        \n",
    "     ** Source your data: "
   ]
  },
  {
   "cell_type": "code",
   "execution_count": 8,
   "id": "5dd5bc63",
   "metadata": {},
   "outputs": [],
   "source": [
    "import pandas as pd\n",
    "import seaborn as sns"
   ]
  },
  {
   "cell_type": "code",
   "execution_count": 3,
   "id": "7bae5759",
   "metadata": {},
   "outputs": [
    {
     "data": {
      "text/html": [
       "<div>\n",
       "<style scoped>\n",
       "    .dataframe tbody tr th:only-of-type {\n",
       "        vertical-align: middle;\n",
       "    }\n",
       "\n",
       "    .dataframe tbody tr th {\n",
       "        vertical-align: top;\n",
       "    }\n",
       "\n",
       "    .dataframe thead th {\n",
       "        text-align: right;\n",
       "    }\n",
       "</style>\n",
       "<table border=\"1\" class=\"dataframe\">\n",
       "  <thead>\n",
       "    <tr style=\"text-align: right;\">\n",
       "      <th></th>\n",
       "      <th>customer_id</th>\n",
       "      <th>gender</th>\n",
       "      <th>is_senior_citizen</th>\n",
       "      <th>partner</th>\n",
       "      <th>dependents</th>\n",
       "      <th>phone_service</th>\n",
       "      <th>internet_service</th>\n",
       "      <th>contract_type</th>\n",
       "      <th>payment_type</th>\n",
       "      <th>monthly_charges</th>\n",
       "      <th>total_charges</th>\n",
       "      <th>churn</th>\n",
       "      <th>tenure</th>\n",
       "    </tr>\n",
       "  </thead>\n",
       "  <tbody>\n",
       "    <tr>\n",
       "      <th>0</th>\n",
       "      <td>0002-ORFBO</td>\n",
       "      <td>Female</td>\n",
       "      <td>0</td>\n",
       "      <td>Yes</td>\n",
       "      <td>Yes</td>\n",
       "      <td>1</td>\n",
       "      <td>1</td>\n",
       "      <td>1</td>\n",
       "      <td>Mailed check</td>\n",
       "      <td>65.60</td>\n",
       "      <td>593.30</td>\n",
       "      <td>No</td>\n",
       "      <td>9.0</td>\n",
       "    </tr>\n",
       "    <tr>\n",
       "      <th>1</th>\n",
       "      <td>0003-MKNFE</td>\n",
       "      <td>Male</td>\n",
       "      <td>0</td>\n",
       "      <td>No</td>\n",
       "      <td>No</td>\n",
       "      <td>2</td>\n",
       "      <td>1</td>\n",
       "      <td>0</td>\n",
       "      <td>Mailed check</td>\n",
       "      <td>59.90</td>\n",
       "      <td>542.40</td>\n",
       "      <td>No</td>\n",
       "      <td>9.1</td>\n",
       "    </tr>\n",
       "    <tr>\n",
       "      <th>2</th>\n",
       "      <td>0004-TLHLJ</td>\n",
       "      <td>Male</td>\n",
       "      <td>0</td>\n",
       "      <td>No</td>\n",
       "      <td>No</td>\n",
       "      <td>1</td>\n",
       "      <td>2</td>\n",
       "      <td>0</td>\n",
       "      <td>Electronic check</td>\n",
       "      <td>73.90</td>\n",
       "      <td>280.85</td>\n",
       "      <td>Yes</td>\n",
       "      <td>3.8</td>\n",
       "    </tr>\n",
       "    <tr>\n",
       "      <th>3</th>\n",
       "      <td>0011-IGKFF</td>\n",
       "      <td>Male</td>\n",
       "      <td>1</td>\n",
       "      <td>Yes</td>\n",
       "      <td>No</td>\n",
       "      <td>1</td>\n",
       "      <td>2</td>\n",
       "      <td>0</td>\n",
       "      <td>Electronic check</td>\n",
       "      <td>98.00</td>\n",
       "      <td>1237.85</td>\n",
       "      <td>Yes</td>\n",
       "      <td>12.6</td>\n",
       "    </tr>\n",
       "    <tr>\n",
       "      <th>4</th>\n",
       "      <td>0013-EXCHZ</td>\n",
       "      <td>Female</td>\n",
       "      <td>1</td>\n",
       "      <td>Yes</td>\n",
       "      <td>No</td>\n",
       "      <td>1</td>\n",
       "      <td>2</td>\n",
       "      <td>0</td>\n",
       "      <td>Mailed check</td>\n",
       "      <td>83.90</td>\n",
       "      <td>267.40</td>\n",
       "      <td>Yes</td>\n",
       "      <td>3.2</td>\n",
       "    </tr>\n",
       "    <tr>\n",
       "      <th>...</th>\n",
       "      <td>...</td>\n",
       "      <td>...</td>\n",
       "      <td>...</td>\n",
       "      <td>...</td>\n",
       "      <td>...</td>\n",
       "      <td>...</td>\n",
       "      <td>...</td>\n",
       "      <td>...</td>\n",
       "      <td>...</td>\n",
       "      <td>...</td>\n",
       "      <td>...</td>\n",
       "      <td>...</td>\n",
       "      <td>...</td>\n",
       "    </tr>\n",
       "    <tr>\n",
       "      <th>7044</th>\n",
       "      <td>9987-LUTYD</td>\n",
       "      <td>Female</td>\n",
       "      <td>0</td>\n",
       "      <td>No</td>\n",
       "      <td>No</td>\n",
       "      <td>1</td>\n",
       "      <td>1</td>\n",
       "      <td>1</td>\n",
       "      <td>Mailed check</td>\n",
       "      <td>55.15</td>\n",
       "      <td>742.90</td>\n",
       "      <td>No</td>\n",
       "      <td>13.5</td>\n",
       "    </tr>\n",
       "    <tr>\n",
       "      <th>7045</th>\n",
       "      <td>9992-RRAMN</td>\n",
       "      <td>Male</td>\n",
       "      <td>0</td>\n",
       "      <td>Yes</td>\n",
       "      <td>No</td>\n",
       "      <td>2</td>\n",
       "      <td>2</td>\n",
       "      <td>0</td>\n",
       "      <td>Electronic check</td>\n",
       "      <td>85.10</td>\n",
       "      <td>1873.70</td>\n",
       "      <td>Yes</td>\n",
       "      <td>22.0</td>\n",
       "    </tr>\n",
       "    <tr>\n",
       "      <th>7046</th>\n",
       "      <td>9992-UJOEL</td>\n",
       "      <td>Male</td>\n",
       "      <td>0</td>\n",
       "      <td>No</td>\n",
       "      <td>No</td>\n",
       "      <td>1</td>\n",
       "      <td>1</td>\n",
       "      <td>0</td>\n",
       "      <td>Mailed check</td>\n",
       "      <td>50.30</td>\n",
       "      <td>92.75</td>\n",
       "      <td>No</td>\n",
       "      <td>1.8</td>\n",
       "    </tr>\n",
       "    <tr>\n",
       "      <th>7047</th>\n",
       "      <td>9993-LHIEB</td>\n",
       "      <td>Male</td>\n",
       "      <td>0</td>\n",
       "      <td>Yes</td>\n",
       "      <td>Yes</td>\n",
       "      <td>1</td>\n",
       "      <td>1</td>\n",
       "      <td>2</td>\n",
       "      <td>Mailed check</td>\n",
       "      <td>67.85</td>\n",
       "      <td>4627.65</td>\n",
       "      <td>No</td>\n",
       "      <td>68.2</td>\n",
       "    </tr>\n",
       "    <tr>\n",
       "      <th>7048</th>\n",
       "      <td>9995-HOTOH</td>\n",
       "      <td>Male</td>\n",
       "      <td>0</td>\n",
       "      <td>Yes</td>\n",
       "      <td>Yes</td>\n",
       "      <td>0</td>\n",
       "      <td>1</td>\n",
       "      <td>2</td>\n",
       "      <td>Electronic check</td>\n",
       "      <td>59.00</td>\n",
       "      <td>3707.60</td>\n",
       "      <td>No</td>\n",
       "      <td>62.8</td>\n",
       "    </tr>\n",
       "  </tbody>\n",
       "</table>\n",
       "<p>7049 rows × 13 columns</p>\n",
       "</div>"
      ],
      "text/plain": [
       "     customer_id  gender  is_senior_citizen partner dependents  phone_service  \\\n",
       "0     0002-ORFBO  Female                  0     Yes        Yes              1   \n",
       "1     0003-MKNFE    Male                  0      No         No              2   \n",
       "2     0004-TLHLJ    Male                  0      No         No              1   \n",
       "3     0011-IGKFF    Male                  1     Yes         No              1   \n",
       "4     0013-EXCHZ  Female                  1     Yes         No              1   \n",
       "...          ...     ...                ...     ...        ...            ...   \n",
       "7044  9987-LUTYD  Female                  0      No         No              1   \n",
       "7045  9992-RRAMN    Male                  0     Yes         No              2   \n",
       "7046  9992-UJOEL    Male                  0      No         No              1   \n",
       "7047  9993-LHIEB    Male                  0     Yes        Yes              1   \n",
       "7048  9995-HOTOH    Male                  0     Yes        Yes              0   \n",
       "\n",
       "      internet_service  contract_type      payment_type  monthly_charges  \\\n",
       "0                    1              1      Mailed check            65.60   \n",
       "1                    1              0      Mailed check            59.90   \n",
       "2                    2              0  Electronic check            73.90   \n",
       "3                    2              0  Electronic check            98.00   \n",
       "4                    2              0      Mailed check            83.90   \n",
       "...                ...            ...               ...              ...   \n",
       "7044                 1              1      Mailed check            55.15   \n",
       "7045                 2              0  Electronic check            85.10   \n",
       "7046                 1              0      Mailed check            50.30   \n",
       "7047                 1              2      Mailed check            67.85   \n",
       "7048                 1              2  Electronic check            59.00   \n",
       "\n",
       "      total_charges churn  tenure  \n",
       "0            593.30    No     9.0  \n",
       "1            542.40    No     9.1  \n",
       "2            280.85   Yes     3.8  \n",
       "3           1237.85   Yes    12.6  \n",
       "4            267.40   Yes     3.2  \n",
       "...             ...   ...     ...  \n",
       "7044         742.90    No    13.5  \n",
       "7045        1873.70   Yes    22.0  \n",
       "7046          92.75    No     1.8  \n",
       "7047        4627.65    No    68.2  \n",
       "7048        3707.60    No    62.8  \n",
       "\n",
       "[7049 rows x 13 columns]"
      ]
     },
     "execution_count": 3,
     "metadata": {},
     "output_type": "execute_result"
    }
   ],
   "source": [
    "telco_data = pd.read_csv(\"Fred Lindsey - jemison_spreadsheet_exercises - Table1_CustDetails.csv\")\n",
    "telco_data"
   ]
  },
  {
   "cell_type": "code",
   "execution_count": 4,
   "id": "4ed600b8",
   "metadata": {},
   "outputs": [
    {
     "name": "stdout",
     "output_type": "stream",
     "text": [
      "<class 'pandas.core.frame.DataFrame'>\n",
      "RangeIndex: 7049 entries, 0 to 7048\n",
      "Data columns (total 13 columns):\n",
      " #   Column             Non-Null Count  Dtype  \n",
      "---  ------             --------------  -----  \n",
      " 0   customer_id        7049 non-null   object \n",
      " 1   gender             7049 non-null   object \n",
      " 2   is_senior_citizen  7049 non-null   int64  \n",
      " 3   partner            7049 non-null   object \n",
      " 4   dependents         7049 non-null   object \n",
      " 5   phone_service      7049 non-null   int64  \n",
      " 6   internet_service   7049 non-null   int64  \n",
      " 7   contract_type      7049 non-null   int64  \n",
      " 8   payment_type       7049 non-null   object \n",
      " 9   monthly_charges    7049 non-null   float64\n",
      " 10  total_charges      7038 non-null   float64\n",
      " 11  churn              7049 non-null   object \n",
      " 12  tenure             7049 non-null   float64\n",
      "dtypes: float64(3), int64(4), object(6)\n",
      "memory usage: 716.0+ KB\n"
     ]
    }
   ],
   "source": [
    "telco_data.info()"
   ]
  },
  {
   "cell_type": "code",
   "execution_count": 5,
   "id": "47db833f",
   "metadata": {},
   "outputs": [
    {
     "data": {
      "text/html": [
       "<div>\n",
       "<style scoped>\n",
       "    .dataframe tbody tr th:only-of-type {\n",
       "        vertical-align: middle;\n",
       "    }\n",
       "\n",
       "    .dataframe tbody tr th {\n",
       "        vertical-align: top;\n",
       "    }\n",
       "\n",
       "    .dataframe thead th {\n",
       "        text-align: right;\n",
       "    }\n",
       "</style>\n",
       "<table border=\"1\" class=\"dataframe\">\n",
       "  <thead>\n",
       "    <tr style=\"text-align: right;\">\n",
       "      <th></th>\n",
       "      <th>0</th>\n",
       "      <th>1</th>\n",
       "    </tr>\n",
       "  </thead>\n",
       "  <tbody>\n",
       "    <tr>\n",
       "      <th>customer_id</th>\n",
       "      <td>0002-ORFBO</td>\n",
       "      <td>0003-MKNFE</td>\n",
       "    </tr>\n",
       "    <tr>\n",
       "      <th>gender</th>\n",
       "      <td>Female</td>\n",
       "      <td>Male</td>\n",
       "    </tr>\n",
       "    <tr>\n",
       "      <th>is_senior_citizen</th>\n",
       "      <td>0</td>\n",
       "      <td>0</td>\n",
       "    </tr>\n",
       "    <tr>\n",
       "      <th>partner</th>\n",
       "      <td>Yes</td>\n",
       "      <td>No</td>\n",
       "    </tr>\n",
       "    <tr>\n",
       "      <th>dependents</th>\n",
       "      <td>Yes</td>\n",
       "      <td>No</td>\n",
       "    </tr>\n",
       "    <tr>\n",
       "      <th>phone_service</th>\n",
       "      <td>1</td>\n",
       "      <td>2</td>\n",
       "    </tr>\n",
       "    <tr>\n",
       "      <th>internet_service</th>\n",
       "      <td>1</td>\n",
       "      <td>1</td>\n",
       "    </tr>\n",
       "    <tr>\n",
       "      <th>contract_type</th>\n",
       "      <td>1</td>\n",
       "      <td>0</td>\n",
       "    </tr>\n",
       "    <tr>\n",
       "      <th>payment_type</th>\n",
       "      <td>Mailed check</td>\n",
       "      <td>Mailed check</td>\n",
       "    </tr>\n",
       "    <tr>\n",
       "      <th>monthly_charges</th>\n",
       "      <td>65.6</td>\n",
       "      <td>59.9</td>\n",
       "    </tr>\n",
       "    <tr>\n",
       "      <th>total_charges</th>\n",
       "      <td>593.3</td>\n",
       "      <td>542.4</td>\n",
       "    </tr>\n",
       "    <tr>\n",
       "      <th>churn</th>\n",
       "      <td>No</td>\n",
       "      <td>No</td>\n",
       "    </tr>\n",
       "    <tr>\n",
       "      <th>tenure</th>\n",
       "      <td>9.0</td>\n",
       "      <td>9.1</td>\n",
       "    </tr>\n",
       "  </tbody>\n",
       "</table>\n",
       "</div>"
      ],
      "text/plain": [
       "                              0             1\n",
       "customer_id          0002-ORFBO    0003-MKNFE\n",
       "gender                   Female          Male\n",
       "is_senior_citizen             0             0\n",
       "partner                     Yes            No\n",
       "dependents                  Yes            No\n",
       "phone_service                 1             2\n",
       "internet_service              1             1\n",
       "contract_type                 1             0\n",
       "payment_type       Mailed check  Mailed check\n",
       "monthly_charges            65.6          59.9\n",
       "total_charges             593.3         542.4\n",
       "churn                        No            No\n",
       "tenure                      9.0           9.1"
      ]
     },
     "execution_count": 5,
     "metadata": {},
     "output_type": "execute_result"
    }
   ],
   "source": [
    "telco_data.head(2).T"
   ]
  },
  {
   "cell_type": "code",
   "execution_count": 7,
   "id": "bbcf8545",
   "metadata": {},
   "outputs": [
    {
     "data": {
      "text/plain": [
       "91637"
      ]
     },
     "execution_count": 7,
     "metadata": {},
     "output_type": "execute_result"
    }
   ],
   "source": [
    "telco_data.size"
   ]
  },
  {
   "cell_type": "markdown",
   "id": "a8eb5a53",
   "metadata": {},
   "source": [
    "## Answering the basic questions:"
   ]
  },
  {
   "cell_type": "markdown",
   "id": "74cb0fce",
   "metadata": {},
   "source": [
    "### 1. What is TELCO's churn rate?"
   ]
  },
  {
   "cell_type": "code",
   "execution_count": 48,
   "id": "0e8d56b0",
   "metadata": {},
   "outputs": [
    {
     "data": {
      "text/plain": [
       "<AxesSubplot:>"
      ]
     },
     "execution_count": 48,
     "metadata": {},
     "output_type": "execute_result"
    },
    {
     "data": {
      "image/png": "[encoded data removed]",
      "text/plain": [
       "<Figure size 432x288 with 1 Axes>"
      ]
     },
     "metadata": {
      "needs_background": "light"
     },
     "output_type": "display_data"
    }
   ],
   "source": [
    "telco_data.churn.hist()"
   ]
  },
  {
   "cell_type": "code",
   "execution_count": 12,
   "id": "97f20ef0",
   "metadata": {},
   "outputs": [
    {
     "data": {
      "text/plain": [
       "No     5179\n",
       "Yes    1870\n",
       "Name: churn, dtype: int64"
      ]
     },
     "execution_count": 12,
     "metadata": {},
     "output_type": "execute_result"
    }
   ],
   "source": [
    "telco_data.churn.value_counts()"
   ]
  },
  {
   "cell_type": "markdown",
   "id": "0b85ddcd",
   "metadata": {},
   "source": [
    "## Step 1:\n",
    "- find number of churned customers, and the percent of churned customers. Comapre to industry average:"
   ]
  },
  {
   "cell_type": "code",
   "execution_count": 41,
   "id": "6f421a1c",
   "metadata": {},
   "outputs": [
    {
     "data": {
      "text/plain": [
       "1870"
      ]
     },
     "execution_count": 41,
     "metadata": {},
     "output_type": "execute_result"
    }
   ],
   "source": [
    "telco_churn = telco_data[telco_data.churn == \"Yes\"].churn.count()\n",
    "telco_churn"
   ]
  },
  {
   "cell_type": "code",
   "execution_count": 40,
   "id": "b258bfa5",
   "metadata": {},
   "outputs": [
    {
     "data": {
      "text/plain": [
       "0.2652858561498085"
      ]
     },
     "execution_count": 40,
     "metadata": {},
     "output_type": "execute_result"
    }
   ],
   "source": [
    "telco_churn_pct = telco_data[telco_data.churn == \"Yes\"].shape[0]/len(telco_data) ## this is TELCO's churn rate\n",
    "telco_churn_pct"
   ]
  },
  {
   "cell_type": "markdown",
   "id": "ec5a5c54",
   "metadata": {},
   "source": [
    "## Takeaway:\n",
    "- TELCO's churn rate is 26.52%\n",
    "- the Telecom (Phone and Internet service) Industry average churn rate for 2022 is 21%\n",
    "(source: https://www.statista.com/statistics/816735/customer-churn-rate-by-industry-us/)\n",
    "- TELCO has a 5.5% higher churn rate than the industry average"
   ]
  },
  {
   "cell_type": "markdown",
   "id": "931b7f13",
   "metadata": {},
   "source": [
    "## Follow-up Questions:\n",
    "1. How much does this cost annually in lost revenue? (assume tenure would be the lifetime of median non-Churn accounts life, frame in yearly terms, then lifetime terms). Median tenure for non-churn\n",
    "\n",
    "2. How much does this cost annually in new customer acquisition?"
   ]
  },
  {
   "cell_type": "code",
   "execution_count": 22,
   "id": "3cc33453",
   "metadata": {},
   "outputs": [
    {
     "data": {
      "text/plain": [
       "139161.35"
      ]
     },
     "execution_count": 22,
     "metadata": {},
     "output_type": "execute_result"
    }
   ],
   "source": [
    "churn_total_monthly_charges = telco_data[telco_data.churn == 'Yes'].monthly_charges.sum()\n",
    "churn_total_monthly_charges"
   ]
  },
  {
   "cell_type": "markdown",
   "id": "340359ad",
   "metadata": {},
   "source": [
    "## Step 2:\n",
    "- find the average tenure in months of non-churned customers"
   ]
  },
  {
   "cell_type": "code",
   "execution_count": 19,
   "id": "3d0bdb6f",
   "metadata": {},
   "outputs": [
    {
     "data": {
      "text/plain": [
       "37.6"
      ]
     },
     "execution_count": 19,
     "metadata": {},
     "output_type": "execute_result"
    }
   ],
   "source": [
    "stay_tenure = telco_data[telco_data.churn == \"No\"].tenure.median()\n",
    "stay_tenure"
   ]
  },
  {
   "cell_type": "markdown",
   "id": "8e9e7f90",
   "metadata": {},
   "source": [
    "## Step 2b:\n",
    "- median tenure of accounts for churn"
   ]
  },
  {
   "cell_type": "code",
   "execution_count": 20,
   "id": "82dbe2b8",
   "metadata": {},
   "outputs": [
    {
     "data": {
      "text/plain": [
       "9.7"
      ]
     },
     "execution_count": 20,
     "metadata": {},
     "output_type": "execute_result"
    }
   ],
   "source": [
    "churn_tenure = telco_data[telco_data.churn == \"Yes\"].tenure.median()\n",
    "churn_tenure"
   ]
  },
  {
   "cell_type": "code",
   "execution_count": 21,
   "id": "16c13682",
   "metadata": {},
   "outputs": [
    {
     "data": {
      "text/plain": [
       "79.625"
      ]
     },
     "execution_count": 21,
     "metadata": {},
     "output_type": "execute_result"
    }
   ],
   "source": [
    "## median monthly revenue for non-Churn accounts\n",
    "churn_monthly_mdn_charge = telco_data[telco_data.churn == \"Yes\"].monthly_charges.median()\n",
    "churn_monthly_mdn_charge"
   ]
  },
  {
   "cell_type": "markdown",
   "id": "8804174a",
   "metadata": {},
   "source": [
    "## Step 3:\n",
    "- find annual revenue loss per churned customer (12 months - months served on contract by churned customer):"
   ]
  },
  {
   "cell_type": "code",
   "execution_count": 25,
   "id": "e390f8f1",
   "metadata": {},
   "outputs": [
    {
     "data": {
      "text/plain": [
       "183.13750000000005"
      ]
     },
     "execution_count": 25,
     "metadata": {},
     "output_type": "execute_result"
    }
   ],
   "source": [
    "annual_lost_revenue = churn_monthly_mdn_charge * (12 - churn_tenure) \n",
    "annual_lost_revenue"
   ]
  },
  {
   "cell_type": "code",
   "execution_count": 42,
   "id": "9384c2b6",
   "metadata": {},
   "outputs": [
    {
     "data": {
      "text/plain": [
       "342467.12500000006"
      ]
     },
     "execution_count": 42,
     "metadata": {},
     "output_type": "execute_result"
    }
   ],
   "source": [
    "agg_annual_lost_revenue = annual_lost_revenue * telco_churn ## annual lost revenue per churn * number of churned\n",
    "agg_annual_lost_revenue"
   ]
  },
  {
   "cell_type": "markdown",
   "id": "8640a5d7",
   "metadata": {},
   "source": [
    "## Step 4:\n",
    "- sum that number to give total churned customers lifetime revenue loss to the company"
   ]
  },
  {
   "cell_type": "code",
   "execution_count": 43,
   "id": "6fc4ac06",
   "metadata": {},
   "outputs": [
    {
     "data": {
      "text/plain": [
       "2221.5375000000004"
      ]
     },
     "execution_count": 43,
     "metadata": {},
     "output_type": "execute_result"
    }
   ],
   "source": [
    "churn_lifetime_lost_revenue = (stay_tenure - churn_tenure) * churn_monthly_mdn_charge #lifetime loss per customer\n",
    "churn_lifetime_lost_revenue"
   ]
  },
  {
   "cell_type": "code",
   "execution_count": 44,
   "id": "9b5da3af",
   "metadata": {},
   "outputs": [
    {
     "data": {
      "text/plain": [
       "4154275.1250000005"
      ]
     },
     "execution_count": 44,
     "metadata": {},
     "output_type": "execute_result"
    }
   ],
   "source": [
    "agg_churn_lifetime_lost_revenue = churn_lifetime_lost_revenue * telco_churn\n",
    "agg_churn_lifetime_lost_revenue"
   ]
  },
  {
   "cell_type": "markdown",
   "id": "cb304260",
   "metadata": {},
   "source": [
    "## Step 5:\n",
    "find average acquisition cost per new customer, and multiply by amount of customers required to replace churned customers"
   ]
  },
  {
   "cell_type": "markdown",
   "id": "8c9db079",
   "metadata": {},
   "source": [
    "- Average Cost of Customer Acquisiton:\n",
    "\n",
    "    - $315 in 2022 (https://startuptalky.com/cac-by-industry/) \n",
    "    \n",
    "    - replacing 1870 customers, at a cost of $315/ customer: $589,050\n",
    "    \n",
    "    - TELCO annual loss of revenue due to churn is: $342,467\n",
    "    "
   ]
  },
  {
   "cell_type": "markdown",
   "id": "b4389b1c",
   "metadata": {},
   "source": [
    "## Step 6:\n",
    "Sum both numbers, to give overall lost revenue total. this is the completed problem statement for the company Sales Department"
   ]
  },
  {
   "cell_type": "markdown",
   "id": "cc0b63d3",
   "metadata": {},
   "source": [
    "- Annual Total Cost:\n",
    "    \n",
    "    - annual churn cost (revenue loss + customer acquisition) = $931,517"
   ]
  },
  {
   "cell_type": "markdown",
   "id": "7a2b7b6d",
   "metadata": {},
   "source": [
    "## Step 7:\n",
    "How much does the lost revenue represent in terms of total annual revenue?\n",
    "- total revenue = avg monthly charges * 12 * count of customers to TELCO = $5,476,820.40"
   ]
  },
  {
   "cell_type": "code",
   "execution_count": 54,
   "id": "69128373",
   "metadata": {},
   "outputs": [
    {
     "data": {
      "text/plain": [
       "5476820.400000002"
      ]
     },
     "execution_count": 54,
     "metadata": {},
     "output_type": "execute_result"
    }
   ],
   "source": [
    "telco_data.monthly_charges.mean() * 12 * telco_data.customer_id.count()"
   ]
  },
  {
   "cell_type": "code",
   "execution_count": null,
   "id": "f7c6c7d7",
   "metadata": {},
   "outputs": [],
   "source": []
  }
 ],
 "metadata": {
  "kernelspec": {
   "display_name": "Python 3 (ipykernel)",
   "language": "python",
   "name": "python3"
  },
  "language_info": {
   "codemirror_mode": {
    "name": "ipython",
    "version": 3
   },
   "file_extension": ".py",
   "mimetype": "text/x-python",
   "name": "python",
   "nbconvert_exporter": "python",
   "pygments_lexer": "ipython3",
   "version": "3.9.7"
  }
 },
 "nbformat": 4,
 "nbformat_minor": 5
}
