{
 "cells": [
  {
   "cell_type": "markdown",
   "id": "6650aaf4",
   "metadata": {},
   "source": [
    "## Part 1: Define Goal, why it matters, id target variable, state initial hypotheses\n",
    "- Executives/Sales initial question: \"how many customers are churning?\", \"why are customers churning?\", \"How much revenue does that cost?\", \"How much investment is required to acquire equivalent new customers?\", \"How else could we spend this money if we better retained customers?\"\n",
    "- Opportunity cost: if we retain customers, we eliminate both revenue loss, and additional capital outlay to acquire replacement customers\n",
    "- End State: \n",
    "    - understand: \n",
    "        - TELCO churn v. Industry average churn (source? >> BLS, quarterly reports, industry journals and publications), \n",
    "        - profile of most common churning customer(age, gender, plan), \n",
    "        - identify most likely reason for churn (price, demographic), \n",
    "- DS questions: \n",
    "    - What are the drivers of customer churn?\n",
    "        - high price for certain contract types (higher than competitors)\n",
    "    - Who is churning?\n",
    "        - old? young? married? single? kids? no kids?\n",
    "    - Why does churn matter? \n",
    "        - High cost of employee acquisition and training (50-200%)\n",
    "        - Productivity: drop in overall productivity (less personnel, drop in morale for remaining employees)\n",
    "        - Snowball effect in attrition\n",
    "        - HR retention bonus for low attrition?\n",
    "    - What opportunnities exist?\n",
    "        - effective pricing through market segmentation\n",
    "            - discounts to pay electronically\n",
    "            - discounts on bundled internet and phone plans\n",
    "            - discounts on bundled phone lines\n",
    "- Target variable:\n",
    "    - churn\n",
    "- What are some interesting variables?\n",
    "    - churned customer plan (monthly, month to month, bundle) vis-a-vis price\n",
    "    - customer demographic:\n",
    "        - senior or not\n",
    "        - gender\n",
    "        - dependants or not\n",
    "        - married or not\n",
    "        - payment type\n",
    "    - age/gender/race >> culture issue?\n",
    "    - time since last promotion/raise\n",
    "    - income, then...\n",
    "    - department, by income\n",
    "- What would a minimally viable product look like?\n",
    "    - deliverable: can be:\n",
    "        - email with recs >> the simplest \n",
    "        - sldieshow\n",
    "        - ML model we deliver to engineering team to deploy live\n",
    "    - what target rate are we hitting with churn?\n",
    "    - whats the biggest story i.e. variable most correlated with churn?\n",
    "        \n",
    "     ** Source your data: "
   ]
  },
  {
   "cell_type": "code",
   "execution_count": 1,
   "id": "d91c51e1",
   "metadata": {},
   "outputs": [],
   "source": [
    "import pandas as pd\n",
    "import seaborn as sns"
   ]
  },
  {
   "cell_type": "code",
   "execution_count": 2,
   "id": "49b034d1",
   "metadata": {},
   "outputs": [
    {
     "data": {
      "text/html": [
       "<div>\n",
       "<style scoped>\n",
       "    .dataframe tbody tr th:only-of-type {\n",
       "        vertical-align: middle;\n",
       "    }\n",
       "\n",
       "    .dataframe tbody tr th {\n",
       "        vertical-align: top;\n",
       "    }\n",
       "\n",
       "    .dataframe thead th {\n",
       "        text-align: right;\n",
       "    }\n",
       "</style>\n",
       "<table border=\"1\" class=\"dataframe\">\n",
       "  <thead>\n",
       "    <tr style=\"text-align: right;\">\n",
       "      <th></th>\n",
       "      <th>customer_id</th>\n",
       "      <th>gender</th>\n",
       "      <th>is_senior_citizen</th>\n",
       "      <th>partner</th>\n",
       "      <th>dependents</th>\n",
       "      <th>phone_service</th>\n",
       "      <th>internet_service</th>\n",
       "      <th>contract_type</th>\n",
       "      <th>payment_type</th>\n",
       "      <th>monthly_charges</th>\n",
       "      <th>total_charges</th>\n",
       "      <th>churn</th>\n",
       "      <th>tenure</th>\n",
       "    </tr>\n",
       "  </thead>\n",
       "  <tbody>\n",
       "    <tr>\n",
       "      <th>0</th>\n",
       "      <td>0002-ORFBO</td>\n",
       "      <td>Female</td>\n",
       "      <td>0</td>\n",
       "      <td>Yes</td>\n",
       "      <td>Yes</td>\n",
       "      <td>1</td>\n",
       "      <td>1</td>\n",
       "      <td>1</td>\n",
       "      <td>Mailed check</td>\n",
       "      <td>65.60</td>\n",
       "      <td>593.30</td>\n",
       "      <td>No</td>\n",
       "      <td>9.0</td>\n",
       "    </tr>\n",
       "    <tr>\n",
       "      <th>1</th>\n",
       "      <td>0003-MKNFE</td>\n",
       "      <td>Male</td>\n",
       "      <td>0</td>\n",
       "      <td>No</td>\n",
       "      <td>No</td>\n",
       "      <td>2</td>\n",
       "      <td>1</td>\n",
       "      <td>0</td>\n",
       "      <td>Mailed check</td>\n",
       "      <td>59.90</td>\n",
       "      <td>542.40</td>\n",
       "      <td>No</td>\n",
       "      <td>9.1</td>\n",
       "    </tr>\n",
       "    <tr>\n",
       "      <th>2</th>\n",
       "      <td>0004-TLHLJ</td>\n",
       "      <td>Male</td>\n",
       "      <td>0</td>\n",
       "      <td>No</td>\n",
       "      <td>No</td>\n",
       "      <td>1</td>\n",
       "      <td>2</td>\n",
       "      <td>0</td>\n",
       "      <td>Electronic check</td>\n",
       "      <td>73.90</td>\n",
       "      <td>280.85</td>\n",
       "      <td>Yes</td>\n",
       "      <td>3.8</td>\n",
       "    </tr>\n",
       "    <tr>\n",
       "      <th>3</th>\n",
       "      <td>0011-IGKFF</td>\n",
       "      <td>Male</td>\n",
       "      <td>1</td>\n",
       "      <td>Yes</td>\n",
       "      <td>No</td>\n",
       "      <td>1</td>\n",
       "      <td>2</td>\n",
       "      <td>0</td>\n",
       "      <td>Electronic check</td>\n",
       "      <td>98.00</td>\n",
       "      <td>1237.85</td>\n",
       "      <td>Yes</td>\n",
       "      <td>12.6</td>\n",
       "    </tr>\n",
       "    <tr>\n",
       "      <th>4</th>\n",
       "      <td>0013-EXCHZ</td>\n",
       "      <td>Female</td>\n",
       "      <td>1</td>\n",
       "      <td>Yes</td>\n",
       "      <td>No</td>\n",
       "      <td>1</td>\n",
       "      <td>2</td>\n",
       "      <td>0</td>\n",
       "      <td>Mailed check</td>\n",
       "      <td>83.90</td>\n",
       "      <td>267.40</td>\n",
       "      <td>Yes</td>\n",
       "      <td>3.2</td>\n",
       "    </tr>\n",
       "    <tr>\n",
       "      <th>...</th>\n",
       "      <td>...</td>\n",
       "      <td>...</td>\n",
       "      <td>...</td>\n",
       "      <td>...</td>\n",
       "      <td>...</td>\n",
       "      <td>...</td>\n",
       "      <td>...</td>\n",
       "      <td>...</td>\n",
       "      <td>...</td>\n",
       "      <td>...</td>\n",
       "      <td>...</td>\n",
       "      <td>...</td>\n",
       "      <td>...</td>\n",
       "    </tr>\n",
       "    <tr>\n",
       "      <th>7044</th>\n",
       "      <td>9987-LUTYD</td>\n",
       "      <td>Female</td>\n",
       "      <td>0</td>\n",
       "      <td>No</td>\n",
       "      <td>No</td>\n",
       "      <td>1</td>\n",
       "      <td>1</td>\n",
       "      <td>1</td>\n",
       "      <td>Mailed check</td>\n",
       "      <td>55.15</td>\n",
       "      <td>742.90</td>\n",
       "      <td>No</td>\n",
       "      <td>13.5</td>\n",
       "    </tr>\n",
       "    <tr>\n",
       "      <th>7045</th>\n",
       "      <td>9992-RRAMN</td>\n",
       "      <td>Male</td>\n",
       "      <td>0</td>\n",
       "      <td>Yes</td>\n",
       "      <td>No</td>\n",
       "      <td>2</td>\n",
       "      <td>2</td>\n",
       "      <td>0</td>\n",
       "      <td>Electronic check</td>\n",
       "      <td>85.10</td>\n",
       "      <td>1873.70</td>\n",
       "      <td>Yes</td>\n",
       "      <td>22.0</td>\n",
       "    </tr>\n",
       "    <tr>\n",
       "      <th>7046</th>\n",
       "      <td>9992-UJOEL</td>\n",
       "      <td>Male</td>\n",
       "      <td>0</td>\n",
       "      <td>No</td>\n",
       "      <td>No</td>\n",
       "      <td>1</td>\n",
       "      <td>1</td>\n",
       "      <td>0</td>\n",
       "      <td>Mailed check</td>\n",
       "      <td>50.30</td>\n",
       "      <td>92.75</td>\n",
       "      <td>No</td>\n",
       "      <td>1.8</td>\n",
       "    </tr>\n",
       "    <tr>\n",
       "      <th>7047</th>\n",
       "      <td>9993-LHIEB</td>\n",
       "      <td>Male</td>\n",
       "      <td>0</td>\n",
       "      <td>Yes</td>\n",
       "      <td>Yes</td>\n",
       "      <td>1</td>\n",
       "      <td>1</td>\n",
       "      <td>2</td>\n",
       "      <td>Mailed check</td>\n",
       "      <td>67.85</td>\n",
       "      <td>4627.65</td>\n",
       "      <td>No</td>\n",
       "      <td>68.2</td>\n",
       "    </tr>\n",
       "    <tr>\n",
       "      <th>7048</th>\n",
       "      <td>9995-HOTOH</td>\n",
       "      <td>Male</td>\n",
       "      <td>0</td>\n",
       "      <td>Yes</td>\n",
       "      <td>Yes</td>\n",
       "      <td>0</td>\n",
       "      <td>1</td>\n",
       "      <td>2</td>\n",
       "      <td>Electronic check</td>\n",
       "      <td>59.00</td>\n",
       "      <td>3707.60</td>\n",
       "      <td>No</td>\n",
       "      <td>62.8</td>\n",
       "    </tr>\n",
       "  </tbody>\n",
       "</table>\n",
       "<p>7049 rows × 13 columns</p>\n",
       "</div>"
      ],
      "text/plain": [
       "     customer_id  gender  is_senior_citizen partner dependents  phone_service  \\\n",
       "0     0002-ORFBO  Female                  0     Yes        Yes              1   \n",
       "1     0003-MKNFE    Male                  0      No         No              2   \n",
       "2     0004-TLHLJ    Male                  0      No         No              1   \n",
       "3     0011-IGKFF    Male                  1     Yes         No              1   \n",
       "4     0013-EXCHZ  Female                  1     Yes         No              1   \n",
       "...          ...     ...                ...     ...        ...            ...   \n",
       "7044  9987-LUTYD  Female                  0      No         No              1   \n",
       "7045  9992-RRAMN    Male                  0     Yes         No              2   \n",
       "7046  9992-UJOEL    Male                  0      No         No              1   \n",
       "7047  9993-LHIEB    Male                  0     Yes        Yes              1   \n",
       "7048  9995-HOTOH    Male                  0     Yes        Yes              0   \n",
       "\n",
       "      internet_service  contract_type      payment_type  monthly_charges  \\\n",
       "0                    1              1      Mailed check            65.60   \n",
       "1                    1              0      Mailed check            59.90   \n",
       "2                    2              0  Electronic check            73.90   \n",
       "3                    2              0  Electronic check            98.00   \n",
       "4                    2              0      Mailed check            83.90   \n",
       "...                ...            ...               ...              ...   \n",
       "7044                 1              1      Mailed check            55.15   \n",
       "7045                 2              0  Electronic check            85.10   \n",
       "7046                 1              0      Mailed check            50.30   \n",
       "7047                 1              2      Mailed check            67.85   \n",
       "7048                 1              2  Electronic check            59.00   \n",
       "\n",
       "      total_charges churn  tenure  \n",
       "0            593.30    No     9.0  \n",
       "1            542.40    No     9.1  \n",
       "2            280.85   Yes     3.8  \n",
       "3           1237.85   Yes    12.6  \n",
       "4            267.40   Yes     3.2  \n",
       "...             ...   ...     ...  \n",
       "7044         742.90    No    13.5  \n",
       "7045        1873.70   Yes    22.0  \n",
       "7046          92.75    No     1.8  \n",
       "7047        4627.65    No    68.2  \n",
       "7048        3707.60    No    62.8  \n",
       "\n",
       "[7049 rows x 13 columns]"
      ]
     },
     "execution_count": 2,
     "metadata": {},
     "output_type": "execute_result"
    }
   ],
   "source": [
    "telco_data = pd.read_csv(\"Fred Lindsey - jemison_spreadsheet_exercises - Table1_CustDetails.csv\")\n",
    "telco_data\n",
    "#telco_data.to_csv"
   ]
  },
  {
   "cell_type": "code",
   "execution_count": 3,
   "id": "cbc525eb",
   "metadata": {},
   "outputs": [
    {
     "name": "stdout",
     "output_type": "stream",
     "text": [
      "<class 'pandas.core.frame.DataFrame'>\n",
      "RangeIndex: 7049 entries, 0 to 7048\n",
      "Data columns (total 13 columns):\n",
      " #   Column             Non-Null Count  Dtype  \n",
      "---  ------             --------------  -----  \n",
      " 0   customer_id        7049 non-null   object \n",
      " 1   gender             7049 non-null   object \n",
      " 2   is_senior_citizen  7049 non-null   int64  \n",
      " 3   partner            7049 non-null   object \n",
      " 4   dependents         7049 non-null   object \n",
      " 5   phone_service      7049 non-null   int64  \n",
      " 6   internet_service   7049 non-null   int64  \n",
      " 7   contract_type      7049 non-null   int64  \n",
      " 8   payment_type       7049 non-null   object \n",
      " 9   monthly_charges    7049 non-null   float64\n",
      " 10  total_charges      7038 non-null   float64\n",
      " 11  churn              7049 non-null   object \n",
      " 12  tenure             7049 non-null   float64\n",
      "dtypes: float64(3), int64(4), object(6)\n",
      "memory usage: 716.0+ KB\n"
     ]
    }
   ],
   "source": [
    "telco_data.info()"
   ]
  },
  {
   "cell_type": "code",
   "execution_count": 4,
   "id": "bb7254bc",
   "metadata": {},
   "outputs": [
    {
     "data": {
      "text/html": [
       "<div>\n",
       "<style scoped>\n",
       "    .dataframe tbody tr th:only-of-type {\n",
       "        vertical-align: middle;\n",
       "    }\n",
       "\n",
       "    .dataframe tbody tr th {\n",
       "        vertical-align: top;\n",
       "    }\n",
       "\n",
       "    .dataframe thead th {\n",
       "        text-align: right;\n",
       "    }\n",
       "</style>\n",
       "<table border=\"1\" class=\"dataframe\">\n",
       "  <thead>\n",
       "    <tr style=\"text-align: right;\">\n",
       "      <th></th>\n",
       "      <th>0</th>\n",
       "      <th>1</th>\n",
       "    </tr>\n",
       "  </thead>\n",
       "  <tbody>\n",
       "    <tr>\n",
       "      <th>customer_id</th>\n",
       "      <td>0002-ORFBO</td>\n",
       "      <td>0003-MKNFE</td>\n",
       "    </tr>\n",
       "    <tr>\n",
       "      <th>gender</th>\n",
       "      <td>Female</td>\n",
       "      <td>Male</td>\n",
       "    </tr>\n",
       "    <tr>\n",
       "      <th>is_senior_citizen</th>\n",
       "      <td>0</td>\n",
       "      <td>0</td>\n",
       "    </tr>\n",
       "    <tr>\n",
       "      <th>partner</th>\n",
       "      <td>Yes</td>\n",
       "      <td>No</td>\n",
       "    </tr>\n",
       "    <tr>\n",
       "      <th>dependents</th>\n",
       "      <td>Yes</td>\n",
       "      <td>No</td>\n",
       "    </tr>\n",
       "    <tr>\n",
       "      <th>phone_service</th>\n",
       "      <td>1</td>\n",
       "      <td>2</td>\n",
       "    </tr>\n",
       "    <tr>\n",
       "      <th>internet_service</th>\n",
       "      <td>1</td>\n",
       "      <td>1</td>\n",
       "    </tr>\n",
       "    <tr>\n",
       "      <th>contract_type</th>\n",
       "      <td>1</td>\n",
       "      <td>0</td>\n",
       "    </tr>\n",
       "    <tr>\n",
       "      <th>payment_type</th>\n",
       "      <td>Mailed check</td>\n",
       "      <td>Mailed check</td>\n",
       "    </tr>\n",
       "    <tr>\n",
       "      <th>monthly_charges</th>\n",
       "      <td>65.6</td>\n",
       "      <td>59.9</td>\n",
       "    </tr>\n",
       "    <tr>\n",
       "      <th>total_charges</th>\n",
       "      <td>593.3</td>\n",
       "      <td>542.4</td>\n",
       "    </tr>\n",
       "    <tr>\n",
       "      <th>churn</th>\n",
       "      <td>No</td>\n",
       "      <td>No</td>\n",
       "    </tr>\n",
       "    <tr>\n",
       "      <th>tenure</th>\n",
       "      <td>9.0</td>\n",
       "      <td>9.1</td>\n",
       "    </tr>\n",
       "  </tbody>\n",
       "</table>\n",
       "</div>"
      ],
      "text/plain": [
       "                              0             1\n",
       "customer_id          0002-ORFBO    0003-MKNFE\n",
       "gender                   Female          Male\n",
       "is_senior_citizen             0             0\n",
       "partner                     Yes            No\n",
       "dependents                  Yes            No\n",
       "phone_service                 1             2\n",
       "internet_service              1             1\n",
       "contract_type                 1             0\n",
       "payment_type       Mailed check  Mailed check\n",
       "monthly_charges            65.6          59.9\n",
       "total_charges             593.3         542.4\n",
       "churn                        No            No\n",
       "tenure                      9.0           9.1"
      ]
     },
     "execution_count": 4,
     "metadata": {},
     "output_type": "execute_result"
    }
   ],
   "source": [
    "telco_data.head(2).T"
   ]
  },
  {
   "cell_type": "code",
   "execution_count": 5,
   "id": "95cf09c6",
   "metadata": {},
   "outputs": [
    {
     "data": {
      "text/plain": [
       "91637"
      ]
     },
     "execution_count": 5,
     "metadata": {},
     "output_type": "execute_result"
    }
   ],
   "source": [
    "telco_data.size"
   ]
  },
  {
   "cell_type": "markdown",
   "id": "bb814196",
   "metadata": {},
   "source": [
    "## Answering the basic questions:"
   ]
  },
  {
   "cell_type": "markdown",
   "id": "9fcc86a9",
   "metadata": {},
   "source": [
    "### 1. What is TELCO's churn rate?"
   ]
  },
  {
   "cell_type": "markdown",
   "id": "3d7d3c76",
   "metadata": {},
   "source": [
    "### 2. How much is it costing the company annually?"
   ]
  },
  {
   "cell_type": "code",
   "execution_count": 6,
   "id": "ea312553",
   "metadata": {},
   "outputs": [
    {
     "data": {
      "text/plain": [
       "<AxesSubplot:>"
      ]
     },
     "execution_count": 6,
     "metadata": {},
     "output_type": "execute_result"
    },
    {
     "data": {
      "image/png": "[encoded data removed]",
      "text/plain": [
       "<Figure size 432x288 with 1 Axes>"
      ]
     },
     "metadata": {
      "needs_background": "light"
     },
     "output_type": "display_data"
    }
   ],
   "source": [
    "telco_data.churn.hist()"
   ]
  },
  {
   "cell_type": "code",
   "execution_count": 7,
   "id": "11cc3480",
   "metadata": {},
   "outputs": [
    {
     "data": {
      "text/plain": [
       "No     5179\n",
       "Yes    1870\n",
       "Name: churn, dtype: int64"
      ]
     },
     "execution_count": 7,
     "metadata": {},
     "output_type": "execute_result"
    }
   ],
   "source": [
    "telco_data.churn.value_counts()"
   ]
  },
  {
   "cell_type": "markdown",
   "id": "73892d38",
   "metadata": {},
   "source": [
    "## Step 1:\n",
    "- find number of churned customers, and the percent of churned customers. Comapre to industry average:"
   ]
  },
  {
   "cell_type": "code",
   "execution_count": 8,
   "id": "4a822b3e",
   "metadata": {},
   "outputs": [
    {
     "data": {
      "text/plain": [
       "1870"
      ]
     },
     "execution_count": 8,
     "metadata": {},
     "output_type": "execute_result"
    }
   ],
   "source": [
    "telco_churn = telco_data[telco_data.churn == \"Yes\"].churn.count()\n",
    "telco_churn"
   ]
  },
  {
   "cell_type": "code",
   "execution_count": 9,
   "id": "9aeaf24d",
   "metadata": {},
   "outputs": [
    {
     "data": {
      "text/plain": [
       "0.2652858561498085"
      ]
     },
     "execution_count": 9,
     "metadata": {},
     "output_type": "execute_result"
    }
   ],
   "source": [
    "telco_churn_pct = telco_data[telco_data.churn == \"Yes\"].shape[0]/len(telco_data) ## this is TELCO's churn rate\n",
    "telco_churn_pct"
   ]
  },
  {
   "cell_type": "markdown",
   "id": "2fc3c91d",
   "metadata": {},
   "source": [
    "## Takeaway:\n",
    "- TELCO's churn rate is 26.53%\n",
    "- the Telecom (Phone and Internet service) Industry average churn rate for 2022 is 21%\n",
    "(source: https://www.statista.com/statistics/816735/customer-churn-rate-by-industry-us/)\n",
    "- TELCO has a 5.5% higher churn rate than the industry average"
   ]
  },
  {
   "cell_type": "code",
   "execution_count": 10,
   "id": "7e2a18a4",
   "metadata": {},
   "outputs": [
    {
     "data": {
      "text/plain": [
       "139161.35"
      ]
     },
     "execution_count": 10,
     "metadata": {},
     "output_type": "execute_result"
    }
   ],
   "source": [
    "churn_total_monthly_charges = telco_data[telco_data.churn == 'Yes'].monthly_charges.sum()\n",
    "churn_total_monthly_charges"
   ]
  },
  {
   "cell_type": "markdown",
   "id": "dfa2fd28",
   "metadata": {},
   "source": [
    "## Step 2:\n",
    "- find the median tenure in months of non-churned customers"
   ]
  },
  {
   "cell_type": "code",
   "execution_count": 11,
   "id": "64f6bac5",
   "metadata": {},
   "outputs": [
    {
     "data": {
      "text/plain": [
       "37.6"
      ]
     },
     "execution_count": 11,
     "metadata": {},
     "output_type": "execute_result"
    }
   ],
   "source": [
    "stay_tenure = telco_data[telco_data.churn == \"No\"].tenure.median()\n",
    "stay_tenure"
   ]
  },
  {
   "cell_type": "markdown",
   "id": "92a231d7",
   "metadata": {},
   "source": [
    "## Step 2b:\n",
    "- median tenure of accounts for churn"
   ]
  },
  {
   "cell_type": "code",
   "execution_count": 12,
   "id": "17f8daf2",
   "metadata": {},
   "outputs": [
    {
     "data": {
      "text/plain": [
       "9.7"
      ]
     },
     "execution_count": 12,
     "metadata": {},
     "output_type": "execute_result"
    }
   ],
   "source": [
    "churn_tenure = telco_data[telco_data.churn == \"Yes\"].tenure.median()\n",
    "churn_tenure"
   ]
  },
  {
   "cell_type": "code",
   "execution_count": 13,
   "id": "b74a4515",
   "metadata": {},
   "outputs": [
    {
     "data": {
      "text/plain": [
       "79.625"
      ]
     },
     "execution_count": 13,
     "metadata": {},
     "output_type": "execute_result"
    }
   ],
   "source": [
    "## median monthly revenue for non-Churn accounts\n",
    "churn_monthly_mdn_charge = telco_data[telco_data.churn == \"Yes\"].monthly_charges.median()\n",
    "churn_monthly_mdn_charge"
   ]
  },
  {
   "cell_type": "code",
   "execution_count": 14,
   "id": "3bb27b9d",
   "metadata": {},
   "outputs": [
    {
     "data": {
      "text/plain": [
       "64.4"
      ]
     },
     "execution_count": 14,
     "metadata": {},
     "output_type": "execute_result"
    }
   ],
   "source": [
    "stay_monthly_mdn_charge = telco_data[telco_data.churn == \"No\"].monthly_charges.median()\n",
    "stay_monthly_mdn_charge"
   ]
  },
  {
   "cell_type": "markdown",
   "id": "7edc330c",
   "metadata": {},
   "source": [
    "## Step 3:\n",
    "- find annual revenue loss per churned customer (12 months - months served on contract by churned customer):"
   ]
  },
  {
   "cell_type": "code",
   "execution_count": 15,
   "id": "9638f11e",
   "metadata": {},
   "outputs": [
    {
     "data": {
      "text/plain": [
       "183.13750000000005"
      ]
     },
     "execution_count": 15,
     "metadata": {},
     "output_type": "execute_result"
    }
   ],
   "source": [
    "annual_lost_revenue = churn_monthly_mdn_charge * (12 - churn_tenure) \n",
    "annual_lost_revenue"
   ]
  },
  {
   "cell_type": "code",
   "execution_count": 16,
   "id": "afa7bc4d",
   "metadata": {},
   "outputs": [
    {
     "data": {
      "text/plain": [
       "342467.12500000006"
      ]
     },
     "execution_count": 16,
     "metadata": {},
     "output_type": "execute_result"
    }
   ],
   "source": [
    "agg_annual_lost_revenue = annual_lost_revenue * telco_churn ## annual lost revenue per churn * number of churned\n",
    "agg_annual_lost_revenue"
   ]
  },
  {
   "cell_type": "markdown",
   "id": "9e02e859",
   "metadata": {},
   "source": [
    "## Step 4:\n",
    "- sum that number to give total churned customers lifetime revenue loss to the company"
   ]
  },
  {
   "cell_type": "code",
   "execution_count": 17,
   "id": "bf77512b",
   "metadata": {},
   "outputs": [
    {
     "data": {
      "text/plain": [
       "2221.5375000000004"
      ]
     },
     "execution_count": 17,
     "metadata": {},
     "output_type": "execute_result"
    }
   ],
   "source": [
    "churn_lifetime_lost_revenue = (stay_tenure - churn_tenure) * churn_monthly_mdn_charge #lifetime loss per customer\n",
    "churn_lifetime_lost_revenue"
   ]
  },
  {
   "cell_type": "code",
   "execution_count": 18,
   "id": "a2c5a711",
   "metadata": {},
   "outputs": [
    {
     "data": {
      "text/plain": [
       "4154275.1250000005"
      ]
     },
     "execution_count": 18,
     "metadata": {},
     "output_type": "execute_result"
    }
   ],
   "source": [
    "agg_churn_lifetime_lost_revenue = churn_lifetime_lost_revenue * telco_churn\n",
    "agg_churn_lifetime_lost_revenue"
   ]
  },
  {
   "cell_type": "markdown",
   "id": "6ff6633c",
   "metadata": {},
   "source": [
    "## Step 5:\n",
    "find average acquisition cost per new customer, and multiply by amount of customers required to replace churned customers"
   ]
  },
  {
   "cell_type": "markdown",
   "id": "e634bfd2",
   "metadata": {},
   "source": [
    "- Average Cost of Customer Acquisiton:\n",
    "\n",
    "    - $315 in 2022 (https://startuptalky.com/cac-by-industry/) \n",
    "    \n",
    "    - replacing 1870 customers, at a cost of $315/ customer: $589,050\n",
    "    \n",
    "    - TELCO annual loss of revenue due to churn is: $342,467\n",
    "    "
   ]
  },
  {
   "cell_type": "markdown",
   "id": "37d6ac73",
   "metadata": {},
   "source": [
    "## Step 6:\n",
    "Sum both numbers, to give overall lost revenue total. this is the completed problem statement for the company Sales Department"
   ]
  },
  {
   "cell_type": "markdown",
   "id": "515086fc",
   "metadata": {},
   "source": [
    "- Annual Total Cost:\n",
    "    \n",
    "    - annual churn cost (revenue loss + customer acquisition) = $931,517"
   ]
  },
  {
   "cell_type": "markdown",
   "id": "30e48464",
   "metadata": {},
   "source": [
    "## Step 7:\n",
    "How much does the lost revenue represent in terms of total annual revenue?\n",
    "- total revenue = avg monthly charges * 12 * count of customers to TELCO = $5,476,820.40"
   ]
  },
  {
   "cell_type": "code",
   "execution_count": 19,
   "id": "24dc0f65",
   "metadata": {},
   "outputs": [
    {
     "data": {
      "text/plain": [
       "5476820.400000002"
      ]
     },
     "execution_count": 19,
     "metadata": {},
     "output_type": "execute_result"
    }
   ],
   "source": [
    "telco_data.monthly_charges.mean() * 12 * telco_data.customer_id.count()"
   ]
  },
  {
   "cell_type": "code",
   "execution_count": 20,
   "id": "c9f5aeb3",
   "metadata": {},
   "outputs": [
    {
     "data": {
      "text/plain": [
       "0.17008353971220228"
      ]
     },
     "execution_count": 20,
     "metadata": {},
     "output_type": "execute_result"
    }
   ],
   "source": [
    "931517/5476820.400000002"
   ]
  },
  {
   "cell_type": "markdown",
   "id": "08dca441",
   "metadata": {},
   "source": [
    "## Part 1 Takeaways:"
   ]
  },
  {
   "cell_type": "markdown",
   "id": "79de7c91",
   "metadata": {},
   "source": [
    "- TELCO's annual revenue is $5.5 mn"
   ]
  },
  {
   "cell_type": "markdown",
   "id": "72a35a2b",
   "metadata": {},
   "source": [
    "- Lost revenue due to churn is equivalent to 17% of TELCO's annual revenue, or roughly $930k"
   ]
  },
  {
   "cell_type": "markdown",
   "id": "02f4d10d",
   "metadata": {},
   "source": [
    "- Additionally, lost lifetime revenue from churned customers is >$4 mn."
   ]
  },
  {
   "cell_type": "markdown",
   "id": "6d33f77c",
   "metadata": {},
   "source": [
    "## Part 2: Get to know your Data at a high level\n",
    "- Histograms and value counts of our target variable, and variables of interest\n",
    "- Determine if we have any missing values\n",
    "    - ** general guideline:\n",
    "    - if you're doing any ML, split the data before exploring\n",
    "    - if youre looking at how x and y move together, we need to operate on the `train` dataset\n",
    "- check your datasource for a Data Dictionary\n",
    "- check the value counts or a histogram of your target variable\n",
    "- check for nulls and handle them\n",
    "- \"What do we know about the people who left?\""
   ]
  },
  {
   "cell_type": "code",
   "execution_count": 21,
   "id": "0d848a14",
   "metadata": {},
   "outputs": [],
   "source": [
    "import seaborn as sns\n",
    "import matplotlib.pyplot as plt\n",
    "import pandas as pd"
   ]
  },
  {
   "cell_type": "code",
   "execution_count": 22,
   "id": "a821c983",
   "metadata": {},
   "outputs": [
    {
     "name": "stdout",
     "output_type": "stream",
     "text": [
      "<class 'pandas.core.frame.DataFrame'>\n",
      "RangeIndex: 7049 entries, 0 to 7048\n",
      "Data columns (total 13 columns):\n",
      " #   Column             Non-Null Count  Dtype  \n",
      "---  ------             --------------  -----  \n",
      " 0   customer_id        7049 non-null   object \n",
      " 1   gender             7049 non-null   object \n",
      " 2   is_senior_citizen  7049 non-null   int64  \n",
      " 3   partner            7049 non-null   object \n",
      " 4   dependents         7049 non-null   object \n",
      " 5   phone_service      7049 non-null   int64  \n",
      " 6   internet_service   7049 non-null   int64  \n",
      " 7   contract_type      7049 non-null   int64  \n",
      " 8   payment_type       7049 non-null   object \n",
      " 9   monthly_charges    7049 non-null   float64\n",
      " 10  total_charges      7038 non-null   float64\n",
      " 11  churn              7049 non-null   object \n",
      " 12  tenure             7049 non-null   float64\n",
      "dtypes: float64(3), int64(4), object(6)\n",
      "memory usage: 716.0+ KB\n"
     ]
    }
   ],
   "source": [
    "telco_data.info()"
   ]
  },
  {
   "cell_type": "code",
   "execution_count": 23,
   "id": "7efd8fc3",
   "metadata": {},
   "outputs": [
    {
     "data": {
      "text/plain": [
       "<AxesSubplot:>"
      ]
     },
     "execution_count": 23,
     "metadata": {},
     "output_type": "execute_result"
    },
    {
     "data": {
      "image/png": "[encoded data removed]",
      "text/plain": [
       "<Figure size 432x288 with 1 Axes>"
      ]
     },
     "metadata": {
      "needs_background": "light"
     },
     "output_type": "display_data"
    }
   ],
   "source": [
    "telco_data.internet_service.hist()"
   ]
  },
  {
   "cell_type": "code",
   "execution_count": 24,
   "id": "11805baf",
   "metadata": {},
   "outputs": [
    {
     "data": {
      "text/plain": [
       "<AxesSubplot:xlabel='churn', ylabel='Count'>"
      ]
     },
     "execution_count": 24,
     "metadata": {},
     "output_type": "execute_result"
    },
    {
     "data": {
      "image/png": "[encoded data removed]",
      "text/plain": [
       "<Figure size 432x288 with 1 Axes>"
      ]
     },
     "metadata": {
      "needs_background": "light"
     },
     "output_type": "display_data"
    }
   ],
   "source": [
    "sns.histplot(data = telco_data.churn)"
   ]
  },
  {
   "cell_type": "code",
   "execution_count": 25,
   "id": "e7f44822",
   "metadata": {},
   "outputs": [
    {
     "data": {
      "text/plain": [
       "<AxesSubplot:xlabel='churn', ylabel='monthly_charges'>"
      ]
     },
     "execution_count": 25,
     "metadata": {},
     "output_type": "execute_result"
    },
    {
     "data": {
      "image/png": "[encoded data removed]",
      "text/plain": [
       "<Figure size 432x288 with 1 Axes>"
      ]
     },
     "metadata": {
      "needs_background": "light"
     },
     "output_type": "display_data"
    }
   ],
   "source": [
    "# Is churn dependant higher monthly prices?\n",
    "sns.barplot(x = \"churn\", y = \"monthly_charges\", data = telco_data)"
   ]
  },
  {
   "cell_type": "code",
   "execution_count": 26,
   "id": "42b37247",
   "metadata": {},
   "outputs": [
    {
     "data": {
      "text/html": [
       "<div>\n",
       "<style scoped>\n",
       "    .dataframe tbody tr th:only-of-type {\n",
       "        vertical-align: middle;\n",
       "    }\n",
       "\n",
       "    .dataframe tbody tr th {\n",
       "        vertical-align: top;\n",
       "    }\n",
       "\n",
       "    .dataframe thead th {\n",
       "        text-align: right;\n",
       "    }\n",
       "</style>\n",
       "<table border=\"1\" class=\"dataframe\">\n",
       "  <thead>\n",
       "    <tr style=\"text-align: right;\">\n",
       "      <th></th>\n",
       "      <th>customer_id</th>\n",
       "      <th>gender</th>\n",
       "      <th>is_senior_citizen</th>\n",
       "      <th>partner</th>\n",
       "      <th>dependents</th>\n",
       "      <th>phone_service</th>\n",
       "      <th>internet_service</th>\n",
       "      <th>contract_type</th>\n",
       "      <th>payment_type</th>\n",
       "      <th>monthly_charges</th>\n",
       "      <th>total_charges</th>\n",
       "      <th>churn</th>\n",
       "      <th>tenure</th>\n",
       "    </tr>\n",
       "  </thead>\n",
       "  <tbody>\n",
       "    <tr>\n",
       "      <th>1945</th>\n",
       "      <td>2823-LKABH</td>\n",
       "      <td>Female</td>\n",
       "      <td>0</td>\n",
       "      <td>No</td>\n",
       "      <td>No</td>\n",
       "      <td>2</td>\n",
       "      <td>2</td>\n",
       "      <td>0</td>\n",
       "      <td>Bank transfer (automatic)</td>\n",
       "      <td>95.05</td>\n",
       "      <td>1679.40</td>\n",
       "      <td>No</td>\n",
       "      <td>17.7</td>\n",
       "    </tr>\n",
       "    <tr>\n",
       "      <th>6027</th>\n",
       "      <td>8532-UEFWH</td>\n",
       "      <td>Male</td>\n",
       "      <td>0</td>\n",
       "      <td>Yes</td>\n",
       "      <td>Yes</td>\n",
       "      <td>2</td>\n",
       "      <td>0</td>\n",
       "      <td>2</td>\n",
       "      <td>Mailed check</td>\n",
       "      <td>25.75</td>\n",
       "      <td>1345.85</td>\n",
       "      <td>No</td>\n",
       "      <td>52.3</td>\n",
       "    </tr>\n",
       "    <tr>\n",
       "      <th>2465</th>\n",
       "      <td>3525-DVKFN</td>\n",
       "      <td>Female</td>\n",
       "      <td>0</td>\n",
       "      <td>No</td>\n",
       "      <td>No</td>\n",
       "      <td>1</td>\n",
       "      <td>0</td>\n",
       "      <td>2</td>\n",
       "      <td>Mailed check</td>\n",
       "      <td>19.40</td>\n",
       "      <td>358.05</td>\n",
       "      <td>No</td>\n",
       "      <td>18.5</td>\n",
       "    </tr>\n",
       "    <tr>\n",
       "      <th>435</th>\n",
       "      <td>0637-UBJRP</td>\n",
       "      <td>Male</td>\n",
       "      <td>0</td>\n",
       "      <td>Yes</td>\n",
       "      <td>Yes</td>\n",
       "      <td>1</td>\n",
       "      <td>2</td>\n",
       "      <td>0</td>\n",
       "      <td>Electronic check</td>\n",
       "      <td>84.05</td>\n",
       "      <td>1095.30</td>\n",
       "      <td>Yes</td>\n",
       "      <td>13.0</td>\n",
       "    </tr>\n",
       "    <tr>\n",
       "      <th>6750</th>\n",
       "      <td>9581-GVBXT</td>\n",
       "      <td>Male</td>\n",
       "      <td>0</td>\n",
       "      <td>Yes</td>\n",
       "      <td>Yes</td>\n",
       "      <td>0</td>\n",
       "      <td>1</td>\n",
       "      <td>1</td>\n",
       "      <td>Mailed check</td>\n",
       "      <td>34.80</td>\n",
       "      <td>1980.30</td>\n",
       "      <td>No</td>\n",
       "      <td>56.9</td>\n",
       "    </tr>\n",
       "    <tr>\n",
       "      <th>3450</th>\n",
       "      <td>4891-NLUBA</td>\n",
       "      <td>Female</td>\n",
       "      <td>0</td>\n",
       "      <td>Yes</td>\n",
       "      <td>Yes</td>\n",
       "      <td>0</td>\n",
       "      <td>1</td>\n",
       "      <td>2</td>\n",
       "      <td>Bank transfer (automatic)</td>\n",
       "      <td>61.45</td>\n",
       "      <td>3751.15</td>\n",
       "      <td>No</td>\n",
       "      <td>61.0</td>\n",
       "    </tr>\n",
       "    <tr>\n",
       "      <th>5746</th>\n",
       "      <td>8084-OIVBS</td>\n",
       "      <td>Female</td>\n",
       "      <td>0</td>\n",
       "      <td>No</td>\n",
       "      <td>No</td>\n",
       "      <td>1</td>\n",
       "      <td>0</td>\n",
       "      <td>1</td>\n",
       "      <td>Mailed check</td>\n",
       "      <td>20.00</td>\n",
       "      <td>211.95</td>\n",
       "      <td>No</td>\n",
       "      <td>10.6</td>\n",
       "    </tr>\n",
       "    <tr>\n",
       "      <th>4990</th>\n",
       "      <td>7016-NVRIC</td>\n",
       "      <td>Male</td>\n",
       "      <td>1</td>\n",
       "      <td>Yes</td>\n",
       "      <td>No</td>\n",
       "      <td>1</td>\n",
       "      <td>2</td>\n",
       "      <td>1</td>\n",
       "      <td>Bank transfer (automatic)</td>\n",
       "      <td>90.10</td>\n",
       "      <td>2656.70</td>\n",
       "      <td>No</td>\n",
       "      <td>29.5</td>\n",
       "    </tr>\n",
       "    <tr>\n",
       "      <th>5324</th>\n",
       "      <td>7520-HQWJU</td>\n",
       "      <td>Female</td>\n",
       "      <td>0</td>\n",
       "      <td>Yes</td>\n",
       "      <td>Yes</td>\n",
       "      <td>2</td>\n",
       "      <td>1</td>\n",
       "      <td>0</td>\n",
       "      <td>Bank transfer (automatic)</td>\n",
       "      <td>67.45</td>\n",
       "      <td>4508.65</td>\n",
       "      <td>No</td>\n",
       "      <td>66.8</td>\n",
       "    </tr>\n",
       "    <tr>\n",
       "      <th>2609</th>\n",
       "      <td>3720-DBRWL</td>\n",
       "      <td>Male</td>\n",
       "      <td>0</td>\n",
       "      <td>Yes</td>\n",
       "      <td>No</td>\n",
       "      <td>1</td>\n",
       "      <td>1</td>\n",
       "      <td>2</td>\n",
       "      <td>Credit card (automatic)</td>\n",
       "      <td>83.85</td>\n",
       "      <td>4307.10</td>\n",
       "      <td>No</td>\n",
       "      <td>51.4</td>\n",
       "    </tr>\n",
       "    <tr>\n",
       "      <th>6094</th>\n",
       "      <td>8631-NBHFZ</td>\n",
       "      <td>Male</td>\n",
       "      <td>1</td>\n",
       "      <td>Yes</td>\n",
       "      <td>Yes</td>\n",
       "      <td>2</td>\n",
       "      <td>1</td>\n",
       "      <td>2</td>\n",
       "      <td>Credit card (automatic)</td>\n",
       "      <td>79.40</td>\n",
       "      <td>5154.60</td>\n",
       "      <td>Yes</td>\n",
       "      <td>64.9</td>\n",
       "    </tr>\n",
       "    <tr>\n",
       "      <th>4499</th>\n",
       "      <td>6345-HOVES</td>\n",
       "      <td>Male</td>\n",
       "      <td>0</td>\n",
       "      <td>No</td>\n",
       "      <td>No</td>\n",
       "      <td>0</td>\n",
       "      <td>1</td>\n",
       "      <td>0</td>\n",
       "      <td>Bank transfer (automatic)</td>\n",
       "      <td>25.05</td>\n",
       "      <td>852.70</td>\n",
       "      <td>No</td>\n",
       "      <td>34.0</td>\n",
       "    </tr>\n",
       "    <tr>\n",
       "      <th>6970</th>\n",
       "      <td>9891-NQDBD</td>\n",
       "      <td>Female</td>\n",
       "      <td>0</td>\n",
       "      <td>Yes</td>\n",
       "      <td>No</td>\n",
       "      <td>2</td>\n",
       "      <td>0</td>\n",
       "      <td>1</td>\n",
       "      <td>Mailed check</td>\n",
       "      <td>25.55</td>\n",
       "      <td>672.20</td>\n",
       "      <td>No</td>\n",
       "      <td>26.3</td>\n",
       "    </tr>\n",
       "    <tr>\n",
       "      <th>2897</th>\n",
       "      <td>4128-ETESU</td>\n",
       "      <td>Female</td>\n",
       "      <td>1</td>\n",
       "      <td>Yes</td>\n",
       "      <td>No</td>\n",
       "      <td>2</td>\n",
       "      <td>2</td>\n",
       "      <td>0</td>\n",
       "      <td>Electronic check</td>\n",
       "      <td>99.70</td>\n",
       "      <td>4747.20</td>\n",
       "      <td>No</td>\n",
       "      <td>47.6</td>\n",
       "    </tr>\n",
       "    <tr>\n",
       "      <th>6151</th>\n",
       "      <td>8714-CTZJW</td>\n",
       "      <td>Female</td>\n",
       "      <td>0</td>\n",
       "      <td>No</td>\n",
       "      <td>No</td>\n",
       "      <td>1</td>\n",
       "      <td>2</td>\n",
       "      <td>0</td>\n",
       "      <td>Credit card (automatic)</td>\n",
       "      <td>82.85</td>\n",
       "      <td>319.60</td>\n",
       "      <td>No</td>\n",
       "      <td>3.9</td>\n",
       "    </tr>\n",
       "    <tr>\n",
       "      <th>3785</th>\n",
       "      <td>5322-ZSMZY</td>\n",
       "      <td>Male</td>\n",
       "      <td>0</td>\n",
       "      <td>Yes</td>\n",
       "      <td>Yes</td>\n",
       "      <td>2</td>\n",
       "      <td>0</td>\n",
       "      <td>2</td>\n",
       "      <td>Mailed check</td>\n",
       "      <td>25.75</td>\n",
       "      <td>755.60</td>\n",
       "      <td>No</td>\n",
       "      <td>29.3</td>\n",
       "    </tr>\n",
       "    <tr>\n",
       "      <th>522</th>\n",
       "      <td>0761-AETCS</td>\n",
       "      <td>Female</td>\n",
       "      <td>0</td>\n",
       "      <td>No</td>\n",
       "      <td>No</td>\n",
       "      <td>1</td>\n",
       "      <td>0</td>\n",
       "      <td>0</td>\n",
       "      <td>Electronic check</td>\n",
       "      <td>19.30</td>\n",
       "      <td>19.30</td>\n",
       "      <td>Yes</td>\n",
       "      <td>1.0</td>\n",
       "    </tr>\n",
       "    <tr>\n",
       "      <th>6687</th>\n",
       "      <td>9501-UKKNL</td>\n",
       "      <td>Male</td>\n",
       "      <td>0</td>\n",
       "      <td>No</td>\n",
       "      <td>No</td>\n",
       "      <td>0</td>\n",
       "      <td>1</td>\n",
       "      <td>0</td>\n",
       "      <td>Electronic check</td>\n",
       "      <td>51.70</td>\n",
       "      <td>3005.80</td>\n",
       "      <td>No</td>\n",
       "      <td>58.1</td>\n",
       "    </tr>\n",
       "    <tr>\n",
       "      <th>2108</th>\n",
       "      <td>3026-ATZYV</td>\n",
       "      <td>Female</td>\n",
       "      <td>0</td>\n",
       "      <td>Yes</td>\n",
       "      <td>Yes</td>\n",
       "      <td>1</td>\n",
       "      <td>1</td>\n",
       "      <td>1</td>\n",
       "      <td>Bank transfer (automatic)</td>\n",
       "      <td>75.10</td>\n",
       "      <td>2658.80</td>\n",
       "      <td>No</td>\n",
       "      <td>35.4</td>\n",
       "    </tr>\n",
       "    <tr>\n",
       "      <th>5517</th>\n",
       "      <td>7771-CFQRQ</td>\n",
       "      <td>Female</td>\n",
       "      <td>0</td>\n",
       "      <td>Yes</td>\n",
       "      <td>Yes</td>\n",
       "      <td>1</td>\n",
       "      <td>1</td>\n",
       "      <td>2</td>\n",
       "      <td>Bank transfer (automatic)</td>\n",
       "      <td>63.80</td>\n",
       "      <td>3007.25</td>\n",
       "      <td>No</td>\n",
       "      <td>47.1</td>\n",
       "    </tr>\n",
       "    <tr>\n",
       "      <th>5436</th>\n",
       "      <td>7649-SIJJF</td>\n",
       "      <td>Male</td>\n",
       "      <td>0</td>\n",
       "      <td>Yes</td>\n",
       "      <td>No</td>\n",
       "      <td>2</td>\n",
       "      <td>1</td>\n",
       "      <td>2</td>\n",
       "      <td>Mailed check</td>\n",
       "      <td>80.10</td>\n",
       "      <td>5585.40</td>\n",
       "      <td>No</td>\n",
       "      <td>69.7</td>\n",
       "    </tr>\n",
       "    <tr>\n",
       "      <th>1923</th>\n",
       "      <td>2799-ARNLO</td>\n",
       "      <td>Female</td>\n",
       "      <td>1</td>\n",
       "      <td>Yes</td>\n",
       "      <td>No</td>\n",
       "      <td>1</td>\n",
       "      <td>2</td>\n",
       "      <td>0</td>\n",
       "      <td>Electronic check</td>\n",
       "      <td>69.35</td>\n",
       "      <td>341.60</td>\n",
       "      <td>No</td>\n",
       "      <td>4.9</td>\n",
       "    </tr>\n",
       "    <tr>\n",
       "      <th>6512</th>\n",
       "      <td>9239-GZHZE</td>\n",
       "      <td>Female</td>\n",
       "      <td>0</td>\n",
       "      <td>Yes</td>\n",
       "      <td>No</td>\n",
       "      <td>2</td>\n",
       "      <td>2</td>\n",
       "      <td>2</td>\n",
       "      <td>Credit card (automatic)</td>\n",
       "      <td>113.65</td>\n",
       "      <td>8124.20</td>\n",
       "      <td>No</td>\n",
       "      <td>71.5</td>\n",
       "    </tr>\n",
       "    <tr>\n",
       "      <th>5753</th>\n",
       "      <td>8095-WANWK</td>\n",
       "      <td>Female</td>\n",
       "      <td>0</td>\n",
       "      <td>No</td>\n",
       "      <td>No</td>\n",
       "      <td>1</td>\n",
       "      <td>1</td>\n",
       "      <td>0</td>\n",
       "      <td>Mailed check</td>\n",
       "      <td>45.25</td>\n",
       "      <td>428.70</td>\n",
       "      <td>No</td>\n",
       "      <td>9.5</td>\n",
       "    </tr>\n",
       "    <tr>\n",
       "      <th>2527</th>\n",
       "      <td>3620-EHIMZ</td>\n",
       "      <td>Female</td>\n",
       "      <td>0</td>\n",
       "      <td>Yes</td>\n",
       "      <td>Yes</td>\n",
       "      <td>1</td>\n",
       "      <td>0</td>\n",
       "      <td>2</td>\n",
       "      <td>Mailed check</td>\n",
       "      <td>19.35</td>\n",
       "      <td>1031.70</td>\n",
       "      <td>No</td>\n",
       "      <td>53.3</td>\n",
       "    </tr>\n",
       "  </tbody>\n",
       "</table>\n",
       "</div>"
      ],
      "text/plain": [
       "     customer_id  gender  is_senior_citizen partner dependents  phone_service  \\\n",
       "1945  2823-LKABH  Female                  0      No         No              2   \n",
       "6027  8532-UEFWH    Male                  0     Yes        Yes              2   \n",
       "2465  3525-DVKFN  Female                  0      No         No              1   \n",
       "435   0637-UBJRP    Male                  0     Yes        Yes              1   \n",
       "6750  9581-GVBXT    Male                  0     Yes        Yes              0   \n",
       "3450  4891-NLUBA  Female                  0     Yes        Yes              0   \n",
       "5746  8084-OIVBS  Female                  0      No         No              1   \n",
       "4990  7016-NVRIC    Male                  1     Yes         No              1   \n",
       "5324  7520-HQWJU  Female                  0     Yes        Yes              2   \n",
       "2609  3720-DBRWL    Male                  0     Yes         No              1   \n",
       "6094  8631-NBHFZ    Male                  1     Yes        Yes              2   \n",
       "4499  6345-HOVES    Male                  0      No         No              0   \n",
       "6970  9891-NQDBD  Female                  0     Yes         No              2   \n",
       "2897  4128-ETESU  Female                  1     Yes         No              2   \n",
       "6151  8714-CTZJW  Female                  0      No         No              1   \n",
       "3785  5322-ZSMZY    Male                  0     Yes        Yes              2   \n",
       "522   0761-AETCS  Female                  0      No         No              1   \n",
       "6687  9501-UKKNL    Male                  0      No         No              0   \n",
       "2108  3026-ATZYV  Female                  0     Yes        Yes              1   \n",
       "5517  7771-CFQRQ  Female                  0     Yes        Yes              1   \n",
       "5436  7649-SIJJF    Male                  0     Yes         No              2   \n",
       "1923  2799-ARNLO  Female                  1     Yes         No              1   \n",
       "6512  9239-GZHZE  Female                  0     Yes         No              2   \n",
       "5753  8095-WANWK  Female                  0      No         No              1   \n",
       "2527  3620-EHIMZ  Female                  0     Yes        Yes              1   \n",
       "\n",
       "      internet_service  contract_type               payment_type  \\\n",
       "1945                 2              0  Bank transfer (automatic)   \n",
       "6027                 0              2               Mailed check   \n",
       "2465                 0              2               Mailed check   \n",
       "435                  2              0           Electronic check   \n",
       "6750                 1              1               Mailed check   \n",
       "3450                 1              2  Bank transfer (automatic)   \n",
       "5746                 0              1               Mailed check   \n",
       "4990                 2              1  Bank transfer (automatic)   \n",
       "5324                 1              0  Bank transfer (automatic)   \n",
       "2609                 1              2    Credit card (automatic)   \n",
       "6094                 1              2    Credit card (automatic)   \n",
       "4499                 1              0  Bank transfer (automatic)   \n",
       "6970                 0              1               Mailed check   \n",
       "2897                 2              0           Electronic check   \n",
       "6151                 2              0    Credit card (automatic)   \n",
       "3785                 0              2               Mailed check   \n",
       "522                  0              0           Electronic check   \n",
       "6687                 1              0           Electronic check   \n",
       "2108                 1              1  Bank transfer (automatic)   \n",
       "5517                 1              2  Bank transfer (automatic)   \n",
       "5436                 1              2               Mailed check   \n",
       "1923                 2              0           Electronic check   \n",
       "6512                 2              2    Credit card (automatic)   \n",
       "5753                 1              0               Mailed check   \n",
       "2527                 0              2               Mailed check   \n",
       "\n",
       "      monthly_charges  total_charges churn  tenure  \n",
       "1945            95.05        1679.40    No    17.7  \n",
       "6027            25.75        1345.85    No    52.3  \n",
       "2465            19.40         358.05    No    18.5  \n",
       "435             84.05        1095.30   Yes    13.0  \n",
       "6750            34.80        1980.30    No    56.9  \n",
       "3450            61.45        3751.15    No    61.0  \n",
       "5746            20.00         211.95    No    10.6  \n",
       "4990            90.10        2656.70    No    29.5  \n",
       "5324            67.45        4508.65    No    66.8  \n",
       "2609            83.85        4307.10    No    51.4  \n",
       "6094            79.40        5154.60   Yes    64.9  \n",
       "4499            25.05         852.70    No    34.0  \n",
       "6970            25.55         672.20    No    26.3  \n",
       "2897            99.70        4747.20    No    47.6  \n",
       "6151            82.85         319.60    No     3.9  \n",
       "3785            25.75         755.60    No    29.3  \n",
       "522             19.30          19.30   Yes     1.0  \n",
       "6687            51.70        3005.80    No    58.1  \n",
       "2108            75.10        2658.80    No    35.4  \n",
       "5517            63.80        3007.25    No    47.1  \n",
       "5436            80.10        5585.40    No    69.7  \n",
       "1923            69.35         341.60    No     4.9  \n",
       "6512           113.65        8124.20    No    71.5  \n",
       "5753            45.25         428.70    No     9.5  \n",
       "2527            19.35        1031.70    No    53.3  "
      ]
     },
     "execution_count": 26,
     "metadata": {},
     "output_type": "execute_result"
    }
   ],
   "source": [
    "telco_data.sample(25)"
   ]
  },
  {
   "cell_type": "code",
   "execution_count": 27,
   "id": "6162b127",
   "metadata": {},
   "outputs": [
    {
     "data": {
      "text/plain": [
       "7049"
      ]
     },
     "execution_count": 27,
     "metadata": {},
     "output_type": "execute_result"
    }
   ],
   "source": [
    "telco_data.customer_id.count()"
   ]
  },
  {
   "cell_type": "code",
   "execution_count": 28,
   "id": "18cc8eb9",
   "metadata": {},
   "outputs": [],
   "source": [
    "# Build the variables using pandas\n",
    "churn = telco_data[telco_data.churn == 'Yes']\n",
    "kept = telco_data[telco_data.churn == 'No']"
   ]
  },
  {
   "cell_type": "markdown",
   "id": "87cb964b",
   "metadata": {},
   "source": [
    "## Clean the Data"
   ]
  },
  {
   "cell_type": "code",
   "execution_count": 29,
   "id": "f5c4e762",
   "metadata": {},
   "outputs": [],
   "source": [
    "telco_data.internet_service = telco_data.internet_service.map({0:\"No plan\", 1:\"DSL\", 2:\"Fiber\"})"
   ]
  },
  {
   "cell_type": "code",
   "execution_count": 30,
   "id": "b2800dc2",
   "metadata": {},
   "outputs": [],
   "source": [
    "telco_data.contract_type = telco_data.contract_type.map({0:\"Monthly\", 1:\"1 YR\", 2:\"2 YR\"})\n",
    "telco_data.phone_service = telco_data.phone_service.map({0:\"No phone\", 1:\"1 line\", 2:\"2+ lines\"})\n",
    "telco_data.is_senior_citizen = telco_data.is_senior_citizen.map({0:\"No\", 1:\"Yes\"})"
   ]
  },
  {
   "cell_type": "code",
   "execution_count": 31,
   "id": "0ec21c94",
   "metadata": {
    "scrolled": true
   },
   "outputs": [
    {
     "data": {
      "text/html": [
       "<div>\n",
       "<style scoped>\n",
       "    .dataframe tbody tr th:only-of-type {\n",
       "        vertical-align: middle;\n",
       "    }\n",
       "\n",
       "    .dataframe tbody tr th {\n",
       "        vertical-align: top;\n",
       "    }\n",
       "\n",
       "    .dataframe thead th {\n",
       "        text-align: right;\n",
       "    }\n",
       "</style>\n",
       "<table border=\"1\" class=\"dataframe\">\n",
       "  <thead>\n",
       "    <tr style=\"text-align: right;\">\n",
       "      <th></th>\n",
       "      <th>customer_id</th>\n",
       "      <th>gender</th>\n",
       "      <th>is_senior_citizen</th>\n",
       "      <th>partner</th>\n",
       "      <th>dependents</th>\n",
       "      <th>phone_service</th>\n",
       "      <th>internet_service</th>\n",
       "      <th>contract_type</th>\n",
       "      <th>payment_type</th>\n",
       "      <th>monthly_charges</th>\n",
       "      <th>total_charges</th>\n",
       "      <th>churn</th>\n",
       "      <th>tenure</th>\n",
       "    </tr>\n",
       "  </thead>\n",
       "  <tbody>\n",
       "    <tr>\n",
       "      <th>1800</th>\n",
       "      <td>2632-IVXVF</td>\n",
       "      <td>Female</td>\n",
       "      <td>No</td>\n",
       "      <td>Yes</td>\n",
       "      <td>Yes</td>\n",
       "      <td>2+ lines</td>\n",
       "      <td>Fiber</td>\n",
       "      <td>2 YR</td>\n",
       "      <td>Credit card (automatic)</td>\n",
       "      <td>111.75</td>\n",
       "      <td>7511.30</td>\n",
       "      <td>No</td>\n",
       "      <td>67.2</td>\n",
       "    </tr>\n",
       "    <tr>\n",
       "      <th>750</th>\n",
       "      <td>1095-JUDTC</td>\n",
       "      <td>Female</td>\n",
       "      <td>Yes</td>\n",
       "      <td>No</td>\n",
       "      <td>No</td>\n",
       "      <td>2+ lines</td>\n",
       "      <td>Fiber</td>\n",
       "      <td>Monthly</td>\n",
       "      <td>Electronic check</td>\n",
       "      <td>95.05</td>\n",
       "      <td>4504.55</td>\n",
       "      <td>Yes</td>\n",
       "      <td>47.4</td>\n",
       "    </tr>\n",
       "    <tr>\n",
       "      <th>3659</th>\n",
       "      <td>5171-EPLKN</td>\n",
       "      <td>Male</td>\n",
       "      <td>No</td>\n",
       "      <td>No</td>\n",
       "      <td>No</td>\n",
       "      <td>1 line</td>\n",
       "      <td>No plan</td>\n",
       "      <td>2 YR</td>\n",
       "      <td>Credit card (automatic)</td>\n",
       "      <td>19.85</td>\n",
       "      <td>470.00</td>\n",
       "      <td>No</td>\n",
       "      <td>23.7</td>\n",
       "    </tr>\n",
       "    <tr>\n",
       "      <th>4679</th>\n",
       "      <td>6599-RCLCJ</td>\n",
       "      <td>Male</td>\n",
       "      <td>No</td>\n",
       "      <td>Yes</td>\n",
       "      <td>No</td>\n",
       "      <td>2+ lines</td>\n",
       "      <td>Fiber</td>\n",
       "      <td>Monthly</td>\n",
       "      <td>Electronic check</td>\n",
       "      <td>109.55</td>\n",
       "      <td>5124.55</td>\n",
       "      <td>Yes</td>\n",
       "      <td>46.8</td>\n",
       "    </tr>\n",
       "    <tr>\n",
       "      <th>540</th>\n",
       "      <td>0795-GMVQO</td>\n",
       "      <td>Male</td>\n",
       "      <td>No</td>\n",
       "      <td>Yes</td>\n",
       "      <td>No</td>\n",
       "      <td>2+ lines</td>\n",
       "      <td>Fiber</td>\n",
       "      <td>1 YR</td>\n",
       "      <td>Credit card (automatic)</td>\n",
       "      <td>109.90</td>\n",
       "      <td>7332.40</td>\n",
       "      <td>No</td>\n",
       "      <td>66.7</td>\n",
       "    </tr>\n",
       "    <tr>\n",
       "      <th>1381</th>\n",
       "      <td>2041-JIJCI</td>\n",
       "      <td>Female</td>\n",
       "      <td>No</td>\n",
       "      <td>No</td>\n",
       "      <td>No</td>\n",
       "      <td>2+ lines</td>\n",
       "      <td>DSL</td>\n",
       "      <td>Monthly</td>\n",
       "      <td>Electronic check</td>\n",
       "      <td>64.00</td>\n",
       "      <td>370.25</td>\n",
       "      <td>No</td>\n",
       "      <td>5.8</td>\n",
       "    </tr>\n",
       "    <tr>\n",
       "      <th>854</th>\n",
       "      <td>1240-HCBOH</td>\n",
       "      <td>Female</td>\n",
       "      <td>No</td>\n",
       "      <td>No</td>\n",
       "      <td>No</td>\n",
       "      <td>2+ lines</td>\n",
       "      <td>No plan</td>\n",
       "      <td>2 YR</td>\n",
       "      <td>Mailed check</td>\n",
       "      <td>26.10</td>\n",
       "      <td>1759.55</td>\n",
       "      <td>No</td>\n",
       "      <td>67.4</td>\n",
       "    </tr>\n",
       "    <tr>\n",
       "      <th>6443</th>\n",
       "      <td>9122-UMROB</td>\n",
       "      <td>Male</td>\n",
       "      <td>No</td>\n",
       "      <td>No</td>\n",
       "      <td>No</td>\n",
       "      <td>1 line</td>\n",
       "      <td>No plan</td>\n",
       "      <td>Monthly</td>\n",
       "      <td>Mailed check</td>\n",
       "      <td>20.30</td>\n",
       "      <td>20.30</td>\n",
       "      <td>No</td>\n",
       "      <td>1.0</td>\n",
       "    </tr>\n",
       "    <tr>\n",
       "      <th>877</th>\n",
       "      <td>1269-FOYWN</td>\n",
       "      <td>Male</td>\n",
       "      <td>No</td>\n",
       "      <td>Yes</td>\n",
       "      <td>Yes</td>\n",
       "      <td>1 line</td>\n",
       "      <td>No plan</td>\n",
       "      <td>1 YR</td>\n",
       "      <td>Bank transfer (automatic)</td>\n",
       "      <td>20.00</td>\n",
       "      <td>860.85</td>\n",
       "      <td>No</td>\n",
       "      <td>43.0</td>\n",
       "    </tr>\n",
       "    <tr>\n",
       "      <th>6996</th>\n",
       "      <td>9928-BZVLZ</td>\n",
       "      <td>Female</td>\n",
       "      <td>No</td>\n",
       "      <td>No</td>\n",
       "      <td>No</td>\n",
       "      <td>No phone</td>\n",
       "      <td>DSL</td>\n",
       "      <td>2 YR</td>\n",
       "      <td>Mailed check</td>\n",
       "      <td>49.85</td>\n",
       "      <td>552.10</td>\n",
       "      <td>No</td>\n",
       "      <td>11.1</td>\n",
       "    </tr>\n",
       "  </tbody>\n",
       "</table>\n",
       "</div>"
      ],
      "text/plain": [
       "     customer_id  gender is_senior_citizen partner dependents phone_service  \\\n",
       "1800  2632-IVXVF  Female                No     Yes        Yes      2+ lines   \n",
       "750   1095-JUDTC  Female               Yes      No         No      2+ lines   \n",
       "3659  5171-EPLKN    Male                No      No         No        1 line   \n",
       "4679  6599-RCLCJ    Male                No     Yes         No      2+ lines   \n",
       "540   0795-GMVQO    Male                No     Yes         No      2+ lines   \n",
       "1381  2041-JIJCI  Female                No      No         No      2+ lines   \n",
       "854   1240-HCBOH  Female                No      No         No      2+ lines   \n",
       "6443  9122-UMROB    Male                No      No         No        1 line   \n",
       "877   1269-FOYWN    Male                No     Yes        Yes        1 line   \n",
       "6996  9928-BZVLZ  Female                No      No         No      No phone   \n",
       "\n",
       "     internet_service contract_type               payment_type  \\\n",
       "1800            Fiber          2 YR    Credit card (automatic)   \n",
       "750             Fiber       Monthly           Electronic check   \n",
       "3659          No plan          2 YR    Credit card (automatic)   \n",
       "4679            Fiber       Monthly           Electronic check   \n",
       "540             Fiber          1 YR    Credit card (automatic)   \n",
       "1381              DSL       Monthly           Electronic check   \n",
       "854           No plan          2 YR               Mailed check   \n",
       "6443          No plan       Monthly               Mailed check   \n",
       "877           No plan          1 YR  Bank transfer (automatic)   \n",
       "6996              DSL          2 YR               Mailed check   \n",
       "\n",
       "      monthly_charges  total_charges churn  tenure  \n",
       "1800           111.75        7511.30    No    67.2  \n",
       "750             95.05        4504.55   Yes    47.4  \n",
       "3659            19.85         470.00    No    23.7  \n",
       "4679           109.55        5124.55   Yes    46.8  \n",
       "540            109.90        7332.40    No    66.7  \n",
       "1381            64.00         370.25    No     5.8  \n",
       "854             26.10        1759.55    No    67.4  \n",
       "6443            20.30          20.30    No     1.0  \n",
       "877             20.00         860.85    No    43.0  \n",
       "6996            49.85         552.10    No    11.1  "
      ]
     },
     "execution_count": 31,
     "metadata": {},
     "output_type": "execute_result"
    }
   ],
   "source": [
    "telco_data.sample(10)"
   ]
  },
  {
   "cell_type": "code",
   "execution_count": 32,
   "id": "b258a444",
   "metadata": {},
   "outputs": [],
   "source": [
    "# customers where tenure is less than 6 months, 12 months, 24 months by plan type, by int service,\n",
    "## \"where are customers exiting\""
   ]
  },
  {
   "cell_type": "markdown",
   "id": "8e221ee0",
   "metadata": {},
   "source": [
    "- line chart: tenure in months on the x (continuous variable, dimension), count on the y >> shows where customers are exiting"
   ]
  },
  {
   "cell_type": "markdown",
   "id": "404a6e51",
   "metadata": {},
   "source": [
    "direct price comparisons: how much does 1 line cost across subscription plans? 2 Lines? 3 Lines?"
   ]
  },
  {
   "cell_type": "markdown",
   "id": "37364d57",
   "metadata": {},
   "source": [
    "# Demographics"
   ]
  },
  {
   "cell_type": "markdown",
   "id": "54d8b558",
   "metadata": {},
   "source": [
    "## 1A: One line, no internet"
   ]
  },
  {
   "cell_type": "code",
   "execution_count": 33,
   "id": "8239669c",
   "metadata": {},
   "outputs": [],
   "source": [
    "# the median customer with 1 line, monthly plan, pays:\n",
    "\n",
    "one_line_monthly_no_int = telco_data.monthly_charges[\n",
    "    (telco_data.phone_service == \"1 line\") & (telco_data.contract_type == \"Monthly\") \n",
    "    & (telco_data.internet_service == \"No plan\")]"
   ]
  },
  {
   "cell_type": "code",
   "execution_count": 34,
   "id": "5696919b",
   "metadata": {},
   "outputs": [
    {
     "name": "stdout",
     "output_type": "stream",
     "text": [
      "20.0\n",
      "478\n",
      "0.19665271966527198\n"
     ]
    }
   ],
   "source": [
    "print(one_line_monthly_no_int.median()) #Median bill\n",
    "print(one_line_monthly_no_int.count()) #Count\n",
    "print(telco_data.monthly_charges[\n",
    "    (telco_data.phone_service == \"1 line\") & (telco_data.contract_type == \"Monthly\") \n",
    "    & (telco_data.internet_service == \"No plan\") & (telco_data.churn == \"Yes\")\n",
    "                            ].count()/one_line_monthly_no_int.count()) #Churn Rate"
   ]
  },
  {
   "cell_type": "code",
   "execution_count": 35,
   "id": "f21dede0",
   "metadata": {},
   "outputs": [],
   "source": [
    "# the median customer with 1 line, 1yr plan, pays:\n",
    "one_line_yearly_no_int = telco_data.monthly_charges[\n",
    "    (telco_data.phone_service == \"1 line\") & (telco_data.contract_type == \"1 YR\")\n",
    "    & (telco_data.internet_service == \"No plan\")]"
   ]
  },
  {
   "cell_type": "code",
   "execution_count": 36,
   "id": "c8f36ec4",
   "metadata": {},
   "outputs": [
    {
     "name": "stdout",
     "output_type": "stream",
     "text": [
      "19.95\n",
      "301\n",
      "0.023255813953488372\n"
     ]
    }
   ],
   "source": [
    "print(one_line_yearly_no_int.median())\n",
    "print(one_line_yearly_no_int.count())\n",
    "print(telco_data.monthly_charges[\n",
    "    (telco_data.phone_service == \"1 line\") & (telco_data.contract_type == \"1 YR\")\n",
    "    & (telco_data.internet_service == \"No plan\") & (telco_data.churn == \"Yes\")\n",
    "                            ].count()/one_line_yearly_no_int.count()) #Churn Rate"
   ]
  },
  {
   "cell_type": "code",
   "execution_count": 37,
   "id": "cda0ad8f",
   "metadata": {},
   "outputs": [],
   "source": [
    "# the median customer with 1 line, 2yr plan, pays:\n",
    "one_line_two_yearly_no_int = telco_data.monthly_charges[\n",
    "    (telco_data.phone_service == \"1 line\") & (telco_data.contract_type == \"2 YR\")\n",
    "    & (telco_data.internet_service == \"No plan\")]"
   ]
  },
  {
   "cell_type": "code",
   "execution_count": 38,
   "id": "d4809a5d",
   "metadata": {},
   "outputs": [
    {
     "name": "stdout",
     "output_type": "stream",
     "text": [
      "19.9\n",
      "408\n",
      "0.004901960784313725\n"
     ]
    }
   ],
   "source": [
    "print(one_line_two_yearly_no_int.median())\n",
    "print(one_line_two_yearly_no_int.count())\n",
    "print(telco_data.monthly_charges[\n",
    "    (telco_data.phone_service == \"1 line\") & (telco_data.contract_type == \"2 YR\")\n",
    "    & (telco_data.internet_service == \"No plan\") & (telco_data.churn == \"Yes\")\n",
    "                            ].count()/one_line_two_yearly_no_int.count()) #Churn Rate"
   ]
  },
  {
   "cell_type": "markdown",
   "id": "aaff73b3",
   "metadata": {},
   "source": [
    "## Takeaway from single line, no internet customers:\n",
    "- HMMM these customers are paying similar rates for single lines, plus the churn rate is super low (19.6, 2, and >1%). Does that change with more lines?"
   ]
  },
  {
   "cell_type": "markdown",
   "id": "45769d57",
   "metadata": {},
   "source": [
    "## 1B: Two+ lines, no internet"
   ]
  },
  {
   "cell_type": "code",
   "execution_count": 39,
   "id": "1f2939f3",
   "metadata": {},
   "outputs": [],
   "source": [
    "# the median customer with 2+ lines, monthly plan, pays:\n",
    "\n",
    "two_line_monthly_no_int = telco_data.monthly_charges[\n",
    "    (telco_data.phone_service == \"2+ lines\") & (telco_data.contract_type == \"Monthly\") \n",
    "    & (telco_data.internet_service == \"No plan\")]"
   ]
  },
  {
   "cell_type": "code",
   "execution_count": 40,
   "id": "3174b35a",
   "metadata": {},
   "outputs": [
    {
     "name": "stdout",
     "output_type": "stream",
     "text": [
      "25.025\n",
      "46\n",
      "0.010460251046025104\n"
     ]
    }
   ],
   "source": [
    "print(two_line_monthly_no_int.median()) #Median bill\n",
    "print(two_line_monthly_no_int.count()) #Count\n",
    "print(telco_data.monthly_charges[\n",
    "    (telco_data.phone_service == \"2+ lines\") & (telco_data.contract_type == \"Monthly\") \n",
    "    & (telco_data.internet_service == \"No plan\") & (telco_data.churn == \"Yes\")\n",
    "                            ].count()/one_line_monthly_no_int.count()) #Churn Rate"
   ]
  },
  {
   "cell_type": "code",
   "execution_count": 41,
   "id": "7b182f0d",
   "metadata": {},
   "outputs": [],
   "source": [
    "# the median customer with 2+ lines, 1yr plan, pays:\n",
    "two_line_yearly_no_int = telco_data.monthly_charges[\n",
    "    (telco_data.phone_service == \"2+ lines\") & (telco_data.contract_type == \"1 YR\")\n",
    "    & (telco_data.internet_service == \"No plan\")]"
   ]
  },
  {
   "cell_type": "code",
   "execution_count": 42,
   "id": "5368bf98",
   "metadata": {},
   "outputs": [
    {
     "name": "stdout",
     "output_type": "stream",
     "text": [
      "24.8\n",
      "64\n",
      "0.043478260869565216\n"
     ]
    }
   ],
   "source": [
    "print(two_line_yearly_no_int.median())\n",
    "print(two_line_yearly_no_int.count())\n",
    "print(telco_data.monthly_charges[\n",
    "    (telco_data.phone_service == \"2+ lines\") & (telco_data.contract_type == \"1 YR\") \n",
    "    & (telco_data.internet_service == \"No plan\") & (telco_data.churn == \"Yes\")\n",
    "                            ].count()/two_line_monthly_no_int.count()) #Churn Rate"
   ]
  },
  {
   "cell_type": "code",
   "execution_count": 43,
   "id": "029bcaed",
   "metadata": {},
   "outputs": [],
   "source": [
    "# the median customer with 2+ lines, 1yr plan, pays:\n",
    "two_line_two_yearly_no_int = telco_data.monthly_charges[\n",
    "    (telco_data.phone_service == \"2+ lines\") & (telco_data.contract_type == \"2 YR\")\n",
    "    & (telco_data.internet_service == \"No plan\")]"
   ]
  },
  {
   "cell_type": "code",
   "execution_count": 44,
   "id": "593430a6",
   "metadata": {},
   "outputs": [
    {
     "name": "stdout",
     "output_type": "stream",
     "text": [
      "25.025\n",
      "232\n",
      "0.06521739130434782\n"
     ]
    }
   ],
   "source": [
    "print(two_line_two_yearly_no_int.median())\n",
    "print(two_line_two_yearly_no_int.count())\n",
    "print(telco_data.monthly_charges[\n",
    "    (telco_data.phone_service == \"2+ lines\") & (telco_data.contract_type == \"2 YR\") \n",
    "    & (telco_data.internet_service == \"No plan\") & (telco_data.churn == \"Yes\")\n",
    "                            ].count()/two_line_monthly_no_int.count()) #Churn Rate"
   ]
  },
  {
   "cell_type": "markdown",
   "id": "f35c1946",
   "metadata": {},
   "source": [
    "## Takeaway from Two+ lines, no internet customers:\n",
    "- These customers are also paying similar rates for single lines. oddly, the two-yearly customers are paying the same rates as the monthly customers, while the one-yearly rate is lowest. The churn rate is remains lower or significantly lowr than then industry average of 21% (1, 4, and 7%). "
   ]
  },
  {
   "cell_type": "markdown",
   "id": "85002f60",
   "metadata": {},
   "source": [
    "# NEXT QUESTION: Does that change with internet?"
   ]
  },
  {
   "cell_type": "markdown",
   "id": "c25d1068",
   "metadata": {},
   "source": [
    "## 1A: One line, DSL"
   ]
  },
  {
   "cell_type": "code",
   "execution_count": 45,
   "id": "5ad30ee8",
   "metadata": {},
   "outputs": [],
   "source": [
    "# the median customer with 1 line, DSL,  monthly plan, pays:\n",
    "\n",
    "one_line_monthly_dsl = telco_data.monthly_charges[\n",
    "    (telco_data.phone_service == \"1 line\") & (telco_data.contract_type == \"Monthly\") \n",
    "    & (telco_data.internet_service == \"DSL\")]"
   ]
  },
  {
   "cell_type": "code",
   "execution_count": 46,
   "id": "0d6204e0",
   "metadata": {},
   "outputs": [
    {
     "name": "stdout",
     "output_type": "stream",
     "text": [
      "51.3\n",
      "628\n",
      "0.30254777070063693\n"
     ]
    }
   ],
   "source": [
    "print(one_line_monthly_dsl.median()) #Median bill\n",
    "print(one_line_monthly_dsl.count()) #Count\n",
    "print(telco_data.monthly_charges[\n",
    "    (telco_data.phone_service == \"1 line\") & (telco_data.contract_type == \"Monthly\") \n",
    "    & (telco_data.internet_service == \"DSL\") & (telco_data.churn == \"Yes\")\n",
    "                            ].count()/one_line_monthly_dsl.count()) #Churn Rate"
   ]
  },
  {
   "cell_type": "code",
   "execution_count": 47,
   "id": "8937296d",
   "metadata": {},
   "outputs": [],
   "source": [
    "# the median customer with 1 line, DSL, 1yr plan, pays:\n",
    "one_line_yearly_dsl = telco_data.monthly_charges[\n",
    "    (telco_data.phone_service == \"1 line\") & (telco_data.contract_type == \"1 YR\")\n",
    "    & (telco_data.internet_service == \"DSL\")]"
   ]
  },
  {
   "cell_type": "code",
   "execution_count": 48,
   "id": "9c14563f",
   "metadata": {},
   "outputs": [
    {
     "name": "stdout",
     "output_type": "stream",
     "text": [
      "61.35\n",
      "243\n",
      "0.09053497942386832\n"
     ]
    }
   ],
   "source": [
    "print(one_line_yearly_dsl.median())\n",
    "print(one_line_yearly_dsl.count())\n",
    "print(telco_data.monthly_charges[\n",
    "    (telco_data.phone_service == \"1 line\") & (telco_data.contract_type == \"1 YR\")\n",
    "    & (telco_data.internet_service == \"DSL\") & (telco_data.churn == \"Yes\")\n",
    "                            ].count()/one_line_yearly_dsl.count()) #Churn Rate"
   ]
  },
  {
   "cell_type": "code",
   "execution_count": 49,
   "id": "9b0b0fcd",
   "metadata": {},
   "outputs": [],
   "source": [
    "# the median customer with 1 line, 2yr plan, pays:\n",
    "one_line_two_yearly_dsl = telco_data.monthly_charges[\n",
    "    (telco_data.phone_service == \"1 line\") & (telco_data.contract_type == \"2 YR\")\n",
    "    & (telco_data.internet_service == \"DSL\")]"
   ]
  },
  {
   "cell_type": "code",
   "execution_count": 50,
   "id": "a4ec149e",
   "metadata": {},
   "outputs": [
    {
     "name": "stdout",
     "output_type": "stream",
     "text": [
      "73.35\n",
      "177\n",
      "0.022598870056497175\n"
     ]
    }
   ],
   "source": [
    "print(one_line_two_yearly_dsl.median())\n",
    "print(one_line_two_yearly_dsl.count())\n",
    "print(telco_data.monthly_charges[\n",
    "    (telco_data.phone_service == \"1 line\") & (telco_data.contract_type == \"2 YR\")\n",
    "    & (telco_data.internet_service == \"DSL\") & (telco_data.churn == \"Yes\")\n",
    "                            ].count()/one_line_two_yearly_dsl.count()) #Churn Rate"
   ]
  },
  {
   "cell_type": "markdown",
   "id": "4f854ad6",
   "metadata": {},
   "source": [
    "## Takeaway from single line, DSL customers:\n",
    "- Interesting: high churn rate for monthly customers with one phone line and DSL: 30.3% ==> this populaiton should be investigated further."
   ]
  },
  {
   "cell_type": "markdown",
   "id": "b014f8f9",
   "metadata": {},
   "source": [
    "## 2B: Two+ lines, DSL"
   ]
  },
  {
   "cell_type": "code",
   "execution_count": 51,
   "id": "7e37885a",
   "metadata": {},
   "outputs": [],
   "source": [
    "# the median customer with 2+ lines, monthly plan, pays:\n",
    "\n",
    "two_line_monthly_no_int = telco_data.monthly_charges[\n",
    "    (telco_data.phone_service == \"2+ lines\") & (telco_data.contract_type == \"Monthly\") \n",
    "    & (telco_data.internet_service == \"No plan\")]"
   ]
  },
  {
   "cell_type": "code",
   "execution_count": 52,
   "id": "cbaa5252",
   "metadata": {},
   "outputs": [
    {
     "name": "stdout",
     "output_type": "stream",
     "text": [
      "25.025\n",
      "46\n",
      "0.010460251046025104\n"
     ]
    }
   ],
   "source": [
    "print(two_line_monthly_no_int.median()) #Median bill\n",
    "print(two_line_monthly_no_int.count()) #Count\n",
    "print(telco_data.monthly_charges[\n",
    "    (telco_data.phone_service == \"2+ lines\") & (telco_data.contract_type == \"Monthly\") \n",
    "    & (telco_data.internet_service == \"No plan\") & (telco_data.churn == \"Yes\")\n",
    "                            ].count()/one_line_monthly_no_int.count()) #Churn Rate"
   ]
  },
  {
   "cell_type": "code",
   "execution_count": 53,
   "id": "6fa0b799",
   "metadata": {},
   "outputs": [],
   "source": [
    "# the median customer with 2+ lines, 1yr plan, pays:\n",
    "two_line_yearly_no_int = telco_data.monthly_charges[\n",
    "    (telco_data.phone_service == \"2+ lines\") & (telco_data.contract_type == \"1 YR\")\n",
    "    & (telco_data.internet_service == \"No plan\")]"
   ]
  },
  {
   "cell_type": "code",
   "execution_count": 54,
   "id": "7b3611dc",
   "metadata": {},
   "outputs": [
    {
     "name": "stdout",
     "output_type": "stream",
     "text": [
      "24.8\n",
      "64\n",
      "0.043478260869565216\n"
     ]
    }
   ],
   "source": [
    "print(two_line_yearly_no_int.median())\n",
    "print(two_line_yearly_no_int.count())\n",
    "print(telco_data.monthly_charges[\n",
    "    (telco_data.phone_service == \"2+ lines\") & (telco_data.contract_type == \"1 YR\") \n",
    "    & (telco_data.internet_service == \"No plan\") & (telco_data.churn == \"Yes\")\n",
    "                            ].count()/two_line_monthly_no_int.count()) #Churn Rate"
   ]
  },
  {
   "cell_type": "code",
   "execution_count": 55,
   "id": "4797ee0f",
   "metadata": {},
   "outputs": [],
   "source": [
    "# the median customer with 2+ lines, 1yr plan, pays:\n",
    "two_line_two_yearly_no_int = telco_data.monthly_charges[\n",
    "    (telco_data.phone_service == \"2+ lines\") & (telco_data.contract_type == \"2 YR\")\n",
    "    & (telco_data.internet_service == \"No plan\")]"
   ]
  },
  {
   "cell_type": "code",
   "execution_count": 56,
   "id": "11a8ec22",
   "metadata": {},
   "outputs": [
    {
     "name": "stdout",
     "output_type": "stream",
     "text": [
      "25.025\n",
      "232\n",
      "0.06521739130434782\n"
     ]
    }
   ],
   "source": [
    "print(two_line_two_yearly_no_int.median())\n",
    "print(two_line_two_yearly_no_int.count())\n",
    "print(telco_data.monthly_charges[\n",
    "    (telco_data.phone_service == \"2+ lines\") & (telco_data.contract_type == \"2 YR\") \n",
    "    & (telco_data.internet_service == \"No plan\") & (telco_data.churn == \"Yes\")\n",
    "                            ].count()/two_line_monthly_no_int.count()) #Churn Rate"
   ]
  },
  {
   "cell_type": "markdown",
   "id": "79964d7e",
   "metadata": {},
   "source": [
    "## Takeaway from Two+ lines, internet customers:\n",
    "- These customers are also paying similar rates for single lines. oddly, the two-yearly customers are paying the same rates as the monthly customers, while the one-yearly rate is lowest. The churn rate is remains lower or significantly lowr than then industry average of 21% (1, 4, and 7%). Does that change with internet?"
   ]
  },
  {
   "cell_type": "code",
   "execution_count": null,
   "id": "d68759c5",
   "metadata": {},
   "outputs": [],
   "source": []
  },
  {
   "cell_type": "code",
   "execution_count": 57,
   "id": "8c758649",
   "metadata": {},
   "outputs": [
    {
     "name": "stdout",
     "output_type": "stream",
     "text": [
      "25.025\n",
      "46\n"
     ]
    }
   ],
   "source": [
    "# the median customer with 2+ lines, monthly plan, pays:\n",
    "print(telco_data.monthly_charges[\n",
    "    (telco_data.phone_service == \"2+ lines\") & (telco_data.contract_type == \"Monthly\") \n",
    "    & (telco_data.internet_service == \"No plan\")\n",
    "                            ].median())\n",
    "print(telco_data.monthly_charges[\n",
    "    (telco_data.phone_service == \"2+ lines\") & (telco_data.contract_type == \"Monthly\") \n",
    "    & (telco_data.internet_service == \"No plan\")\n",
    "                            ].count())"
   ]
  },
  {
   "cell_type": "code",
   "execution_count": 58,
   "id": "4e005bbc",
   "metadata": {},
   "outputs": [
    {
     "name": "stdout",
     "output_type": "stream",
     "text": [
      "24.8\n",
      "64\n"
     ]
    }
   ],
   "source": [
    "# the median customer with 2+ lines, 1yr plan, pays:\n",
    "print(telco_data.monthly_charges[\n",
    "    (telco_data.phone_service == \"2+ lines\") & (telco_data.contract_type == \"1 YR\")\n",
    "    & (telco_data.internet_service == \"No plan\")\n",
    "                            ].median())\n",
    "\n",
    "print(telco_data.monthly_charges[\n",
    "    (telco_data.phone_service == \"2+ lines\") & (telco_data.contract_type == \"1 YR\")\n",
    "    & (telco_data.internet_service == \"No plan\")\n",
    "                            ].count())"
   ]
  },
  {
   "cell_type": "code",
   "execution_count": 59,
   "id": "88f631b8",
   "metadata": {},
   "outputs": [
    {
     "name": "stdout",
     "output_type": "stream",
     "text": [
      "25.025\n",
      "232\n"
     ]
    }
   ],
   "source": [
    "# the median customer with 2+ line, 2yr plan, pays:\n",
    "print(telco_data.monthly_charges[\n",
    "    (telco_data.phone_service == \"2+ lines\") & (telco_data.contract_type == \"2 YR\")\n",
    "    & (telco_data.internet_service == \"No plan\")\n",
    "                            ].median())\n",
    "\n",
    "print(telco_data.monthly_charges[\n",
    "    (telco_data.phone_service == \"2+ lines\") & (telco_data.contract_type == \"2 YR\")\n",
    "    & (telco_data.internet_service == \"No plan\")\n",
    "                            ].count())"
   ]
  },
  {
   "cell_type": "markdown",
   "id": "c33900a9",
   "metadata": {},
   "source": [
    "do people with dependants have more lines? if not - that's an adressable market"
   ]
  },
  {
   "cell_type": "markdown",
   "id": "12bce810",
   "metadata": {},
   "source": [
    "does it pay to bundle with internet?"
   ]
  },
  {
   "cell_type": "markdown",
   "id": "820bb1fa",
   "metadata": {},
   "source": [
    "what is the price of dsl internet and one line? are we incentivizing switiching to fiber? and bundling lines?"
   ]
  },
  {
   "cell_type": "markdown",
   "id": "4923518e",
   "metadata": {},
   "source": [
    "what consumer is most likely to churn? what are they consuming? how can we incentivize them to stay (price cut for the plan)"
   ]
  },
  {
   "cell_type": "code",
   "execution_count": 60,
   "id": "450b38c4",
   "metadata": {},
   "outputs": [
    {
     "name": "stdout",
     "output_type": "stream",
     "text": [
      "Object `plans` not found.\n"
     ]
    }
   ],
   "source": [
    "how are churning consumers paying their bills? how do we incentivize a switch to autopay/yearly plans?"
   ]
  },
  {
   "cell_type": "code",
   "execution_count": null,
   "id": "813b8bca",
   "metadata": {},
   "outputs": [],
   "source": [
    "how are churning consumers paying their bills? how do we incentivize a switch to autopay/yearly plans"
   ]
  },
  {
   "cell_type": "code",
   "execution_count": 61,
   "id": "aed7d015",
   "metadata": {},
   "outputs": [
    {
     "ename": "SyntaxError",
     "evalue": "invalid syntax (645378806.py, line 1)",
     "output_type": "error",
     "traceback": [
      "\u001b[0;36m  File \u001b[0;32m\"/var/folders/3n/86q7c8d16r51w8vg4g5kwq280000gn/T/ipykernel_78795/645378806.py\"\u001b[0;36m, line \u001b[0;32m1\u001b[0m\n\u001b[0;31m    how are churning consumers paying their bills? how do we incentivize a switch to autopay/yearly plans\u001b[0m\n\u001b[0m        ^\u001b[0m\n\u001b[0;31mSyntaxError\u001b[0m\u001b[0;31m:\u001b[0m invalid syntax\n"
     ]
    }
   ],
   "source": [
    "how are churning consumers paying their bills? how do we incentivize a switch to autopay/yearly plans"
   ]
  },
  {
   "cell_type": "markdown",
   "id": "aa472173",
   "metadata": {},
   "source": [
    "## Export\n",
    "#telco_data.to_csv('//Users/frederik.lindsey/Home/codeup-data-science/storytelling_with_data/first_export.csv')"
   ]
  },
  {
   "cell_type": "code",
   "execution_count": null,
   "id": "5d90a346",
   "metadata": {},
   "outputs": [],
   "source": [
    "## Graph and Visualization ideas\n",
    "- tenure on the y\n",
    "- monthly v yearly v 2 yearly (phone only, phone + DSL, phone + fiber)"
   ]
  },
  {
   "cell_type": "code",
   "execution_count": 65,
   "id": "92930b8d",
   "metadata": {},
   "outputs": [
    {
     "data": {
      "text/plain": [
       "<AxesSubplot:xlabel='contract_type', ylabel='tenure'>"
      ]
     },
     "execution_count": 65,
     "metadata": {},
     "output_type": "execute_result"
    },
    {
     "data": {
      "image/png": "[encoded data removed]",
      "text/plain": [
       "<Figure size 432x288 with 1 Axes>"
      ]
     },
     "metadata": {
      "needs_background": "light"
     },
     "output_type": "display_data"
    }
   ],
   "source": [
    "sns.barplot(data = telco_data,\n",
    "            y = 'tenure',\n",
    "            x = 'contract_type',\n",
    "            hue = 'churn')"
   ]
  },
  {
   "cell_type": "code",
   "execution_count": null,
   "id": "5c1f9e6b",
   "metadata": {},
   "outputs": [],
   "source": []
  }
 ],
 "metadata": {
  "kernelspec": {
   "display_name": "Python 3 (ipykernel)",
   "language": "python",
   "name": "python3"
  },
  "language_info": {
   "codemirror_mode": {
    "name": "ipython",
    "version": 3
   },
   "file_extension": ".py",
   "mimetype": "text/x-python",
   "name": "python",
   "nbconvert_exporter": "python",
   "pygments_lexer": "ipython3",
   "version": "3.9.7"
  }
 },
 "nbformat": 4,
 "nbformat_minor": 5
}
