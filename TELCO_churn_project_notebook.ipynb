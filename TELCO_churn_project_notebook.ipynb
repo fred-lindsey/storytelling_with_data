{
 "cells": [
  {
   "cell_type": "markdown",
   "id": "6650aaf4",
   "metadata": {},
   "source": [
    "## Part 1: Define Goal, why it matters, id target variable, state initial hypotheses\n",
    "- Executives/Sales initial question: \"how many customers are churning?\", \"why are customers churning?\", \"How much revenue does that cost?\", \"How much investment is required to acquire equivalent new customers?\", \"How else could we spend this money if we better retained customers?\"\n",
    "- Opportunity cost: if we retain customers, we eliminate both revenue loss, and additional capital outlay to acquire replacement customers\n",
    "- End State: \n",
    "    - understand: \n",
    "        - TELCO churn v. Industry average churn (source? >> BLS, quarterly reports, industry journals and publications), \n",
    "        - profile of most common churning customer(age, gender, plan), \n",
    "        - identify most likely reason for churn (price, demographic), \n",
    "- DS questions: \n",
    "    - What are the drivers of customer churn?\n",
    "        - high price for certain contract types (higher than competitors)\n",
    "    - Who is churning?\n",
    "        - old? young? married? single? kids? no kids?\n",
    "    - What opportunnities exist?\n",
    "        - effective pricing through market segmentation\n",
    "            - discounts to pay electronically\n",
    "            - discounts on bundled internet and phone plans\n",
    "            - discounts on bundled phone lines\n",
    "- Target variable:\n",
    "    - churn\n",
    "- What are some interesting variables?\n",
    "    - churned customer plan (monthly, month to month, bundle) vis-a-vis price\n",
    "    - customer demographic:\n",
    "        - senior or not\n",
    "        - gender\n",
    "        - dependants or not\n",
    "        - married or not\n",
    "        - payment type\n",
    "- What would a minimally viable product look like?\n",
    "    - deliverable: can be:\n",
    "        - email with recs >> the simplest \n",
    "        - sldieshow\n",
    "        - ML model we deliver to engineering team to deploy live\n",
    "    - what target rate are we hitting with churn?\n",
    "    - whats the biggest story i.e. variable most correlated with churn?\n",
    "        \n",
    "     ** Source your data: "
   ]
  },
  {
   "cell_type": "code",
   "execution_count": 1,
   "id": "d91c51e1",
   "metadata": {},
   "outputs": [],
   "source": [
    "import pandas as pd\n",
    "import seaborn as sns"
   ]
  },
  {
   "cell_type": "code",
   "execution_count": 2,
   "id": "49b034d1",
   "metadata": {},
   "outputs": [
    {
     "data": {
      "text/html": [
       "<div>\n",
       "<style scoped>\n",
       "    .dataframe tbody tr th:only-of-type {\n",
       "        vertical-align: middle;\n",
       "    }\n",
       "\n",
       "    .dataframe tbody tr th {\n",
       "        vertical-align: top;\n",
       "    }\n",
       "\n",
       "    .dataframe thead th {\n",
       "        text-align: right;\n",
       "    }\n",
       "</style>\n",
       "<table border=\"1\" class=\"dataframe\">\n",
       "  <thead>\n",
       "    <tr style=\"text-align: right;\">\n",
       "      <th></th>\n",
       "      <th>customer_id</th>\n",
       "      <th>gender</th>\n",
       "      <th>is_senior_citizen</th>\n",
       "      <th>partner</th>\n",
       "      <th>dependents</th>\n",
       "      <th>phone_service</th>\n",
       "      <th>internet_service</th>\n",
       "      <th>contract_type</th>\n",
       "      <th>payment_type</th>\n",
       "      <th>monthly_charges</th>\n",
       "      <th>total_charges</th>\n",
       "      <th>churn</th>\n",
       "      <th>tenure</th>\n",
       "    </tr>\n",
       "  </thead>\n",
       "  <tbody>\n",
       "    <tr>\n",
       "      <th>0</th>\n",
       "      <td>0002-ORFBO</td>\n",
       "      <td>Female</td>\n",
       "      <td>0</td>\n",
       "      <td>Yes</td>\n",
       "      <td>Yes</td>\n",
       "      <td>1</td>\n",
       "      <td>1</td>\n",
       "      <td>1</td>\n",
       "      <td>Mailed check</td>\n",
       "      <td>65.60</td>\n",
       "      <td>593.30</td>\n",
       "      <td>No</td>\n",
       "      <td>9.0</td>\n",
       "    </tr>\n",
       "    <tr>\n",
       "      <th>1</th>\n",
       "      <td>0003-MKNFE</td>\n",
       "      <td>Male</td>\n",
       "      <td>0</td>\n",
       "      <td>No</td>\n",
       "      <td>No</td>\n",
       "      <td>2</td>\n",
       "      <td>1</td>\n",
       "      <td>0</td>\n",
       "      <td>Mailed check</td>\n",
       "      <td>59.90</td>\n",
       "      <td>542.40</td>\n",
       "      <td>No</td>\n",
       "      <td>9.1</td>\n",
       "    </tr>\n",
       "    <tr>\n",
       "      <th>2</th>\n",
       "      <td>0004-TLHLJ</td>\n",
       "      <td>Male</td>\n",
       "      <td>0</td>\n",
       "      <td>No</td>\n",
       "      <td>No</td>\n",
       "      <td>1</td>\n",
       "      <td>2</td>\n",
       "      <td>0</td>\n",
       "      <td>Electronic check</td>\n",
       "      <td>73.90</td>\n",
       "      <td>280.85</td>\n",
       "      <td>Yes</td>\n",
       "      <td>3.8</td>\n",
       "    </tr>\n",
       "    <tr>\n",
       "      <th>3</th>\n",
       "      <td>0011-IGKFF</td>\n",
       "      <td>Male</td>\n",
       "      <td>1</td>\n",
       "      <td>Yes</td>\n",
       "      <td>No</td>\n",
       "      <td>1</td>\n",
       "      <td>2</td>\n",
       "      <td>0</td>\n",
       "      <td>Electronic check</td>\n",
       "      <td>98.00</td>\n",
       "      <td>1237.85</td>\n",
       "      <td>Yes</td>\n",
       "      <td>12.6</td>\n",
       "    </tr>\n",
       "    <tr>\n",
       "      <th>4</th>\n",
       "      <td>0013-EXCHZ</td>\n",
       "      <td>Female</td>\n",
       "      <td>1</td>\n",
       "      <td>Yes</td>\n",
       "      <td>No</td>\n",
       "      <td>1</td>\n",
       "      <td>2</td>\n",
       "      <td>0</td>\n",
       "      <td>Mailed check</td>\n",
       "      <td>83.90</td>\n",
       "      <td>267.40</td>\n",
       "      <td>Yes</td>\n",
       "      <td>3.2</td>\n",
       "    </tr>\n",
       "    <tr>\n",
       "      <th>...</th>\n",
       "      <td>...</td>\n",
       "      <td>...</td>\n",
       "      <td>...</td>\n",
       "      <td>...</td>\n",
       "      <td>...</td>\n",
       "      <td>...</td>\n",
       "      <td>...</td>\n",
       "      <td>...</td>\n",
       "      <td>...</td>\n",
       "      <td>...</td>\n",
       "      <td>...</td>\n",
       "      <td>...</td>\n",
       "      <td>...</td>\n",
       "    </tr>\n",
       "    <tr>\n",
       "      <th>7044</th>\n",
       "      <td>9987-LUTYD</td>\n",
       "      <td>Female</td>\n",
       "      <td>0</td>\n",
       "      <td>No</td>\n",
       "      <td>No</td>\n",
       "      <td>1</td>\n",
       "      <td>1</td>\n",
       "      <td>1</td>\n",
       "      <td>Mailed check</td>\n",
       "      <td>55.15</td>\n",
       "      <td>742.90</td>\n",
       "      <td>No</td>\n",
       "      <td>13.5</td>\n",
       "    </tr>\n",
       "    <tr>\n",
       "      <th>7045</th>\n",
       "      <td>9992-RRAMN</td>\n",
       "      <td>Male</td>\n",
       "      <td>0</td>\n",
       "      <td>Yes</td>\n",
       "      <td>No</td>\n",
       "      <td>2</td>\n",
       "      <td>2</td>\n",
       "      <td>0</td>\n",
       "      <td>Electronic check</td>\n",
       "      <td>85.10</td>\n",
       "      <td>1873.70</td>\n",
       "      <td>Yes</td>\n",
       "      <td>22.0</td>\n",
       "    </tr>\n",
       "    <tr>\n",
       "      <th>7046</th>\n",
       "      <td>9992-UJOEL</td>\n",
       "      <td>Male</td>\n",
       "      <td>0</td>\n",
       "      <td>No</td>\n",
       "      <td>No</td>\n",
       "      <td>1</td>\n",
       "      <td>1</td>\n",
       "      <td>0</td>\n",
       "      <td>Mailed check</td>\n",
       "      <td>50.30</td>\n",
       "      <td>92.75</td>\n",
       "      <td>No</td>\n",
       "      <td>1.8</td>\n",
       "    </tr>\n",
       "    <tr>\n",
       "      <th>7047</th>\n",
       "      <td>9993-LHIEB</td>\n",
       "      <td>Male</td>\n",
       "      <td>0</td>\n",
       "      <td>Yes</td>\n",
       "      <td>Yes</td>\n",
       "      <td>1</td>\n",
       "      <td>1</td>\n",
       "      <td>2</td>\n",
       "      <td>Mailed check</td>\n",
       "      <td>67.85</td>\n",
       "      <td>4627.65</td>\n",
       "      <td>No</td>\n",
       "      <td>68.2</td>\n",
       "    </tr>\n",
       "    <tr>\n",
       "      <th>7048</th>\n",
       "      <td>9995-HOTOH</td>\n",
       "      <td>Male</td>\n",
       "      <td>0</td>\n",
       "      <td>Yes</td>\n",
       "      <td>Yes</td>\n",
       "      <td>0</td>\n",
       "      <td>1</td>\n",
       "      <td>2</td>\n",
       "      <td>Electronic check</td>\n",
       "      <td>59.00</td>\n",
       "      <td>3707.60</td>\n",
       "      <td>No</td>\n",
       "      <td>62.8</td>\n",
       "    </tr>\n",
       "  </tbody>\n",
       "</table>\n",
       "<p>7049 rows × 13 columns</p>\n",
       "</div>"
      ],
      "text/plain": [
       "     customer_id  gender  is_senior_citizen partner dependents  phone_service  \\\n",
       "0     0002-ORFBO  Female                  0     Yes        Yes              1   \n",
       "1     0003-MKNFE    Male                  0      No         No              2   \n",
       "2     0004-TLHLJ    Male                  0      No         No              1   \n",
       "3     0011-IGKFF    Male                  1     Yes         No              1   \n",
       "4     0013-EXCHZ  Female                  1     Yes         No              1   \n",
       "...          ...     ...                ...     ...        ...            ...   \n",
       "7044  9987-LUTYD  Female                  0      No         No              1   \n",
       "7045  9992-RRAMN    Male                  0     Yes         No              2   \n",
       "7046  9992-UJOEL    Male                  0      No         No              1   \n",
       "7047  9993-LHIEB    Male                  0     Yes        Yes              1   \n",
       "7048  9995-HOTOH    Male                  0     Yes        Yes              0   \n",
       "\n",
       "      internet_service  contract_type      payment_type  monthly_charges  \\\n",
       "0                    1              1      Mailed check            65.60   \n",
       "1                    1              0      Mailed check            59.90   \n",
       "2                    2              0  Electronic check            73.90   \n",
       "3                    2              0  Electronic check            98.00   \n",
       "4                    2              0      Mailed check            83.90   \n",
       "...                ...            ...               ...              ...   \n",
       "7044                 1              1      Mailed check            55.15   \n",
       "7045                 2              0  Electronic check            85.10   \n",
       "7046                 1              0      Mailed check            50.30   \n",
       "7047                 1              2      Mailed check            67.85   \n",
       "7048                 1              2  Electronic check            59.00   \n",
       "\n",
       "      total_charges churn  tenure  \n",
       "0            593.30    No     9.0  \n",
       "1            542.40    No     9.1  \n",
       "2            280.85   Yes     3.8  \n",
       "3           1237.85   Yes    12.6  \n",
       "4            267.40   Yes     3.2  \n",
       "...             ...   ...     ...  \n",
       "7044         742.90    No    13.5  \n",
       "7045        1873.70   Yes    22.0  \n",
       "7046          92.75    No     1.8  \n",
       "7047        4627.65    No    68.2  \n",
       "7048        3707.60    No    62.8  \n",
       "\n",
       "[7049 rows x 13 columns]"
      ]
     },
     "execution_count": 2,
     "metadata": {},
     "output_type": "execute_result"
    }
   ],
   "source": [
    "telco_data = pd.read_csv(\"Fred Lindsey - jemison_spreadsheet_exercises - Table1_CustDetails.csv\")\n",
    "telco_data\n",
    "#telco_data.to_csv"
   ]
  },
  {
   "cell_type": "code",
   "execution_count": 3,
   "id": "cbc525eb",
   "metadata": {},
   "outputs": [
    {
     "name": "stdout",
     "output_type": "stream",
     "text": [
      "<class 'pandas.core.frame.DataFrame'>\n",
      "RangeIndex: 7049 entries, 0 to 7048\n",
      "Data columns (total 13 columns):\n",
      " #   Column             Non-Null Count  Dtype  \n",
      "---  ------             --------------  -----  \n",
      " 0   customer_id        7049 non-null   object \n",
      " 1   gender             7049 non-null   object \n",
      " 2   is_senior_citizen  7049 non-null   int64  \n",
      " 3   partner            7049 non-null   object \n",
      " 4   dependents         7049 non-null   object \n",
      " 5   phone_service      7049 non-null   int64  \n",
      " 6   internet_service   7049 non-null   int64  \n",
      " 7   contract_type      7049 non-null   int64  \n",
      " 8   payment_type       7049 non-null   object \n",
      " 9   monthly_charges    7049 non-null   float64\n",
      " 10  total_charges      7038 non-null   float64\n",
      " 11  churn              7049 non-null   object \n",
      " 12  tenure             7049 non-null   float64\n",
      "dtypes: float64(3), int64(4), object(6)\n",
      "memory usage: 716.0+ KB\n"
     ]
    }
   ],
   "source": [
    "telco_data.info()"
   ]
  },
  {
   "cell_type": "code",
   "execution_count": 4,
   "id": "bb7254bc",
   "metadata": {},
   "outputs": [
    {
     "data": {
      "text/html": [
       "<div>\n",
       "<style scoped>\n",
       "    .dataframe tbody tr th:only-of-type {\n",
       "        vertical-align: middle;\n",
       "    }\n",
       "\n",
       "    .dataframe tbody tr th {\n",
       "        vertical-align: top;\n",
       "    }\n",
       "\n",
       "    .dataframe thead th {\n",
       "        text-align: right;\n",
       "    }\n",
       "</style>\n",
       "<table border=\"1\" class=\"dataframe\">\n",
       "  <thead>\n",
       "    <tr style=\"text-align: right;\">\n",
       "      <th></th>\n",
       "      <th>0</th>\n",
       "      <th>1</th>\n",
       "    </tr>\n",
       "  </thead>\n",
       "  <tbody>\n",
       "    <tr>\n",
       "      <th>customer_id</th>\n",
       "      <td>0002-ORFBO</td>\n",
       "      <td>0003-MKNFE</td>\n",
       "    </tr>\n",
       "    <tr>\n",
       "      <th>gender</th>\n",
       "      <td>Female</td>\n",
       "      <td>Male</td>\n",
       "    </tr>\n",
       "    <tr>\n",
       "      <th>is_senior_citizen</th>\n",
       "      <td>0</td>\n",
       "      <td>0</td>\n",
       "    </tr>\n",
       "    <tr>\n",
       "      <th>partner</th>\n",
       "      <td>Yes</td>\n",
       "      <td>No</td>\n",
       "    </tr>\n",
       "    <tr>\n",
       "      <th>dependents</th>\n",
       "      <td>Yes</td>\n",
       "      <td>No</td>\n",
       "    </tr>\n",
       "    <tr>\n",
       "      <th>phone_service</th>\n",
       "      <td>1</td>\n",
       "      <td>2</td>\n",
       "    </tr>\n",
       "    <tr>\n",
       "      <th>internet_service</th>\n",
       "      <td>1</td>\n",
       "      <td>1</td>\n",
       "    </tr>\n",
       "    <tr>\n",
       "      <th>contract_type</th>\n",
       "      <td>1</td>\n",
       "      <td>0</td>\n",
       "    </tr>\n",
       "    <tr>\n",
       "      <th>payment_type</th>\n",
       "      <td>Mailed check</td>\n",
       "      <td>Mailed check</td>\n",
       "    </tr>\n",
       "    <tr>\n",
       "      <th>monthly_charges</th>\n",
       "      <td>65.6</td>\n",
       "      <td>59.9</td>\n",
       "    </tr>\n",
       "    <tr>\n",
       "      <th>total_charges</th>\n",
       "      <td>593.3</td>\n",
       "      <td>542.4</td>\n",
       "    </tr>\n",
       "    <tr>\n",
       "      <th>churn</th>\n",
       "      <td>No</td>\n",
       "      <td>No</td>\n",
       "    </tr>\n",
       "    <tr>\n",
       "      <th>tenure</th>\n",
       "      <td>9.0</td>\n",
       "      <td>9.1</td>\n",
       "    </tr>\n",
       "  </tbody>\n",
       "</table>\n",
       "</div>"
      ],
      "text/plain": [
       "                              0             1\n",
       "customer_id          0002-ORFBO    0003-MKNFE\n",
       "gender                   Female          Male\n",
       "is_senior_citizen             0             0\n",
       "partner                     Yes            No\n",
       "dependents                  Yes            No\n",
       "phone_service                 1             2\n",
       "internet_service              1             1\n",
       "contract_type                 1             0\n",
       "payment_type       Mailed check  Mailed check\n",
       "monthly_charges            65.6          59.9\n",
       "total_charges             593.3         542.4\n",
       "churn                        No            No\n",
       "tenure                      9.0           9.1"
      ]
     },
     "execution_count": 4,
     "metadata": {},
     "output_type": "execute_result"
    }
   ],
   "source": [
    "telco_data.head(2).T"
   ]
  },
  {
   "cell_type": "code",
   "execution_count": 5,
   "id": "95cf09c6",
   "metadata": {},
   "outputs": [
    {
     "data": {
      "text/plain": [
       "91637"
      ]
     },
     "execution_count": 5,
     "metadata": {},
     "output_type": "execute_result"
    }
   ],
   "source": [
    "telco_data.size"
   ]
  },
  {
   "cell_type": "markdown",
   "id": "bb814196",
   "metadata": {},
   "source": [
    "## Answering the basic questions:"
   ]
  },
  {
   "cell_type": "markdown",
   "id": "9fcc86a9",
   "metadata": {},
   "source": [
    "### 1. What is TELCO's churn rate?"
   ]
  },
  {
   "cell_type": "markdown",
   "id": "4a73b1a2",
   "metadata": {},
   "source": [
    "### 2. How much is it costing the company annually?"
   ]
  },
  {
   "cell_type": "code",
   "execution_count": 6,
   "id": "ea312553",
   "metadata": {},
   "outputs": [
    {
     "data": {
      "text/plain": [
       "<AxesSubplot:>"
      ]
     },
     "execution_count": 6,
     "metadata": {},
     "output_type": "execute_result"
    },
    {
     "data": {
      "image/png": "[encoded data removed]",
      "text/plain": [
       "<Figure size 432x288 with 1 Axes>"
      ]
     },
     "metadata": {
      "needs_background": "light"
     },
     "output_type": "display_data"
    }
   ],
   "source": [
    "telco_data.churn.hist()"
   ]
  },
  {
   "cell_type": "code",
   "execution_count": 7,
   "id": "11cc3480",
   "metadata": {},
   "outputs": [
    {
     "data": {
      "text/plain": [
       "No     5179\n",
       "Yes    1870\n",
       "Name: churn, dtype: int64"
      ]
     },
     "execution_count": 7,
     "metadata": {},
     "output_type": "execute_result"
    }
   ],
   "source": [
    "telco_data.churn.value_counts()"
   ]
  },
  {
   "cell_type": "markdown",
   "id": "73892d38",
   "metadata": {},
   "source": [
    "## Step 1:\n",
    "- find number of churned customers, and the percent of churned customers. Comapre to industry average:"
   ]
  },
  {
   "cell_type": "code",
   "execution_count": 8,
   "id": "4a822b3e",
   "metadata": {},
   "outputs": [
    {
     "data": {
      "text/plain": [
       "1870"
      ]
     },
     "execution_count": 8,
     "metadata": {},
     "output_type": "execute_result"
    }
   ],
   "source": [
    "telco_churn = telco_data[telco_data.churn == \"Yes\"].churn.count()\n",
    "telco_churn"
   ]
  },
  {
   "cell_type": "code",
   "execution_count": 9,
   "id": "9aeaf24d",
   "metadata": {},
   "outputs": [
    {
     "data": {
      "text/plain": [
       "0.2652858561498085"
      ]
     },
     "execution_count": 9,
     "metadata": {},
     "output_type": "execute_result"
    }
   ],
   "source": [
    "telco_churn_pct = telco_data[telco_data.churn == \"Yes\"].shape[0]/len(telco_data) ## this is TELCO's churn rate\n",
    "telco_churn_pct"
   ]
  },
  {
   "cell_type": "markdown",
   "id": "2fc3c91d",
   "metadata": {},
   "source": [
    "## Takeaway:\n",
    "- TELCO's churn rate is 26.53%\n",
    "- the Telecom (Phone and Internet service) Industry average churn rate for 2022 is 21%\n",
    "(source: https://www.statista.com/statistics/816735/customer-churn-rate-by-industry-us/)\n",
    "- TELCO has a 5.5% higher churn rate than the industry average"
   ]
  },
  {
   "cell_type": "code",
   "execution_count": 10,
   "id": "7e2a18a4",
   "metadata": {},
   "outputs": [
    {
     "data": {
      "text/plain": [
       "139161.35"
      ]
     },
     "execution_count": 10,
     "metadata": {},
     "output_type": "execute_result"
    }
   ],
   "source": [
    "churn_total_monthly_charges = telco_data[telco_data.churn == 'Yes'].monthly_charges.sum()\n",
    "churn_total_monthly_charges"
   ]
  },
  {
   "cell_type": "markdown",
   "id": "dfa2fd28",
   "metadata": {},
   "source": [
    "## Step 2:\n",
    "- find the median tenure in months of non-churned customers"
   ]
  },
  {
   "cell_type": "code",
   "execution_count": 11,
   "id": "64f6bac5",
   "metadata": {},
   "outputs": [
    {
     "data": {
      "text/plain": [
       "37.6"
      ]
     },
     "execution_count": 11,
     "metadata": {},
     "output_type": "execute_result"
    }
   ],
   "source": [
    "stay_tenure = telco_data[telco_data.churn == \"No\"].tenure.median()\n",
    "stay_tenure"
   ]
  },
  {
   "cell_type": "markdown",
   "id": "92a231d7",
   "metadata": {},
   "source": [
    "## Step 2b:\n",
    "- median tenure of accounts for churn"
   ]
  },
  {
   "cell_type": "code",
   "execution_count": 12,
   "id": "17f8daf2",
   "metadata": {},
   "outputs": [
    {
     "data": {
      "text/plain": [
       "9.7"
      ]
     },
     "execution_count": 12,
     "metadata": {},
     "output_type": "execute_result"
    }
   ],
   "source": [
    "churn_tenure = telco_data[telco_data.churn == \"Yes\"].tenure.median()\n",
    "churn_tenure"
   ]
  },
  {
   "cell_type": "code",
   "execution_count": 13,
   "id": "b74a4515",
   "metadata": {},
   "outputs": [
    {
     "data": {
      "text/plain": [
       "79.625"
      ]
     },
     "execution_count": 13,
     "metadata": {},
     "output_type": "execute_result"
    }
   ],
   "source": [
    "## median monthly revenue for non-Churn accounts\n",
    "churn_monthly_mdn_charge = telco_data[telco_data.churn == \"Yes\"].monthly_charges.median()\n",
    "churn_monthly_mdn_charge"
   ]
  },
  {
   "cell_type": "code",
   "execution_count": 14,
   "id": "02232e5d",
   "metadata": {},
   "outputs": [
    {
     "data": {
      "text/plain": [
       "64.4"
      ]
     },
     "execution_count": 14,
     "metadata": {},
     "output_type": "execute_result"
    }
   ],
   "source": [
    "stay_monthly_mdn_charge = telco_data[telco_data.churn == \"No\"].monthly_charges.median()\n",
    "stay_monthly_mdn_charge"
   ]
  },
  {
   "cell_type": "markdown",
   "id": "7edc330c",
   "metadata": {},
   "source": [
    "## Step 3:\n",
    "- find annual revenue loss per churned customer (12 months - months served on contract by churned customer):"
   ]
  },
  {
   "cell_type": "code",
   "execution_count": 15,
   "id": "9638f11e",
   "metadata": {},
   "outputs": [
    {
     "data": {
      "text/plain": [
       "183.13750000000005"
      ]
     },
     "execution_count": 15,
     "metadata": {},
     "output_type": "execute_result"
    }
   ],
   "source": [
    "annual_lost_revenue = churn_monthly_mdn_charge * (12 - churn_tenure) \n",
    "annual_lost_revenue"
   ]
  },
  {
   "cell_type": "code",
   "execution_count": 16,
   "id": "afa7bc4d",
   "metadata": {},
   "outputs": [
    {
     "data": {
      "text/plain": [
       "342467.12500000006"
      ]
     },
     "execution_count": 16,
     "metadata": {},
     "output_type": "execute_result"
    }
   ],
   "source": [
    "agg_annual_lost_revenue = annual_lost_revenue * telco_churn ## annual lost revenue per churn * number of churned\n",
    "agg_annual_lost_revenue"
   ]
  },
  {
   "cell_type": "markdown",
   "id": "9e02e859",
   "metadata": {},
   "source": [
    "## Step 4:\n",
    "- sum that number to give total churned customers lifetime revenue loss to the company"
   ]
  },
  {
   "cell_type": "code",
   "execution_count": 17,
   "id": "bf77512b",
   "metadata": {},
   "outputs": [
    {
     "data": {
      "text/plain": [
       "2221.5375000000004"
      ]
     },
     "execution_count": 17,
     "metadata": {},
     "output_type": "execute_result"
    }
   ],
   "source": [
    "churn_lifetime_lost_revenue = (stay_tenure - churn_tenure) * churn_monthly_mdn_charge #lifetime loss per customer\n",
    "churn_lifetime_lost_revenue"
   ]
  },
  {
   "cell_type": "code",
   "execution_count": 18,
   "id": "a2c5a711",
   "metadata": {},
   "outputs": [
    {
     "data": {
      "text/plain": [
       "4154275.1250000005"
      ]
     },
     "execution_count": 18,
     "metadata": {},
     "output_type": "execute_result"
    }
   ],
   "source": [
    "agg_churn_lifetime_lost_revenue = churn_lifetime_lost_revenue * telco_churn\n",
    "agg_churn_lifetime_lost_revenue"
   ]
  },
  {
   "cell_type": "markdown",
   "id": "6ff6633c",
   "metadata": {},
   "source": [
    "## Step 5:\n",
    "find average acquisition cost per new customer, and multiply by amount of customers required to replace churned customers"
   ]
  },
  {
   "cell_type": "markdown",
   "id": "e634bfd2",
   "metadata": {},
   "source": [
    "- Average Cost of Customer Acquisiton:\n",
    "\n",
    "    - $315 in 2022 (https://startuptalky.com/cac-by-industry/) \n",
    "    \n",
    "    - replacing 1870 customers, at a cost of $315/ customer: $589,050\n",
    "    \n",
    "    - TELCO annual loss of revenue due to churn is: $342,467\n",
    "    "
   ]
  },
  {
   "cell_type": "markdown",
   "id": "37d6ac73",
   "metadata": {},
   "source": [
    "## Step 6:\n",
    "Sum both numbers, to give overall lost revenue total. this is the completed problem statement for the company Sales Department"
   ]
  },
  {
   "cell_type": "markdown",
   "id": "515086fc",
   "metadata": {},
   "source": [
    "- Annual Total Cost:\n",
    "    \n",
    "    - annual churn cost (revenue loss + customer acquisition) = $931,517"
   ]
  },
  {
   "cell_type": "markdown",
   "id": "30e48464",
   "metadata": {},
   "source": [
    "## Step 7:\n",
    "How much does the lost revenue represent in terms of total annual revenue?\n",
    "- total revenue = avg monthly charges * 12 * count of customers to TELCO = $5,476,820.40"
   ]
  },
  {
   "cell_type": "code",
   "execution_count": 19,
   "id": "24dc0f65",
   "metadata": {},
   "outputs": [
    {
     "data": {
      "text/plain": [
       "5476820.400000002"
      ]
     },
     "execution_count": 19,
     "metadata": {},
     "output_type": "execute_result"
    }
   ],
   "source": [
    "telco_data.monthly_charges.mean() * 12 * telco_data.customer_id.count()"
   ]
  },
  {
   "cell_type": "code",
   "execution_count": 20,
   "id": "c9f5aeb3",
   "metadata": {},
   "outputs": [
    {
     "data": {
      "text/plain": [
       "0.17008353971220228"
      ]
     },
     "execution_count": 20,
     "metadata": {},
     "output_type": "execute_result"
    }
   ],
   "source": [
    "931517/5476820.400000002"
   ]
  },
  {
   "cell_type": "markdown",
   "id": "58e608bf",
   "metadata": {},
   "source": [
    "## Part 1 Takeaways:"
   ]
  },
  {
   "cell_type": "markdown",
   "id": "f89f3675",
   "metadata": {},
   "source": [
    "- TELCO's annual revenue is $5.5 mn"
   ]
  },
  {
   "cell_type": "markdown",
   "id": "a9dfad90",
   "metadata": {},
   "source": [
    "- Lost revenue due to churn is equivalent to 17% of TELCO's annual revenue, or roughly $930k"
   ]
  },
  {
   "cell_type": "markdown",
   "id": "06e99134",
   "metadata": {},
   "source": [
    "- Additionally, lost lifetime revenue from churned customers is >$4 mn."
   ]
  },
  {
   "cell_type": "markdown",
   "id": "088c00e8",
   "metadata": {},
   "source": [
    "## Part 2: Get to know your Data at a high level\n",
    "- Histograms and value counts of our target variable, and variables of interest\n",
    "- Determine if we have any missing values\n",
    "    - ** general guideline:\n",
    "    - if you're doing any ML, split the data before exploring\n",
    "    - if youre looking at how x and y move together, we need to operate on the `train` dataset\n",
    "- check your datasource for a Data Dictionary\n",
    "- check the value counts or a histogram of your target variable\n",
    "- check for nulls and handle them\n",
    "- \"What do we know about the people who left?\""
   ]
  },
  {
   "cell_type": "code",
   "execution_count": 21,
   "id": "2c613cd1",
   "metadata": {},
   "outputs": [],
   "source": [
    "import seaborn as sns\n",
    "import matplotlib.pyplot as plt\n",
    "import pandas as pd"
   ]
  },
  {
   "cell_type": "code",
   "execution_count": 22,
   "id": "be07554e",
   "metadata": {},
   "outputs": [
    {
     "name": "stdout",
     "output_type": "stream",
     "text": [
      "<class 'pandas.core.frame.DataFrame'>\n",
      "RangeIndex: 7049 entries, 0 to 7048\n",
      "Data columns (total 13 columns):\n",
      " #   Column             Non-Null Count  Dtype  \n",
      "---  ------             --------------  -----  \n",
      " 0   customer_id        7049 non-null   object \n",
      " 1   gender             7049 non-null   object \n",
      " 2   is_senior_citizen  7049 non-null   int64  \n",
      " 3   partner            7049 non-null   object \n",
      " 4   dependents         7049 non-null   object \n",
      " 5   phone_service      7049 non-null   int64  \n",
      " 6   internet_service   7049 non-null   int64  \n",
      " 7   contract_type      7049 non-null   int64  \n",
      " 8   payment_type       7049 non-null   object \n",
      " 9   monthly_charges    7049 non-null   float64\n",
      " 10  total_charges      7038 non-null   float64\n",
      " 11  churn              7049 non-null   object \n",
      " 12  tenure             7049 non-null   float64\n",
      "dtypes: float64(3), int64(4), object(6)\n",
      "memory usage: 716.0+ KB\n"
     ]
    }
   ],
   "source": [
    "telco_data.info()"
   ]
  },
  {
   "cell_type": "code",
   "execution_count": 23,
   "id": "6c7ddc23",
   "metadata": {},
   "outputs": [
    {
     "data": {
      "text/plain": [
       "<AxesSubplot:>"
      ]
     },
     "execution_count": 23,
     "metadata": {},
     "output_type": "execute_result"
    },
    {
     "data": {
      "image/png": "[encoded data removed]",
      "text/plain": [
       "<Figure size 432x288 with 1 Axes>"
      ]
     },
     "metadata": {
      "needs_background": "light"
     },
     "output_type": "display_data"
    }
   ],
   "source": [
    "telco_data.internet_service.hist()"
   ]
  },
  {
   "cell_type": "code",
   "execution_count": 24,
   "id": "cefb47f9",
   "metadata": {},
   "outputs": [
    {
     "data": {
      "text/plain": [
       "<AxesSubplot:xlabel='churn', ylabel='Count'>"
      ]
     },
     "execution_count": 24,
     "metadata": {},
     "output_type": "execute_result"
    },
    {
     "data": {
      "image/png": "[encoded data removed]",
      "text/plain": [
       "<Figure size 432x288 with 1 Axes>"
      ]
     },
     "metadata": {
      "needs_background": "light"
     },
     "output_type": "display_data"
    }
   ],
   "source": [
    "sns.histplot(data = telco_data.churn)"
   ]
  },
  {
   "cell_type": "code",
   "execution_count": 25,
   "id": "af405d62",
   "metadata": {},
   "outputs": [
    {
     "data": {
      "text/plain": [
       "<AxesSubplot:xlabel='churn', ylabel='monthly_charges'>"
      ]
     },
     "execution_count": 25,
     "metadata": {},
     "output_type": "execute_result"
    },
    {
     "data": {
      "image/png": "[encoded data removed]",
      "text/plain": [
       "<Figure size 432x288 with 1 Axes>"
      ]
     },
     "metadata": {
      "needs_background": "light"
     },
     "output_type": "display_data"
    }
   ],
   "source": [
    "# Is churn dependant higher monthly prices?\n",
    "sns.barplot(x = \"churn\", y = \"monthly_charges\", data = telco_data)"
   ]
  },
  {
   "cell_type": "code",
   "execution_count": 26,
   "id": "100eb879",
   "metadata": {},
   "outputs": [
    {
     "data": {
      "text/html": [
       "<div>\n",
       "<style scoped>\n",
       "    .dataframe tbody tr th:only-of-type {\n",
       "        vertical-align: middle;\n",
       "    }\n",
       "\n",
       "    .dataframe tbody tr th {\n",
       "        vertical-align: top;\n",
       "    }\n",
       "\n",
       "    .dataframe thead th {\n",
       "        text-align: right;\n",
       "    }\n",
       "</style>\n",
       "<table border=\"1\" class=\"dataframe\">\n",
       "  <thead>\n",
       "    <tr style=\"text-align: right;\">\n",
       "      <th></th>\n",
       "      <th>customer_id</th>\n",
       "      <th>gender</th>\n",
       "      <th>is_senior_citizen</th>\n",
       "      <th>partner</th>\n",
       "      <th>dependents</th>\n",
       "      <th>phone_service</th>\n",
       "      <th>internet_service</th>\n",
       "      <th>contract_type</th>\n",
       "      <th>payment_type</th>\n",
       "      <th>monthly_charges</th>\n",
       "      <th>total_charges</th>\n",
       "      <th>churn</th>\n",
       "      <th>tenure</th>\n",
       "    </tr>\n",
       "  </thead>\n",
       "  <tbody>\n",
       "    <tr>\n",
       "      <th>2692</th>\n",
       "      <td>3815-SLMEF</td>\n",
       "      <td>Female</td>\n",
       "      <td>0</td>\n",
       "      <td>No</td>\n",
       "      <td>No</td>\n",
       "      <td>0</td>\n",
       "      <td>1</td>\n",
       "      <td>0</td>\n",
       "      <td>Mailed check</td>\n",
       "      <td>34.25</td>\n",
       "      <td>139.35</td>\n",
       "      <td>Yes</td>\n",
       "      <td>4.1</td>\n",
       "    </tr>\n",
       "    <tr>\n",
       "      <th>5792</th>\n",
       "      <td>8152-VETUR</td>\n",
       "      <td>Female</td>\n",
       "      <td>0</td>\n",
       "      <td>Yes</td>\n",
       "      <td>No</td>\n",
       "      <td>2</td>\n",
       "      <td>2</td>\n",
       "      <td>2</td>\n",
       "      <td>Credit card (automatic)</td>\n",
       "      <td>97.70</td>\n",
       "      <td>6869.70</td>\n",
       "      <td>No</td>\n",
       "      <td>70.3</td>\n",
       "    </tr>\n",
       "    <tr>\n",
       "      <th>3376</th>\n",
       "      <td>4808-YNLEU</td>\n",
       "      <td>Female</td>\n",
       "      <td>0</td>\n",
       "      <td>Yes</td>\n",
       "      <td>No</td>\n",
       "      <td>1</td>\n",
       "      <td>1</td>\n",
       "      <td>1</td>\n",
       "      <td>Bank transfer (automatic)</td>\n",
       "      <td>62.15</td>\n",
       "      <td>2215.45</td>\n",
       "      <td>No</td>\n",
       "      <td>35.6</td>\n",
       "    </tr>\n",
       "    <tr>\n",
       "      <th>1909</th>\n",
       "      <td>2782-JEEBU</td>\n",
       "      <td>Male</td>\n",
       "      <td>0</td>\n",
       "      <td>No</td>\n",
       "      <td>No</td>\n",
       "      <td>0</td>\n",
       "      <td>1</td>\n",
       "      <td>0</td>\n",
       "      <td>Mailed check</td>\n",
       "      <td>36.00</td>\n",
       "      <td>780.15</td>\n",
       "      <td>No</td>\n",
       "      <td>21.7</td>\n",
       "    </tr>\n",
       "    <tr>\n",
       "      <th>3659</th>\n",
       "      <td>5171-EPLKN</td>\n",
       "      <td>Male</td>\n",
       "      <td>0</td>\n",
       "      <td>No</td>\n",
       "      <td>No</td>\n",
       "      <td>1</td>\n",
       "      <td>0</td>\n",
       "      <td>2</td>\n",
       "      <td>Credit card (automatic)</td>\n",
       "      <td>19.85</td>\n",
       "      <td>470.00</td>\n",
       "      <td>No</td>\n",
       "      <td>23.7</td>\n",
       "    </tr>\n",
       "    <tr>\n",
       "      <th>4800</th>\n",
       "      <td>6745-JEFZB</td>\n",
       "      <td>Male</td>\n",
       "      <td>0</td>\n",
       "      <td>Yes</td>\n",
       "      <td>No</td>\n",
       "      <td>2</td>\n",
       "      <td>2</td>\n",
       "      <td>0</td>\n",
       "      <td>Credit card (automatic)</td>\n",
       "      <td>91.50</td>\n",
       "      <td>3236.35</td>\n",
       "      <td>No</td>\n",
       "      <td>35.4</td>\n",
       "    </tr>\n",
       "    <tr>\n",
       "      <th>3349</th>\n",
       "      <td>4776-XSKYQ</td>\n",
       "      <td>Female</td>\n",
       "      <td>0</td>\n",
       "      <td>Yes</td>\n",
       "      <td>Yes</td>\n",
       "      <td>0</td>\n",
       "      <td>1</td>\n",
       "      <td>1</td>\n",
       "      <td>Credit card (automatic)</td>\n",
       "      <td>30.25</td>\n",
       "      <td>368.85</td>\n",
       "      <td>No</td>\n",
       "      <td>12.2</td>\n",
       "    </tr>\n",
       "    <tr>\n",
       "      <th>4809</th>\n",
       "      <td>6766-HFKLA</td>\n",
       "      <td>Female</td>\n",
       "      <td>0</td>\n",
       "      <td>Yes</td>\n",
       "      <td>No</td>\n",
       "      <td>2</td>\n",
       "      <td>2</td>\n",
       "      <td>2</td>\n",
       "      <td>Bank transfer (automatic)</td>\n",
       "      <td>103.20</td>\n",
       "      <td>5744.35</td>\n",
       "      <td>No</td>\n",
       "      <td>55.7</td>\n",
       "    </tr>\n",
       "    <tr>\n",
       "      <th>6051</th>\n",
       "      <td>8573-CGOCC</td>\n",
       "      <td>Male</td>\n",
       "      <td>0</td>\n",
       "      <td>No</td>\n",
       "      <td>No</td>\n",
       "      <td>1</td>\n",
       "      <td>0</td>\n",
       "      <td>0</td>\n",
       "      <td>Credit card (automatic)</td>\n",
       "      <td>19.75</td>\n",
       "      <td>294.90</td>\n",
       "      <td>No</td>\n",
       "      <td>14.9</td>\n",
       "    </tr>\n",
       "    <tr>\n",
       "      <th>5997</th>\n",
       "      <td>8461-EFQYM</td>\n",
       "      <td>Female</td>\n",
       "      <td>0</td>\n",
       "      <td>No</td>\n",
       "      <td>No</td>\n",
       "      <td>2</td>\n",
       "      <td>0</td>\n",
       "      <td>1</td>\n",
       "      <td>Electronic check</td>\n",
       "      <td>24.25</td>\n",
       "      <td>914.40</td>\n",
       "      <td>No</td>\n",
       "      <td>37.7</td>\n",
       "    </tr>\n",
       "    <tr>\n",
       "      <th>5609</th>\n",
       "      <td>7901-HXJVA</td>\n",
       "      <td>Male</td>\n",
       "      <td>0</td>\n",
       "      <td>No</td>\n",
       "      <td>No</td>\n",
       "      <td>1</td>\n",
       "      <td>2</td>\n",
       "      <td>0</td>\n",
       "      <td>Electronic check</td>\n",
       "      <td>76.45</td>\n",
       "      <td>1117.55</td>\n",
       "      <td>No</td>\n",
       "      <td>14.6</td>\n",
       "    </tr>\n",
       "    <tr>\n",
       "      <th>863</th>\n",
       "      <td>1254-IZEYF</td>\n",
       "      <td>Female</td>\n",
       "      <td>1</td>\n",
       "      <td>No</td>\n",
       "      <td>No</td>\n",
       "      <td>2</td>\n",
       "      <td>2</td>\n",
       "      <td>0</td>\n",
       "      <td>Electronic check</td>\n",
       "      <td>99.95</td>\n",
       "      <td>3186.65</td>\n",
       "      <td>Yes</td>\n",
       "      <td>31.9</td>\n",
       "    </tr>\n",
       "    <tr>\n",
       "      <th>4700</th>\n",
       "      <td>6625-FLENO</td>\n",
       "      <td>Male</td>\n",
       "      <td>0</td>\n",
       "      <td>Yes</td>\n",
       "      <td>No</td>\n",
       "      <td>1</td>\n",
       "      <td>0</td>\n",
       "      <td>2</td>\n",
       "      <td>Mailed check</td>\n",
       "      <td>20.75</td>\n",
       "      <td>1185.95</td>\n",
       "      <td>No</td>\n",
       "      <td>57.2</td>\n",
       "    </tr>\n",
       "    <tr>\n",
       "      <th>106</th>\n",
       "      <td>0188-GWFLE</td>\n",
       "      <td>Male</td>\n",
       "      <td>0</td>\n",
       "      <td>No</td>\n",
       "      <td>No</td>\n",
       "      <td>1</td>\n",
       "      <td>0</td>\n",
       "      <td>0</td>\n",
       "      <td>Mailed check</td>\n",
       "      <td>20.05</td>\n",
       "      <td>33.70</td>\n",
       "      <td>No</td>\n",
       "      <td>1.7</td>\n",
       "    </tr>\n",
       "    <tr>\n",
       "      <th>5815</th>\n",
       "      <td>8185-UPYBR</td>\n",
       "      <td>Male</td>\n",
       "      <td>0</td>\n",
       "      <td>Yes</td>\n",
       "      <td>No</td>\n",
       "      <td>2</td>\n",
       "      <td>2</td>\n",
       "      <td>0</td>\n",
       "      <td>Electronic check</td>\n",
       "      <td>75.50</td>\n",
       "      <td>438.00</td>\n",
       "      <td>Yes</td>\n",
       "      <td>5.8</td>\n",
       "    </tr>\n",
       "    <tr>\n",
       "      <th>352</th>\n",
       "      <td>0516-WJVXC</td>\n",
       "      <td>Female</td>\n",
       "      <td>0</td>\n",
       "      <td>No</td>\n",
       "      <td>No</td>\n",
       "      <td>1</td>\n",
       "      <td>1</td>\n",
       "      <td>0</td>\n",
       "      <td>Electronic check</td>\n",
       "      <td>54.20</td>\n",
       "      <td>308.25</td>\n",
       "      <td>Yes</td>\n",
       "      <td>5.7</td>\n",
       "    </tr>\n",
       "    <tr>\n",
       "      <th>3664</th>\n",
       "      <td>5174-ITUMV</td>\n",
       "      <td>Male</td>\n",
       "      <td>0</td>\n",
       "      <td>Yes</td>\n",
       "      <td>Yes</td>\n",
       "      <td>2</td>\n",
       "      <td>2</td>\n",
       "      <td>1</td>\n",
       "      <td>Electronic check</td>\n",
       "      <td>105.40</td>\n",
       "      <td>6989.45</td>\n",
       "      <td>No</td>\n",
       "      <td>66.3</td>\n",
       "    </tr>\n",
       "    <tr>\n",
       "      <th>3055</th>\n",
       "      <td>4373-MAVJG</td>\n",
       "      <td>Female</td>\n",
       "      <td>0</td>\n",
       "      <td>Yes</td>\n",
       "      <td>Yes</td>\n",
       "      <td>2</td>\n",
       "      <td>2</td>\n",
       "      <td>0</td>\n",
       "      <td>Bank transfer (automatic)</td>\n",
       "      <td>90.90</td>\n",
       "      <td>1259.00</td>\n",
       "      <td>Yes</td>\n",
       "      <td>13.9</td>\n",
       "    </tr>\n",
       "    <tr>\n",
       "      <th>5342</th>\n",
       "      <td>7548-SEPYI</td>\n",
       "      <td>Female</td>\n",
       "      <td>0</td>\n",
       "      <td>No</td>\n",
       "      <td>No</td>\n",
       "      <td>1</td>\n",
       "      <td>2</td>\n",
       "      <td>0</td>\n",
       "      <td>Electronic check</td>\n",
       "      <td>96.25</td>\n",
       "      <td>512.45</td>\n",
       "      <td>Yes</td>\n",
       "      <td>5.3</td>\n",
       "    </tr>\n",
       "    <tr>\n",
       "      <th>6587</th>\n",
       "      <td>9364-YKUVW</td>\n",
       "      <td>Male</td>\n",
       "      <td>0</td>\n",
       "      <td>No</td>\n",
       "      <td>No</td>\n",
       "      <td>1</td>\n",
       "      <td>0</td>\n",
       "      <td>0</td>\n",
       "      <td>Mailed check</td>\n",
       "      <td>19.80</td>\n",
       "      <td>309.40</td>\n",
       "      <td>No</td>\n",
       "      <td>15.6</td>\n",
       "    </tr>\n",
       "    <tr>\n",
       "      <th>1547</th>\n",
       "      <td>2257-BOVXD</td>\n",
       "      <td>Male</td>\n",
       "      <td>0</td>\n",
       "      <td>Yes</td>\n",
       "      <td>No</td>\n",
       "      <td>2</td>\n",
       "      <td>1</td>\n",
       "      <td>0</td>\n",
       "      <td>Credit card (automatic)</td>\n",
       "      <td>66.60</td>\n",
       "      <td>979.50</td>\n",
       "      <td>No</td>\n",
       "      <td>14.7</td>\n",
       "    </tr>\n",
       "    <tr>\n",
       "      <th>1668</th>\n",
       "      <td>2430-USGXP</td>\n",
       "      <td>Male</td>\n",
       "      <td>0</td>\n",
       "      <td>Yes</td>\n",
       "      <td>No</td>\n",
       "      <td>2</td>\n",
       "      <td>2</td>\n",
       "      <td>0</td>\n",
       "      <td>Electronic check</td>\n",
       "      <td>101.05</td>\n",
       "      <td>2391.80</td>\n",
       "      <td>Yes</td>\n",
       "      <td>23.7</td>\n",
       "    </tr>\n",
       "    <tr>\n",
       "      <th>5512</th>\n",
       "      <td>7762-URZQH</td>\n",
       "      <td>Male</td>\n",
       "      <td>0</td>\n",
       "      <td>Yes</td>\n",
       "      <td>No</td>\n",
       "      <td>2</td>\n",
       "      <td>2</td>\n",
       "      <td>2</td>\n",
       "      <td>Credit card (automatic)</td>\n",
       "      <td>106.05</td>\n",
       "      <td>6981.35</td>\n",
       "      <td>Yes</td>\n",
       "      <td>65.8</td>\n",
       "    </tr>\n",
       "    <tr>\n",
       "      <th>3935</th>\n",
       "      <td>5539-TMZLF</td>\n",
       "      <td>Male</td>\n",
       "      <td>1</td>\n",
       "      <td>No</td>\n",
       "      <td>No</td>\n",
       "      <td>1</td>\n",
       "      <td>2</td>\n",
       "      <td>0</td>\n",
       "      <td>Electronic check</td>\n",
       "      <td>69.75</td>\n",
       "      <td>69.75</td>\n",
       "      <td>Yes</td>\n",
       "      <td>1.0</td>\n",
       "    </tr>\n",
       "    <tr>\n",
       "      <th>1687</th>\n",
       "      <td>2460-FPSYH</td>\n",
       "      <td>Female</td>\n",
       "      <td>1</td>\n",
       "      <td>No</td>\n",
       "      <td>No</td>\n",
       "      <td>0</td>\n",
       "      <td>1</td>\n",
       "      <td>0</td>\n",
       "      <td>Electronic check</td>\n",
       "      <td>55.80</td>\n",
       "      <td>2109.35</td>\n",
       "      <td>Yes</td>\n",
       "      <td>37.8</td>\n",
       "    </tr>\n",
       "  </tbody>\n",
       "</table>\n",
       "</div>"
      ],
      "text/plain": [
       "     customer_id  gender  is_senior_citizen partner dependents  phone_service  \\\n",
       "2692  3815-SLMEF  Female                  0      No         No              0   \n",
       "5792  8152-VETUR  Female                  0     Yes         No              2   \n",
       "3376  4808-YNLEU  Female                  0     Yes         No              1   \n",
       "1909  2782-JEEBU    Male                  0      No         No              0   \n",
       "3659  5171-EPLKN    Male                  0      No         No              1   \n",
       "4800  6745-JEFZB    Male                  0     Yes         No              2   \n",
       "3349  4776-XSKYQ  Female                  0     Yes        Yes              0   \n",
       "4809  6766-HFKLA  Female                  0     Yes         No              2   \n",
       "6051  8573-CGOCC    Male                  0      No         No              1   \n",
       "5997  8461-EFQYM  Female                  0      No         No              2   \n",
       "5609  7901-HXJVA    Male                  0      No         No              1   \n",
       "863   1254-IZEYF  Female                  1      No         No              2   \n",
       "4700  6625-FLENO    Male                  0     Yes         No              1   \n",
       "106   0188-GWFLE    Male                  0      No         No              1   \n",
       "5815  8185-UPYBR    Male                  0     Yes         No              2   \n",
       "352   0516-WJVXC  Female                  0      No         No              1   \n",
       "3664  5174-ITUMV    Male                  0     Yes        Yes              2   \n",
       "3055  4373-MAVJG  Female                  0     Yes        Yes              2   \n",
       "5342  7548-SEPYI  Female                  0      No         No              1   \n",
       "6587  9364-YKUVW    Male                  0      No         No              1   \n",
       "1547  2257-BOVXD    Male                  0     Yes         No              2   \n",
       "1668  2430-USGXP    Male                  0     Yes         No              2   \n",
       "5512  7762-URZQH    Male                  0     Yes         No              2   \n",
       "3935  5539-TMZLF    Male                  1      No         No              1   \n",
       "1687  2460-FPSYH  Female                  1      No         No              0   \n",
       "\n",
       "      internet_service  contract_type               payment_type  \\\n",
       "2692                 1              0               Mailed check   \n",
       "5792                 2              2    Credit card (automatic)   \n",
       "3376                 1              1  Bank transfer (automatic)   \n",
       "1909                 1              0               Mailed check   \n",
       "3659                 0              2    Credit card (automatic)   \n",
       "4800                 2              0    Credit card (automatic)   \n",
       "3349                 1              1    Credit card (automatic)   \n",
       "4809                 2              2  Bank transfer (automatic)   \n",
       "6051                 0              0    Credit card (automatic)   \n",
       "5997                 0              1           Electronic check   \n",
       "5609                 2              0           Electronic check   \n",
       "863                  2              0           Electronic check   \n",
       "4700                 0              2               Mailed check   \n",
       "106                  0              0               Mailed check   \n",
       "5815                 2              0           Electronic check   \n",
       "352                  1              0           Electronic check   \n",
       "3664                 2              1           Electronic check   \n",
       "3055                 2              0  Bank transfer (automatic)   \n",
       "5342                 2              0           Electronic check   \n",
       "6587                 0              0               Mailed check   \n",
       "1547                 1              0    Credit card (automatic)   \n",
       "1668                 2              0           Electronic check   \n",
       "5512                 2              2    Credit card (automatic)   \n",
       "3935                 2              0           Electronic check   \n",
       "1687                 1              0           Electronic check   \n",
       "\n",
       "      monthly_charges  total_charges churn  tenure  \n",
       "2692            34.25         139.35   Yes     4.1  \n",
       "5792            97.70        6869.70    No    70.3  \n",
       "3376            62.15        2215.45    No    35.6  \n",
       "1909            36.00         780.15    No    21.7  \n",
       "3659            19.85         470.00    No    23.7  \n",
       "4800            91.50        3236.35    No    35.4  \n",
       "3349            30.25         368.85    No    12.2  \n",
       "4809           103.20        5744.35    No    55.7  \n",
       "6051            19.75         294.90    No    14.9  \n",
       "5997            24.25         914.40    No    37.7  \n",
       "5609            76.45        1117.55    No    14.6  \n",
       "863             99.95        3186.65   Yes    31.9  \n",
       "4700            20.75        1185.95    No    57.2  \n",
       "106             20.05          33.70    No     1.7  \n",
       "5815            75.50         438.00   Yes     5.8  \n",
       "352             54.20         308.25   Yes     5.7  \n",
       "3664           105.40        6989.45    No    66.3  \n",
       "3055            90.90        1259.00   Yes    13.9  \n",
       "5342            96.25         512.45   Yes     5.3  \n",
       "6587            19.80         309.40    No    15.6  \n",
       "1547            66.60         979.50    No    14.7  \n",
       "1668           101.05        2391.80   Yes    23.7  \n",
       "5512           106.05        6981.35   Yes    65.8  \n",
       "3935            69.75          69.75   Yes     1.0  \n",
       "1687            55.80        2109.35   Yes    37.8  "
      ]
     },
     "execution_count": 26,
     "metadata": {},
     "output_type": "execute_result"
    }
   ],
   "source": [
    "telco_data.sample(25)"
   ]
  },
  {
   "cell_type": "code",
   "execution_count": 27,
   "id": "edac6993",
   "metadata": {},
   "outputs": [
    {
     "data": {
      "text/plain": [
       "7049"
      ]
     },
     "execution_count": 27,
     "metadata": {},
     "output_type": "execute_result"
    }
   ],
   "source": [
    "telco_data.customer_id.count()"
   ]
  },
  {
   "cell_type": "code",
   "execution_count": 28,
   "id": "6d98275d",
   "metadata": {},
   "outputs": [],
   "source": [
    "# Build the variables using pandas\n",
    "churn = telco_data[telco_data.churn == 'Yes']\n",
    "kept = telco_data[telco_data.churn == 'No']"
   ]
  },
  {
   "cell_type": "markdown",
   "id": "62df5a1a",
   "metadata": {},
   "source": [
    "## Clean the Data"
   ]
  },
  {
   "cell_type": "code",
   "execution_count": 29,
   "id": "159b2270",
   "metadata": {},
   "outputs": [],
   "source": [
    "telco_data.internet_service = telco_data.internet_service.map({0:\"No plan\", 1:\"DSL\", 2:\"Fiber\"})"
   ]
  },
  {
   "cell_type": "code",
   "execution_count": 30,
   "id": "806118a2",
   "metadata": {},
   "outputs": [],
   "source": [
    "telco_data.contract_type = telco_data.contract_type.map({0:\"Monthly\", 1:\"1 YR\", 2:\"2 YR\"})\n",
    "telco_data.phone_service = telco_data.phone_service.map({0:\"No phone\", 1:\"1 line\", 2:\"2+ lines\"})\n",
    "telco_data.is_senior_citizen = telco_data.is_senior_citizen.map({0:\"No\", 1:\"Yes\"})"
   ]
  },
  {
   "cell_type": "code",
   "execution_count": 31,
   "id": "b918c99c",
   "metadata": {
    "scrolled": true
   },
   "outputs": [
    {
     "data": {
      "text/html": [
       "<div>\n",
       "<style scoped>\n",
       "    .dataframe tbody tr th:only-of-type {\n",
       "        vertical-align: middle;\n",
       "    }\n",
       "\n",
       "    .dataframe tbody tr th {\n",
       "        vertical-align: top;\n",
       "    }\n",
       "\n",
       "    .dataframe thead th {\n",
       "        text-align: right;\n",
       "    }\n",
       "</style>\n",
       "<table border=\"1\" class=\"dataframe\">\n",
       "  <thead>\n",
       "    <tr style=\"text-align: right;\">\n",
       "      <th></th>\n",
       "      <th>customer_id</th>\n",
       "      <th>gender</th>\n",
       "      <th>is_senior_citizen</th>\n",
       "      <th>partner</th>\n",
       "      <th>dependents</th>\n",
       "      <th>phone_service</th>\n",
       "      <th>internet_service</th>\n",
       "      <th>contract_type</th>\n",
       "      <th>payment_type</th>\n",
       "      <th>monthly_charges</th>\n",
       "      <th>total_charges</th>\n",
       "      <th>churn</th>\n",
       "      <th>tenure</th>\n",
       "    </tr>\n",
       "  </thead>\n",
       "  <tbody>\n",
       "    <tr>\n",
       "      <th>2478</th>\n",
       "      <td>3546-GHEAE</td>\n",
       "      <td>Male</td>\n",
       "      <td>No</td>\n",
       "      <td>No</td>\n",
       "      <td>No</td>\n",
       "      <td>1 line</td>\n",
       "      <td>No plan</td>\n",
       "      <td>2 YR</td>\n",
       "      <td>Mailed check</td>\n",
       "      <td>19.45</td>\n",
       "      <td>165.35</td>\n",
       "      <td>No</td>\n",
       "      <td>8.5</td>\n",
       "    </tr>\n",
       "    <tr>\n",
       "      <th>5144</th>\n",
       "      <td>7241-AJHFS</td>\n",
       "      <td>Male</td>\n",
       "      <td>No</td>\n",
       "      <td>No</td>\n",
       "      <td>No</td>\n",
       "      <td>2+ lines</td>\n",
       "      <td>Fiber</td>\n",
       "      <td>Monthly</td>\n",
       "      <td>Bank transfer (automatic)</td>\n",
       "      <td>87.65</td>\n",
       "      <td>2766.40</td>\n",
       "      <td>No</td>\n",
       "      <td>31.6</td>\n",
       "    </tr>\n",
       "    <tr>\n",
       "      <th>2387</th>\n",
       "      <td>3415-TAILE</td>\n",
       "      <td>Female</td>\n",
       "      <td>No</td>\n",
       "      <td>Yes</td>\n",
       "      <td>Yes</td>\n",
       "      <td>1 line</td>\n",
       "      <td>DSL</td>\n",
       "      <td>Monthly</td>\n",
       "      <td>Mailed check</td>\n",
       "      <td>65.70</td>\n",
       "      <td>134.35</td>\n",
       "      <td>Yes</td>\n",
       "      <td>2.0</td>\n",
       "    </tr>\n",
       "    <tr>\n",
       "      <th>1695</th>\n",
       "      <td>2472-OVKUP</td>\n",
       "      <td>Male</td>\n",
       "      <td>No</td>\n",
       "      <td>Yes</td>\n",
       "      <td>No</td>\n",
       "      <td>1 line</td>\n",
       "      <td>Fiber</td>\n",
       "      <td>Monthly</td>\n",
       "      <td>Electronic check</td>\n",
       "      <td>91.00</td>\n",
       "      <td>531.00</td>\n",
       "      <td>Yes</td>\n",
       "      <td>5.8</td>\n",
       "    </tr>\n",
       "    <tr>\n",
       "      <th>3488</th>\n",
       "      <td>4940-KHCWD</td>\n",
       "      <td>Female</td>\n",
       "      <td>No</td>\n",
       "      <td>Yes</td>\n",
       "      <td>No</td>\n",
       "      <td>No phone</td>\n",
       "      <td>DSL</td>\n",
       "      <td>2 YR</td>\n",
       "      <td>Bank transfer (automatic)</td>\n",
       "      <td>37.70</td>\n",
       "      <td>2288.70</td>\n",
       "      <td>No</td>\n",
       "      <td>60.7</td>\n",
       "    </tr>\n",
       "    <tr>\n",
       "      <th>5203</th>\n",
       "      <td>7321-KKSDU</td>\n",
       "      <td>Male</td>\n",
       "      <td>No</td>\n",
       "      <td>No</td>\n",
       "      <td>Yes</td>\n",
       "      <td>1 line</td>\n",
       "      <td>No plan</td>\n",
       "      <td>2 YR</td>\n",
       "      <td>Mailed check</td>\n",
       "      <td>20.50</td>\n",
       "      <td>696.80</td>\n",
       "      <td>No</td>\n",
       "      <td>34.0</td>\n",
       "    </tr>\n",
       "    <tr>\n",
       "      <th>1135</th>\n",
       "      <td>1666-JXLKU</td>\n",
       "      <td>Female</td>\n",
       "      <td>No</td>\n",
       "      <td>No</td>\n",
       "      <td>No</td>\n",
       "      <td>2+ lines</td>\n",
       "      <td>Fiber</td>\n",
       "      <td>Monthly</td>\n",
       "      <td>Electronic check</td>\n",
       "      <td>100.05</td>\n",
       "      <td>3810.55</td>\n",
       "      <td>No</td>\n",
       "      <td>38.1</td>\n",
       "    </tr>\n",
       "    <tr>\n",
       "      <th>943</th>\n",
       "      <td>1363-TXLSL</td>\n",
       "      <td>Male</td>\n",
       "      <td>Yes</td>\n",
       "      <td>Yes</td>\n",
       "      <td>No</td>\n",
       "      <td>1 line</td>\n",
       "      <td>Fiber</td>\n",
       "      <td>Monthly</td>\n",
       "      <td>Electronic check</td>\n",
       "      <td>70.30</td>\n",
       "      <td>70.30</td>\n",
       "      <td>Yes</td>\n",
       "      <td>1.0</td>\n",
       "    </tr>\n",
       "    <tr>\n",
       "      <th>6163</th>\n",
       "      <td>8731-WBBMB</td>\n",
       "      <td>Female</td>\n",
       "      <td>No</td>\n",
       "      <td>Yes</td>\n",
       "      <td>No</td>\n",
       "      <td>1 line</td>\n",
       "      <td>DSL</td>\n",
       "      <td>Monthly</td>\n",
       "      <td>Bank transfer (automatic)</td>\n",
       "      <td>81.90</td>\n",
       "      <td>2078.55</td>\n",
       "      <td>No</td>\n",
       "      <td>25.4</td>\n",
       "    </tr>\n",
       "    <tr>\n",
       "      <th>5084</th>\n",
       "      <td>7140-ADSMJ</td>\n",
       "      <td>Male</td>\n",
       "      <td>No</td>\n",
       "      <td>No</td>\n",
       "      <td>No</td>\n",
       "      <td>1 line</td>\n",
       "      <td>No plan</td>\n",
       "      <td>Monthly</td>\n",
       "      <td>Credit card (automatic)</td>\n",
       "      <td>20.45</td>\n",
       "      <td>162.30</td>\n",
       "      <td>No</td>\n",
       "      <td>7.9</td>\n",
       "    </tr>\n",
       "  </tbody>\n",
       "</table>\n",
       "</div>"
      ],
      "text/plain": [
       "     customer_id  gender is_senior_citizen partner dependents phone_service  \\\n",
       "2478  3546-GHEAE    Male                No      No         No        1 line   \n",
       "5144  7241-AJHFS    Male                No      No         No      2+ lines   \n",
       "2387  3415-TAILE  Female                No     Yes        Yes        1 line   \n",
       "1695  2472-OVKUP    Male                No     Yes         No        1 line   \n",
       "3488  4940-KHCWD  Female                No     Yes         No      No phone   \n",
       "5203  7321-KKSDU    Male                No      No        Yes        1 line   \n",
       "1135  1666-JXLKU  Female                No      No         No      2+ lines   \n",
       "943   1363-TXLSL    Male               Yes     Yes         No        1 line   \n",
       "6163  8731-WBBMB  Female                No     Yes         No        1 line   \n",
       "5084  7140-ADSMJ    Male                No      No         No        1 line   \n",
       "\n",
       "     internet_service contract_type               payment_type  \\\n",
       "2478          No plan          2 YR               Mailed check   \n",
       "5144            Fiber       Monthly  Bank transfer (automatic)   \n",
       "2387              DSL       Monthly               Mailed check   \n",
       "1695            Fiber       Monthly           Electronic check   \n",
       "3488              DSL          2 YR  Bank transfer (automatic)   \n",
       "5203          No plan          2 YR               Mailed check   \n",
       "1135            Fiber       Monthly           Electronic check   \n",
       "943             Fiber       Monthly           Electronic check   \n",
       "6163              DSL       Monthly  Bank transfer (automatic)   \n",
       "5084          No plan       Monthly    Credit card (automatic)   \n",
       "\n",
       "      monthly_charges  total_charges churn  tenure  \n",
       "2478            19.45         165.35    No     8.5  \n",
       "5144            87.65        2766.40    No    31.6  \n",
       "2387            65.70         134.35   Yes     2.0  \n",
       "1695            91.00         531.00   Yes     5.8  \n",
       "3488            37.70        2288.70    No    60.7  \n",
       "5203            20.50         696.80    No    34.0  \n",
       "1135           100.05        3810.55    No    38.1  \n",
       "943             70.30          70.30   Yes     1.0  \n",
       "6163            81.90        2078.55    No    25.4  \n",
       "5084            20.45         162.30    No     7.9  "
      ]
     },
     "execution_count": 31,
     "metadata": {},
     "output_type": "execute_result"
    }
   ],
   "source": [
    "telco_data.sample(10)"
   ]
  },
  {
   "cell_type": "code",
   "execution_count": 32,
   "id": "2ee3e21c",
   "metadata": {},
   "outputs": [],
   "source": [
    "# customers where tenure is less than 6 months, 12 months, 24 months by plan type, by int service,\n",
    "## \"where are customers exiting\""
   ]
  },
  {
   "cell_type": "markdown",
   "id": "d28f7619",
   "metadata": {},
   "source": [
    "- line chart: tenure in months on the x (continuous variable, dimension), count on the y >> shows where customers are exiting"
   ]
  },
  {
   "cell_type": "markdown",
   "id": "c16d9ad7",
   "metadata": {},
   "source": [
    "direct price comparisons: how much does 1 line cost across subscription plans? 2 Lines? 3 Lines?"
   ]
  },
  {
   "cell_type": "markdown",
   "id": "795ec103",
   "metadata": {},
   "source": [
    "# Demographics"
   ]
  },
  {
   "cell_type": "markdown",
   "id": "79466796",
   "metadata": {},
   "source": [
    "## 1A: One line, no internet"
   ]
  },
  {
   "cell_type": "code",
   "execution_count": 33,
   "id": "598468db",
   "metadata": {},
   "outputs": [],
   "source": [
    "# the median customer with 1 line, monthly plan, pays:\n",
    "\n",
    "one_line_monthly_no_int = telco_data.monthly_charges[\n",
    "    (telco_data.phone_service == \"1 line\") & (telco_data.contract_type == \"Monthly\") \n",
    "    & (telco_data.internet_service == \"No plan\")]"
   ]
  },
  {
   "cell_type": "code",
   "execution_count": 34,
   "id": "48062025",
   "metadata": {},
   "outputs": [
    {
     "name": "stdout",
     "output_type": "stream",
     "text": [
      "20.0\n",
      "478\n",
      "0.19665271966527198\n"
     ]
    }
   ],
   "source": [
    "print(one_line_monthly_no_int.median()) #Median bill\n",
    "print(one_line_monthly_no_int.count()) #Count\n",
    "print(telco_data.monthly_charges[\n",
    "    (telco_data.phone_service == \"1 line\") & (telco_data.contract_type == \"Monthly\") \n",
    "    & (telco_data.internet_service == \"No plan\") & (telco_data.churn == \"Yes\")\n",
    "                            ].count()/one_line_monthly_no_int.count()) #Churn Rate"
   ]
  },
  {
   "cell_type": "code",
   "execution_count": 35,
   "id": "64565742",
   "metadata": {},
   "outputs": [],
   "source": [
    "# the median customer with 1 line, 1yr plan, pays:\n",
    "one_line_yearly_no_int = telco_data.monthly_charges[\n",
    "    (telco_data.phone_service == \"1 line\") & (telco_data.contract_type == \"1 YR\")\n",
    "    & (telco_data.internet_service == \"No plan\")]"
   ]
  },
  {
   "cell_type": "code",
   "execution_count": 36,
   "id": "f2fda3dd",
   "metadata": {},
   "outputs": [
    {
     "name": "stdout",
     "output_type": "stream",
     "text": [
      "19.95\n",
      "301\n",
      "0.023255813953488372\n"
     ]
    }
   ],
   "source": [
    "print(one_line_yearly_no_int.median())\n",
    "print(one_line_yearly_no_int.count())\n",
    "print(telco_data.monthly_charges[\n",
    "    (telco_data.phone_service == \"1 line\") & (telco_data.contract_type == \"1 YR\")\n",
    "    & (telco_data.internet_service == \"No plan\") & (telco_data.churn == \"Yes\")\n",
    "                            ].count()/one_line_yearly_no_int.count()) #Churn Rate"
   ]
  },
  {
   "cell_type": "code",
   "execution_count": 37,
   "id": "d53de1a8",
   "metadata": {},
   "outputs": [],
   "source": [
    "# the median customer with 1 line, 2yr plan, pays:\n",
    "one_line_two_yearly_no_int = telco_data.monthly_charges[\n",
    "    (telco_data.phone_service == \"1 line\") & (telco_data.contract_type == \"2 YR\")\n",
    "    & (telco_data.internet_service == \"No plan\")]"
   ]
  },
  {
   "cell_type": "code",
   "execution_count": 38,
   "id": "e3eed2ff",
   "metadata": {},
   "outputs": [
    {
     "name": "stdout",
     "output_type": "stream",
     "text": [
      "19.9\n",
      "408\n",
      "0.004901960784313725\n"
     ]
    }
   ],
   "source": [
    "print(one_line_two_yearly_no_int.median())\n",
    "print(one_line_two_yearly_no_int.count())\n",
    "print(telco_data.monthly_charges[\n",
    "    (telco_data.phone_service == \"1 line\") & (telco_data.contract_type == \"2 YR\")\n",
    "    & (telco_data.internet_service == \"No plan\") & (telco_data.churn == \"Yes\")\n",
    "                            ].count()/one_line_two_yearly_no_int.count()) #Churn Rate"
   ]
  },
  {
   "cell_type": "markdown",
   "id": "0d999bfa",
   "metadata": {},
   "source": [
    "## Takeaway from single line, no internet customers:\n",
    "- HMMM these customers are paying similar rates for single lines, plus the churn rate is super low (19.6, 2, and >1%). Does that change with more lines?"
   ]
  },
  {
   "cell_type": "markdown",
   "id": "e55cc8c6",
   "metadata": {},
   "source": [
    "## 1B: Two+ lines, no internet"
   ]
  },
  {
   "cell_type": "code",
   "execution_count": 39,
   "id": "4e4d8d09",
   "metadata": {},
   "outputs": [],
   "source": [
    "# the median customer with 2+ lines, monthly plan, pays:\n",
    "\n",
    "two_line_monthly_no_int = telco_data.monthly_charges[\n",
    "    (telco_data.phone_service == \"2+ lines\") & (telco_data.contract_type == \"Monthly\") \n",
    "    & (telco_data.internet_service == \"No plan\")]"
   ]
  },
  {
   "cell_type": "code",
   "execution_count": 84,
   "id": "9298c7cd",
   "metadata": {},
   "outputs": [
    {
     "name": "stdout",
     "output_type": "stream",
     "text": [
      "25.025\n",
      "46\n",
      "0.10869565217391304\n"
     ]
    }
   ],
   "source": [
    "print(two_line_monthly_no_int.median()) #Median bill\n",
    "print(two_line_monthly_no_int.count()) #Count\n",
    "print(telco_data.monthly_charges[\n",
    "    (telco_data.phone_service == \"2+ lines\") & (telco_data.contract_type == \"Monthly\") \n",
    "    & (telco_data.internet_service == \"No plan\") & (telco_data.churn == \"Yes\")\n",
    "                            ].count()/two_line_monthly_no_int.count()) #Churn Rate"
   ]
  },
  {
   "cell_type": "code",
   "execution_count": 41,
   "id": "146f6571",
   "metadata": {},
   "outputs": [],
   "source": [
    "# the median customer with 2+ lines, 1yr plan, pays:\n",
    "two_line_yearly_no_int = telco_data.monthly_charges[\n",
    "    (telco_data.phone_service == \"2+ lines\") & (telco_data.contract_type == \"1 YR\")\n",
    "    & (telco_data.internet_service == \"No plan\")]"
   ]
  },
  {
   "cell_type": "code",
   "execution_count": 42,
   "id": "f4232f53",
   "metadata": {},
   "outputs": [
    {
     "name": "stdout",
     "output_type": "stream",
     "text": [
      "24.8\n",
      "64\n",
      "0.043478260869565216\n"
     ]
    }
   ],
   "source": [
    "print(two_line_yearly_no_int.median())\n",
    "print(two_line_yearly_no_int.count())\n",
    "print(telco_data.monthly_charges[\n",
    "    (telco_data.phone_service == \"2+ lines\") & (telco_data.contract_type == \"1 YR\") \n",
    "    & (telco_data.internet_service == \"No plan\") & (telco_data.churn == \"Yes\")\n",
    "                            ].count()/two_line_monthly_no_int.count()) #Churn Rate"
   ]
  },
  {
   "cell_type": "code",
   "execution_count": 43,
   "id": "de837e5b",
   "metadata": {},
   "outputs": [],
   "source": [
    "# the median customer with 2+ lines, 1yr plan, pays:\n",
    "two_line_two_yearly_no_int = telco_data.monthly_charges[\n",
    "    (telco_data.phone_service == \"2+ lines\") & (telco_data.contract_type == \"2 YR\")\n",
    "    & (telco_data.internet_service == \"No plan\")]"
   ]
  },
  {
   "cell_type": "code",
   "execution_count": 44,
   "id": "2c890387",
   "metadata": {},
   "outputs": [
    {
     "name": "stdout",
     "output_type": "stream",
     "text": [
      "25.025\n",
      "232\n",
      "0.06521739130434782\n"
     ]
    }
   ],
   "source": [
    "print(two_line_two_yearly_no_int.median())\n",
    "print(two_line_two_yearly_no_int.count())\n",
    "print(telco_data.monthly_charges[\n",
    "    (telco_data.phone_service == \"2+ lines\") & (telco_data.contract_type == \"2 YR\") \n",
    "    & (telco_data.internet_service == \"No plan\") & (telco_data.churn == \"Yes\")\n",
    "                            ].count()/two_line_monthly_no_int.count()) #Churn Rate"
   ]
  },
  {
   "cell_type": "markdown",
   "id": "bb751fa6",
   "metadata": {},
   "source": [
    "## Takeaway from Two+ lines, no internet customers:\n",
    "- These customers are also paying similar rates for single lines. oddly, the two-yearly customers are paying the same rates as the monthly customers, while the one-yearly rate is lowest. The churn rate is remains lower or significantly lowr than then industry average of 21% (1, 4, and 7%). "
   ]
  },
  {
   "cell_type": "markdown",
   "id": "c4b8b84e",
   "metadata": {},
   "source": [
    "# NEXT QUESTION: Does that change with internet?"
   ]
  },
  {
   "cell_type": "markdown",
   "id": "f7a19726",
   "metadata": {},
   "source": [
    "## 2A: One line, DSL"
   ]
  },
  {
   "cell_type": "code",
   "execution_count": 82,
   "id": "92f500f3",
   "metadata": {},
   "outputs": [],
   "source": [
    "# the median customer with 1 line, DSL,  monthly plan, pays:\n",
    "\n",
    "one_line_monthly_dsl = telco_data.monthly_charges[\n",
    "    (telco_data.phone_service == \"1 line\") & (telco_data.contract_type == \"Monthly\") \n",
    "    & (telco_data.internet_service == \"DSL\")]"
   ]
  },
  {
   "cell_type": "code",
   "execution_count": 83,
   "id": "f16a85a2",
   "metadata": {},
   "outputs": [
    {
     "name": "stdout",
     "output_type": "stream",
     "text": [
      "51.3\n",
      "628\n",
      "0.30254777070063693\n"
     ]
    }
   ],
   "source": [
    "print(one_line_monthly_dsl.median()) #Median bill\n",
    "print(one_line_monthly_dsl.count()) #Count\n",
    "print(telco_data.monthly_charges[\n",
    "    (telco_data.phone_service == \"1 line\") & (telco_data.contract_type == \"Monthly\") \n",
    "    & (telco_data.internet_service == \"DSL\") & (telco_data.churn == \"Yes\")\n",
    "                            ].count()/one_line_monthly_dsl.count()) #Churn Rate"
   ]
  },
  {
   "cell_type": "code",
   "execution_count": 79,
   "id": "2dba5624",
   "metadata": {},
   "outputs": [],
   "source": [
    "# the median customer with 1 line, DSL, 1yr plan, pays:\n",
    "one_line_yearly_dsl = telco_data.monthly_charges[\n",
    "    (telco_data.phone_service == \"1 line\") & (telco_data.contract_type == \"1 YR\")\n",
    "    & (telco_data.internet_service == \"DSL\")]"
   ]
  },
  {
   "cell_type": "code",
   "execution_count": 78,
   "id": "97a476ff",
   "metadata": {},
   "outputs": [
    {
     "name": "stdout",
     "output_type": "stream",
     "text": [
      "61.35\n",
      "243\n",
      "0.09053497942386832\n"
     ]
    }
   ],
   "source": [
    "print(one_line_yearly_dsl.median())\n",
    "print(one_line_yearly_dsl.count())\n",
    "print(telco_data.monthly_charges[\n",
    "    (telco_data.phone_service == \"1 line\") & (telco_data.contract_type == \"1 YR\")\n",
    "    & (telco_data.internet_service == \"DSL\") & (telco_data.churn == \"Yes\")\n",
    "                            ].count()/one_line_yearly_dsl.count()) #Churn Rate"
   ]
  },
  {
   "cell_type": "code",
   "execution_count": 49,
   "id": "b84dc135",
   "metadata": {},
   "outputs": [],
   "source": [
    "# the median customer with 1 line, 2yr plan, pays:\n",
    "one_line_two_yearly_dsl = telco_data.monthly_charges[\n",
    "    (telco_data.phone_service == \"1 line\") & (telco_data.contract_type == \"2 YR\")\n",
    "    & (telco_data.internet_service == \"DSL\")]"
   ]
  },
  {
   "cell_type": "code",
   "execution_count": 77,
   "id": "9f56eb2b",
   "metadata": {},
   "outputs": [
    {
     "name": "stdout",
     "output_type": "stream",
     "text": [
      "73.35\n",
      "177\n",
      "0.022598870056497175\n"
     ]
    }
   ],
   "source": [
    "print(one_line_two_yearly_dsl.median())\n",
    "print(one_line_two_yearly_dsl.count())\n",
    "print(telco_data.monthly_charges[\n",
    "    (telco_data.phone_service == \"1 line\") & (telco_data.contract_type == \"2 YR\")\n",
    "    & (telco_data.internet_service == \"DSL\") & (telco_data.churn == \"Yes\")\n",
    "                            ].count()/one_line_two_yearly_dsl.count()) #Churn Rate"
   ]
  },
  {
   "cell_type": "markdown",
   "id": "1ad64f9e",
   "metadata": {},
   "source": [
    "## Takeaway from single line, DSL customers:\n",
    "- Interesting: high churn rate for monthly customers with one phone line and DSL: 30.3% ==> this population should be investigated further."
   ]
  },
  {
   "cell_type": "markdown",
   "id": "972da7bd",
   "metadata": {},
   "source": [
    "## 2B: Two+ lines, DSL"
   ]
  },
  {
   "cell_type": "code",
   "execution_count": 63,
   "id": "0b9374ae",
   "metadata": {},
   "outputs": [],
   "source": [
    "# the median customer with 2+ lines, DSL internet, monthly plan, pays:\n",
    "\n",
    "two_line_monthly_dsl = telco_data.monthly_charges[\n",
    "    (telco_data.phone_service == \"2+ lines\") & (telco_data.contract_type == \"Monthly\") \n",
    "    & (telco_data.internet_service == \"DSL\")]"
   ]
  },
  {
   "cell_type": "code",
   "execution_count": 76,
   "id": "b03396e2",
   "metadata": {},
   "outputs": [
    {
     "name": "stdout",
     "output_type": "stream",
     "text": [
      "60.15\n",
      "219\n",
      "0.2328767123287671\n"
     ]
    }
   ],
   "source": [
    "print(two_line_monthly_dsl.median()) #Median bill\n",
    "print(two_line_monthly_dsl.count()) #Count\n",
    "print(telco_data.monthly_charges[\n",
    "    (telco_data.phone_service == \"2+ lines\") & (telco_data.contract_type == \"Monthly\") \n",
    "    & (telco_data.internet_service == \"DSL\") & (telco_data.churn == \"Yes\")\n",
    "                            ].count()/two_line_monthly_dsl.count()) #Churn Rate"
   ]
  },
  {
   "cell_type": "code",
   "execution_count": 74,
   "id": "d0d56035",
   "metadata": {},
   "outputs": [],
   "source": [
    "# the median customer with 2+ lines, DSL internet, 1yr plan, pays:\n",
    "two_line_yearly_dsl = telco_data.monthly_charges[\n",
    "    (telco_data.phone_service == \"2+ lines\") & (telco_data.contract_type == \"1 YR\")\n",
    "    & (telco_data.internet_service == \"DSL\")]"
   ]
  },
  {
   "cell_type": "code",
   "execution_count": 75,
   "id": "67ee6586",
   "metadata": {},
   "outputs": [
    {
     "name": "stdout",
     "output_type": "stream",
     "text": [
      "72.1\n",
      "182\n",
      "0.09340659340659341\n"
     ]
    }
   ],
   "source": [
    "print(two_line_yearly_dsl.median())\n",
    "print(two_line_yearly_dsl.count())\n",
    "print(telco_data.monthly_charges[\n",
    "    (telco_data.phone_service == \"2+ lines\") & (telco_data.contract_type == \"1 YR\")\n",
    "    & (telco_data.internet_service == \"DSL\") & (telco_data.churn == \"Yes\")\n",
    "                            ].count()/two_line_yearly_dsl.count()) #Churn Rate"
   ]
  },
  {
   "cell_type": "code",
   "execution_count": 72,
   "id": "1c6149a4",
   "metadata": {},
   "outputs": [],
   "source": [
    "# the median customer with 2+ lines, DSL internet, 2yr plan, pays:\n",
    "two_line_two_yearly_dsl = telco_data.monthly_charges[\n",
    "    (telco_data.phone_service == \"2+ lines\") & (telco_data.contract_type == \"2 YR\")\n",
    "    & (telco_data.internet_service == \"DSL\")]"
   ]
  },
  {
   "cell_type": "code",
   "execution_count": 73,
   "id": "0ba82c9f",
   "metadata": {},
   "outputs": [
    {
     "name": "stdout",
     "output_type": "stream",
     "text": [
      "81.725\n",
      "290\n",
      "0.017241379310344827\n"
     ]
    }
   ],
   "source": [
    "print(two_line_two_yearly_dsl.median())\n",
    "print(two_line_two_yearly_dsl.count())\n",
    "print(telco_data.monthly_charges[\n",
    "    (telco_data.phone_service == \"2+ lines\") & (telco_data.contract_type == \"2 YR\")\n",
    "    & (telco_data.internet_service == \"DSL\") & (telco_data.churn == \"Yes\")\n",
    "                            ].count()/two_line_two_yearly_dsl.count()) #Churn Rate"
   ]
  },
  {
   "cell_type": "markdown",
   "id": "2ea847b5",
   "metadata": {},
   "source": [
    "## Takeaway from Two+ lines, DSL internet customers:\n",
    "- Again, only the monthly paying segment has an industry beating level of churn (23.3%). We will target this market segment. This segment, however, is paying an average of 11 dollars less per month than the yearly subscribers - are they paying for fewer lines? **might be worth checking out their level of dependants, becuase lines per customer at the 2+ level are not clearly identified (could be 3, could be 7)**\n",
    "\n",
    "## Next: How do fiber customers compare to DSL customers?"
   ]
  },
  {
   "cell_type": "markdown",
   "id": "42daea05",
   "metadata": {},
   "source": [
    "## 2C: One line, fiber internet"
   ]
  },
  {
   "cell_type": "code",
   "execution_count": 86,
   "id": "8528bc08",
   "metadata": {},
   "outputs": [],
   "source": [
    "# the median customer with 1 line, fiber internetmonthly plan, pays:\n",
    "\n",
    "one_line_monthly_fiber = telco_data.monthly_charges[\n",
    "    (telco_data.phone_service == \"1 line\") & (telco_data.contract_type == \"Monthly\") \n",
    "    & (telco_data.internet_service == \"Fiber\")]"
   ]
  },
  {
   "cell_type": "code",
   "execution_count": 88,
   "id": "f5963fbf",
   "metadata": {},
   "outputs": [
    {
     "name": "stdout",
     "output_type": "stream",
     "text": [
      "80.1\n",
      "911\n",
      "0.544456641053787\n"
     ]
    }
   ],
   "source": [
    "print(one_line_monthly_fiber.median()) #Median bill\n",
    "print(one_line_monthly_fiber.count()) #Count\n",
    "print(telco_data.monthly_charges[\n",
    "    (telco_data.phone_service == \"1 line\") & (telco_data.contract_type == \"Monthly\") \n",
    "    & (telco_data.internet_service == \"Fiber\") & (telco_data.churn == \"Yes\")\n",
    "                            ].count()/one_line_monthly_fiber.count()) #Churn Rate"
   ]
  },
  {
   "cell_type": "code",
   "execution_count": 89,
   "id": "bf10e0d3",
   "metadata": {},
   "outputs": [],
   "source": [
    "# the median customer with 1 line, fiber internet, 1yr plan, pays:\n",
    "one_line_yearly_fiber = telco_data.monthly_charges[\n",
    "    (telco_data.phone_service == \"1 line\") & (telco_data.contract_type == \"1 YR\")\n",
    "    & (telco_data.internet_service == \"Fiber\")]"
   ]
  },
  {
   "cell_type": "code",
   "execution_count": 90,
   "id": "2bd405d0",
   "metadata": {},
   "outputs": [
    {
     "name": "stdout",
     "output_type": "stream",
     "text": [
      "94.8\n",
      "171\n",
      "0.17543859649122806\n"
     ]
    }
   ],
   "source": [
    "print(one_line_yearly_fiber.median())\n",
    "print(one_line_yearly_fiber.count())\n",
    "print(telco_data.monthly_charges[\n",
    "    (telco_data.phone_service == \"1 line\") & (telco_data.contract_type == \"1 YR\")\n",
    "    & (telco_data.internet_service == \"Fiber\") & (telco_data.churn == \"Yes\")\n",
    "                            ].count()/one_line_yearly_fiber.count()) #Churn Rate"
   ]
  },
  {
   "cell_type": "code",
   "execution_count": 91,
   "id": "7b3c3617",
   "metadata": {},
   "outputs": [],
   "source": [
    "# the median customer with 1 line, fiber internet, 2yr plan, pays:\n",
    "one_line_two_yearly_fiber = telco_data.monthly_charges[\n",
    "    (telco_data.phone_service == \"1 line\") & (telco_data.contract_type == \"2 YR\")\n",
    "    & (telco_data.internet_service == \"Fiber\")]"
   ]
  },
  {
   "cell_type": "code",
   "execution_count": 92,
   "id": "4ad20956",
   "metadata": {},
   "outputs": [
    {
     "name": "stdout",
     "output_type": "stream",
     "text": [
      "100.07499999999999\n",
      "78\n",
      "0.05128205128205128\n"
     ]
    }
   ],
   "source": [
    "print(one_line_two_yearly_fiber.median())\n",
    "print(one_line_two_yearly_fiber.count())\n",
    "print(telco_data.monthly_charges[\n",
    "    (telco_data.phone_service == \"1 line\") & (telco_data.contract_type == \"2 YR\")\n",
    "    & (telco_data.internet_service == \"Fiber\") & (telco_data.churn == \"Yes\")\n",
    "                            ].count()/one_line_two_yearly_fiber.count()) #Churn Rate"
   ]
  },
  {
   "cell_type": "markdown",
   "id": "d3e834c7",
   "metadata": {},
   "source": [
    "## Takeaway from single line, fiber internet customers:\n",
    "- Monthly single line fiber customers are a huge subset (911 customers), and they are churning at 54.5%. This is the most significant subset so far and represents a huge direct cost to the business. Let's see what the median tenure for the population subset is:"
   ]
  },
  {
   "cell_type": "code",
   "execution_count": 94,
   "id": "778277eb",
   "metadata": {},
   "outputs": [
    {
     "data": {
      "text/plain": [
       "4.7"
      ]
     },
     "execution_count": 94,
     "metadata": {},
     "output_type": "execute_result"
    }
   ],
   "source": [
    "# print(telco_data.monthly_charges[\n",
    "#     (telco_data.phone_service == \"1 line\") & (telco_data.contract_type == \"Monthly\")\n",
    "#     & (telco_data.internet_service == \"Fiber\") & (telco_data.churn == \"Yes\")\n",
    "#                             ].tenure.median())\n",
    "\n",
    "telco_data[\n",
    "    (telco_data.phone_service == \"1 line\") & (telco_data.contract_type == \"Monthly\")\n",
    "    & (telco_data.internet_service == \"Fiber\") & (telco_data.churn == \"Yes\")\n",
    "                            ].tenure.median()"
   ]
  },
  {
   "cell_type": "markdown",
   "id": "9af373db",
   "metadata": {},
   "source": [
    "# Huge finding: these customers are churning extremely fast"
   ]
  },
  {
   "cell_type": "markdown",
   "id": "52c88c2b",
   "metadata": {},
   "source": [
    "## 2B: Two+ lines, fiber internet"
   ]
  },
  {
   "cell_type": "code",
   "execution_count": 95,
   "id": "4bd8c0fe",
   "metadata": {},
   "outputs": [],
   "source": [
    "# the median customer with 2+ lines, fiber internet, monthly plan, pays:\n",
    "\n",
    "two_line_monthly_fiber = telco_data.monthly_charges[\n",
    "    (telco_data.phone_service == \"2+ lines\") & (telco_data.contract_type == \"Monthly\") \n",
    "    & (telco_data.internet_service == \"Fiber\")]"
   ]
  },
  {
   "cell_type": "code",
   "execution_count": 96,
   "id": "00daf43d",
   "metadata": {},
   "outputs": [
    {
     "name": "stdout",
     "output_type": "stream",
     "text": [
      "90.85\n",
      "1217\n",
      "0.5472473294987674\n"
     ]
    }
   ],
   "source": [
    "print(two_line_monthly_fiber.median()) #Median bill\n",
    "print(two_line_monthly_fiber.count()) #Count\n",
    "print(telco_data.monthly_charges[\n",
    "    (telco_data.phone_service == \"2+ lines\") & (telco_data.contract_type == \"Monthly\") \n",
    "    & (telco_data.internet_service == \"Fiber\") & (telco_data.churn == \"Yes\")\n",
    "                            ].count()/two_line_monthly_fiber.count()) #Churn Rate"
   ]
  },
  {
   "cell_type": "code",
   "execution_count": 106,
   "id": "a3425cba",
   "metadata": {},
   "outputs": [],
   "source": [
    "# the median customer with 2+ lines, DSL internet, 1yr plan, pays:\n",
    "two_line_yearly_fiber = telco_data.monthly_charges[\n",
    "    (telco_data.phone_service == \"2+ lines\") & (telco_data.contract_type == \"1 YR\")\n",
    "    & (telco_data.internet_service == \"Fiber\")]"
   ]
  },
  {
   "cell_type": "code",
   "execution_count": 107,
   "id": "c863415c",
   "metadata": {},
   "outputs": [
    {
     "name": "stdout",
     "output_type": "stream",
     "text": [
      "102.725\n",
      "370\n",
      "0.2\n"
     ]
    }
   ],
   "source": [
    "print(two_line_yearly_fiber.median())\n",
    "print(two_line_yearly_fiber.count())\n",
    "print(telco_data.monthly_charges[\n",
    "    (telco_data.phone_service == \"2+ lines\") & (telco_data.contract_type == \"1 YR\")\n",
    "    & (telco_data.internet_service == \"Fiber\") & (telco_data.churn == \"Yes\")\n",
    "                            ].count()/two_line_yearly_fiber.count()) #Churn Rate"
   ]
  },
  {
   "cell_type": "code",
   "execution_count": 108,
   "id": "101dfad9",
   "metadata": {},
   "outputs": [],
   "source": [
    "# the median customer with 2+ lines, DSL internet, 2yr plan, pays:\n",
    "two_line_two_yearly_fiber = telco_data.monthly_charges[\n",
    "    (telco_data.phone_service == \"2+ lines\") & (telco_data.contract_type == \"2 YR\")\n",
    "    & (telco_data.internet_service == \"Fiber\")]"
   ]
  },
  {
   "cell_type": "code",
   "execution_count": 109,
   "id": "7b4f46e7",
   "metadata": {},
   "outputs": [
    {
     "name": "stdout",
     "output_type": "stream",
     "text": [
      "108.4\n",
      "351\n",
      "0.07692307692307693\n"
     ]
    }
   ],
   "source": [
    "print(two_line_two_yearly_fiber.median())\n",
    "print(two_line_two_yearly_fiber.count())\n",
    "print(telco_data.monthly_charges[\n",
    "    (telco_data.phone_service == \"2+ lines\") & (telco_data.contract_type == \"2 YR\")\n",
    "    & (telco_data.internet_service == \"Fiber\") & (telco_data.churn == \"Yes\")\n",
    "                            ].count()/two_line_two_yearly_fiber.count()) #Churn Rate"
   ]
  },
  {
   "cell_type": "markdown",
   "id": "20f39436",
   "metadata": {},
   "source": [
    "## Takeaway from single line, fiber internet customers:\n",
    "- Monthly 2+ line fiber customers are a huge subset (1217 customers), and they are churning at 54.7%. Again, this is the most significant subset so far and represents a huge direct cost to the business. Let's see what the median tenure for the population subset is:"
   ]
  },
  {
   "cell_type": "code",
   "execution_count": 110,
   "id": "25e78528",
   "metadata": {},
   "outputs": [
    {
     "data": {
      "text/plain": [
       "16.1"
      ]
     },
     "execution_count": 110,
     "metadata": {},
     "output_type": "execute_result"
    }
   ],
   "source": [
    "# print(telco_data.monthly_charges[\n",
    "#     (telco_data.phone_service == \"2+ lines\") & (telco_data.contract_type == \"Monthly\")\n",
    "#     & (telco_data.internet_service == \"Fiber\") & (telco_data.churn == \"Yes\")\n",
    "#                             ].tenure.median())\n",
    "\n",
    "telco_data[\n",
    "    (telco_data.phone_service == \"2+ lines\") & (telco_data.contract_type == \"Monthly\")\n",
    "    & (telco_data.internet_service == \"Fiber\") & (telco_data.churn == \"Yes\")\n",
    "                            ].tenure.median()"
   ]
  },
  {
   "cell_type": "markdown",
   "id": "473aca23",
   "metadata": {},
   "source": [
    "do people with dependants have more lines? if not - that's an adressable market"
   ]
  },
  {
   "cell_type": "markdown",
   "id": "3466f209",
   "metadata": {},
   "source": [
    "does it pay to bundle with internet?"
   ]
  },
  {
   "cell_type": "markdown",
   "id": "a6ea41e1",
   "metadata": {},
   "source": [
    "what is the price of dsl internet and one line? are we incentivizing switiching to fiber? and bundling lines?"
   ]
  },
  {
   "cell_type": "markdown",
   "id": "2e200913",
   "metadata": {},
   "source": [
    "what consumer is most likely to churn? what are they consuming? how can we incentivize them to stay (price cut for the plan)"
   ]
  },
  {
   "cell_type": "code",
   "execution_count": 60,
   "id": "be067b70",
   "metadata": {},
   "outputs": [
    {
     "name": "stdout",
     "output_type": "stream",
     "text": [
      "Object `plans` not found.\n"
     ]
    }
   ],
   "source": [
    "how are churning consumers paying their bills? how do we incentivize a switch to autopay/yearly plans?"
   ]
  },
  {
   "cell_type": "code",
   "execution_count": null,
   "id": "6ddc5864",
   "metadata": {},
   "outputs": [],
   "source": [
    "how are churning consumers paying their bills? how do we incentivize a switch to autopay/yearly plans"
   ]
  },
  {
   "cell_type": "code",
   "execution_count": 61,
   "id": "0ad2e47d",
   "metadata": {},
   "outputs": [
    {
     "ename": "SyntaxError",
     "evalue": "invalid syntax (645378806.py, line 1)",
     "output_type": "error",
     "traceback": [
      "\u001b[0;36m  File \u001b[0;32m\"/var/folders/3n/86q7c8d16r51w8vg4g5kwq280000gn/T/ipykernel_80922/645378806.py\"\u001b[0;36m, line \u001b[0;32m1\u001b[0m\n\u001b[0;31m    how are churning consumers paying their bills? how do we incentivize a switch to autopay/yearly plans\u001b[0m\n\u001b[0m        ^\u001b[0m\n\u001b[0;31mSyntaxError\u001b[0m\u001b[0;31m:\u001b[0m invalid syntax\n"
     ]
    }
   ],
   "source": [
    "how are churning consumers paying their bills? how do we incentivize a switch to autopay/yearly plans"
   ]
  },
  {
   "cell_type": "code",
   "execution_count": null,
   "id": "4800ae08",
   "metadata": {},
   "outputs": [],
   "source": [
    "how are churning consumers paying their bills? how do we incentivize a switch to autopay/yearly plans"
   ]
  },
  {
   "cell_type": "markdown",
   "id": "ca9c82bb",
   "metadata": {},
   "source": [
    "## Export\n",
    "#telco_data.to_csv('//Users/frederik.lindsey/Home/codeup-data-science/storytelling_with_data/first_export.csv')"
   ]
  },
  {
   "cell_type": "code",
   "execution_count": null,
   "id": "ba1792f6",
   "metadata": {},
   "outputs": [],
   "source": [
    "## Graph and Visualization ideas\n",
    "- tenure on the y\n",
    "- monthly v yearly v 2 yearly (phone only, phone + DSL, phone + fiber)"
   ]
  },
  {
   "cell_type": "code",
   "execution_count": null,
   "id": "33974a33",
   "metadata": {},
   "outputs": [],
   "source": [
    "sns.barplot(data = telco_data,\n",
    "            y = 'tenure',\n",
    "            x = 'contract_type',\n",
    "            hue = 'churn')"
   ]
  },
  {
   "cell_type": "code",
   "execution_count": null,
   "id": "2e06d838",
   "metadata": {},
   "outputs": [],
   "source": []
  }
 ],
 "metadata": {
  "kernelspec": {
   "display_name": "Python 3 (ipykernel)",
   "language": "python",
   "name": "python3"
  },
  "language_info": {
   "codemirror_mode": {
    "name": "ipython",
    "version": 3
   },
   "file_extension": ".py",
   "mimetype": "text/x-python",
   "name": "python",
   "nbconvert_exporter": "python",
   "pygments_lexer": "ipython3",
   "version": "3.9.7"
  }
 },
 "nbformat": 4,
 "nbformat_minor": 5
}
