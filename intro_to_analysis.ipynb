{
 "cells": [
  {
   "cell_type": "markdown",
   "id": "5713e1cd",
   "metadata": {},
   "source": [
    "# 3 Step Process to Analyzing Your Data (General case)\n",
    "1. Define your goal, why this matters, your target variable, initial hypotheses (write these down)\n",
    "2. Get to know your data: obtain a 10,000 ft view of your data before diving in (write down what you learn/discover)\n",
    "3. Answer your initial hypotheses questions with visuals and statistics (write down takeaways as you go)"
   ]
  },
  {
   "cell_type": "markdown",
   "id": "1960d36b",
   "metadata": {},
   "source": [
    "## Step 1: Define your goal. What's the impact? Who benefits? Why does this matter? \n",
    "- Take *lots* of written or typed notes here. \n",
    "- What, exactly, are you seeking to understand?\n",
    "- Define your target variable. Does one exist in your dataset?\n",
    "- Define your initial hypotheses: literally write them down\n",
    "    - Are the stakeholders hoping to confirm or deny something already? That's a good start.\n",
    "    - What initial hunches do you have? How could you confirm or deny them?\n",
    "    - Are there industry based hunches you can confirm or deny?\n",
    "    - If you have data from your industry, how does your dataset compare?\n",
    "    - Based on the columns you have, do you see anything you *know* you need to look at?\n",
    "- Define your Minimum Viable Product (MVP)\n",
    "    - How do you know when you're done?\n",
    "    - How do you know when you've got something to deliver?\n",
    "    - If something seems interesting but out of scope, add it to your backlog and get back to the heart of the matter"
   ]
  },
  {
   "cell_type": "markdown",
   "id": "55a904e1",
   "metadata": {},
   "source": [
    "### How to Generate Initial Hypotheses  \n",
    "\n",
    "Think and write down your thoughts\n",
    "\n",
    "![](hypothesis_generation.png)"
   ]
  },
  {
   "cell_type": "markdown",
   "id": "c9f4c497",
   "metadata": {},
   "source": [
    "### Defining Your Minimum Viable Product (MVP)\n",
    "\n",
    "The real MVP is producing insight and takeaways stakeholders can use to improve their decision making\n",
    "\n",
    "What would a Minimum Viable Product look like? You likely won't have 6 months to produce answers.\n",
    "\n",
    "![](mvp.png)"
   ]
  },
  {
   "cell_type": "markdown",
   "id": "16c57b34",
   "metadata": {},
   "source": [
    "## Step 2: Get to know your data at a high level\n",
    "- *Dump out all your legos and take inventory of what you have*\n",
    "- Take lots of written or typed notes as you move through these steps)\n",
    "- Hunt down a data dictionary that explains what each column of your data is or represents.\n",
    "    - This may mean talking to people\n",
    "    - This may mean having coffee w/ someone from accounting to pick their brain\n",
    "- Determine if there's any columns needing cleaning or a change in data type\n",
    "- Hunt for any nulls or missing data. Write down how you handle them. There's no one right answer.\n",
    "- What's the distribution of your target variable? What about your most interesting variables?"
   ]
  },
  {
   "cell_type": "markdown",
   "id": "9e06b908",
   "metadata": {},
   "source": [
    "![](storytelling.webp)"
   ]
  },
  {
   "cell_type": "markdown",
   "id": "2280fcfc",
   "metadata": {},
   "source": [
    "## Step 3: Answer your initial hypotheses with visuals and statistics\n",
    "- Always write down your takeaways as you learn or reveal them\n",
    "- Use visuals, descriptive stats, and inferential stats to answer your hypotheses\n",
    "- Start with one hypothesis at a time.\n",
    "- Visualize and get stats on the population\n",
    "- Start making subgroups to compare subgroups to the population and subgroups to subgroups\n",
    "- Focus on getting the biggest bang for your buck rather than counting toenails on an ant.\n",
    "\n",
    "![](descriptive-and-inferential-statistics.jpeg)"
   ]
  },
  {
   "cell_type": "markdown",
   "id": "84745305",
   "metadata": {},
   "source": [
    "### Explore Relationships Between Variables and the Target Variable\n",
    "![](hypothesis.jpeg)"
   ]
  },
  {
   "cell_type": "markdown",
   "id": "7ce5bca6",
   "metadata": {},
   "source": [
    "# 3 Step Process to Data Analysis (Specific case with HR Attrition Data)\n",
    "1. Define your goal, why this matters, your target variable, initial hypotheses (write these down)\n",
    "2. Get to know your data: obtain a 10,000 ft view of your data before diving in (write down what you learn/discover)\n",
    "3. Answer your initial hypotheses questions with visuals and statistics (write down takeaways as you go)"
   ]
  },
  {
   "cell_type": "markdown",
   "id": "6a8a54b1",
   "metadata": {},
   "source": [
    "## Step 1: Define Goal, why it matters, id target variable, state initial hypotheses\n",
    "- Manager: why are employees churning?\n",
    "- DS question: What are the drivers of employee attrition?\n",
    "    - Why does attrition matter? \n",
    "    - High cost of employee acquisition and training (50-200%)\n",
    "    - Productivity: drop in overall productivity (less personnel, drop in morale for remaining employees)\n",
    "    - Snowball effect in attrition\n",
    "    - HR retention bonus for low attrition?\n",
    "- Target variable:\n",
    "    - attrition\n",
    "- What are some interesting variables?\n",
    "    - churned employee department\n",
    "    - job satisfaction >> culture?\n",
    "    - relationship (boss) satisfaction >> culture?\n",
    "    - age/gender/race >> culture issue?\n",
    "    - time since last promotion/raise\n",
    "    - income, then...\n",
    "    - department, by income\n",
    "- What would a minimally viable product look like?\n",
    "    - deliverable: can be:\n",
    "        - email with recs >> the simplest \n",
    "        - sldieshow\n",
    "        - ML model we deliver to engineering team to deploy live\n",
    "    - what target rate are we hitting with churn?\n",
    "    - whats th biggest story i.e. variable most correlated with churn?\n",
    "    - we have survey data about job satisfaction and balance >> should we believe surverys?\n",
    "        - are the neg surveys accurately correlated with churn?\n",
    "        \n",
    "     ** Source your data: https://www.kaggle.com/datasets/pavansubhasht/ibm-hr-analytics-attrition-dataset"
   ]
  },
  {
   "cell_type": "markdown",
   "id": "855f39f3",
   "metadata": {},
   "source": [
    "## Step 2: Get to know your Data at a high level\n",
    "- Histograms and value counts of our target variable, and variables of interest\n",
    "- Determine if we have any missing values\n",
    "    - ** general guideline:\n",
    "    - if you're doing any ML, split the data before exploring\n",
    "    - if youre looking at how x and y move together, we need to operate on the `train` dataset\n",
    "- check your datasource for a Data Dictionary\n",
    "- check the value counts or a histogram of your target variable\n",
    "- check for nulls and handle them\n",
    "- \"What do we know about the people who left?\""
   ]
  },
  {
   "cell_type": "code",
   "execution_count": 1,
   "id": "79cf169c",
   "metadata": {},
   "outputs": [],
   "source": [
    "import seaborn as sns\n",
    "import matplotlib.pyplot as plt\n",
    "import pandas as pd\n",
    "df = pd.read_csv(\"attrition.csv\")"
   ]
  },
  {
   "cell_type": "code",
   "execution_count": 3,
   "id": "d6f232fd",
   "metadata": {},
   "outputs": [
    {
     "data": {
      "text/html": [
       "<div>\n",
       "<style scoped>\n",
       "    .dataframe tbody tr th:only-of-type {\n",
       "        vertical-align: middle;\n",
       "    }\n",
       "\n",
       "    .dataframe tbody tr th {\n",
       "        vertical-align: top;\n",
       "    }\n",
       "\n",
       "    .dataframe thead th {\n",
       "        text-align: right;\n",
       "    }\n",
       "</style>\n",
       "<table border=\"1\" class=\"dataframe\">\n",
       "  <thead>\n",
       "    <tr style=\"text-align: right;\">\n",
       "      <th></th>\n",
       "      <th>0</th>\n",
       "      <th>1</th>\n",
       "      <th>2</th>\n",
       "      <th>3</th>\n",
       "    </tr>\n",
       "  </thead>\n",
       "  <tbody>\n",
       "    <tr>\n",
       "      <th>Age</th>\n",
       "      <td>41</td>\n",
       "      <td>49</td>\n",
       "      <td>37</td>\n",
       "      <td>33</td>\n",
       "    </tr>\n",
       "    <tr>\n",
       "      <th>Attrition</th>\n",
       "      <td>Yes</td>\n",
       "      <td>No</td>\n",
       "      <td>Yes</td>\n",
       "      <td>No</td>\n",
       "    </tr>\n",
       "    <tr>\n",
       "      <th>BusinessTravel</th>\n",
       "      <td>Travel_Rarely</td>\n",
       "      <td>Travel_Frequently</td>\n",
       "      <td>Travel_Rarely</td>\n",
       "      <td>Travel_Frequently</td>\n",
       "    </tr>\n",
       "    <tr>\n",
       "      <th>DailyRate</th>\n",
       "      <td>1102</td>\n",
       "      <td>279</td>\n",
       "      <td>1373</td>\n",
       "      <td>1392</td>\n",
       "    </tr>\n",
       "    <tr>\n",
       "      <th>Department</th>\n",
       "      <td>Sales</td>\n",
       "      <td>Research &amp; Development</td>\n",
       "      <td>Research &amp; Development</td>\n",
       "      <td>Research &amp; Development</td>\n",
       "    </tr>\n",
       "    <tr>\n",
       "      <th>DistanceFromHome</th>\n",
       "      <td>1</td>\n",
       "      <td>8</td>\n",
       "      <td>2</td>\n",
       "      <td>3</td>\n",
       "    </tr>\n",
       "    <tr>\n",
       "      <th>Education</th>\n",
       "      <td>2</td>\n",
       "      <td>1</td>\n",
       "      <td>2</td>\n",
       "      <td>4</td>\n",
       "    </tr>\n",
       "    <tr>\n",
       "      <th>EducationField</th>\n",
       "      <td>Life Sciences</td>\n",
       "      <td>Life Sciences</td>\n",
       "      <td>Other</td>\n",
       "      <td>Life Sciences</td>\n",
       "    </tr>\n",
       "    <tr>\n",
       "      <th>EmployeeCount</th>\n",
       "      <td>1</td>\n",
       "      <td>1</td>\n",
       "      <td>1</td>\n",
       "      <td>1</td>\n",
       "    </tr>\n",
       "    <tr>\n",
       "      <th>EmployeeNumber</th>\n",
       "      <td>1</td>\n",
       "      <td>2</td>\n",
       "      <td>4</td>\n",
       "      <td>5</td>\n",
       "    </tr>\n",
       "    <tr>\n",
       "      <th>EnvironmentSatisfaction</th>\n",
       "      <td>2</td>\n",
       "      <td>3</td>\n",
       "      <td>4</td>\n",
       "      <td>4</td>\n",
       "    </tr>\n",
       "    <tr>\n",
       "      <th>Gender</th>\n",
       "      <td>Female</td>\n",
       "      <td>Male</td>\n",
       "      <td>Male</td>\n",
       "      <td>Female</td>\n",
       "    </tr>\n",
       "    <tr>\n",
       "      <th>HourlyRate</th>\n",
       "      <td>94</td>\n",
       "      <td>61</td>\n",
       "      <td>92</td>\n",
       "      <td>56</td>\n",
       "    </tr>\n",
       "    <tr>\n",
       "      <th>JobInvolvement</th>\n",
       "      <td>3</td>\n",
       "      <td>2</td>\n",
       "      <td>2</td>\n",
       "      <td>3</td>\n",
       "    </tr>\n",
       "    <tr>\n",
       "      <th>JobLevel</th>\n",
       "      <td>2</td>\n",
       "      <td>2</td>\n",
       "      <td>1</td>\n",
       "      <td>1</td>\n",
       "    </tr>\n",
       "    <tr>\n",
       "      <th>JobRole</th>\n",
       "      <td>Sales Executive</td>\n",
       "      <td>Research Scientist</td>\n",
       "      <td>Laboratory Technician</td>\n",
       "      <td>Research Scientist</td>\n",
       "    </tr>\n",
       "    <tr>\n",
       "      <th>JobSatisfaction</th>\n",
       "      <td>4</td>\n",
       "      <td>2</td>\n",
       "      <td>3</td>\n",
       "      <td>3</td>\n",
       "    </tr>\n",
       "    <tr>\n",
       "      <th>MaritalStatus</th>\n",
       "      <td>Single</td>\n",
       "      <td>Married</td>\n",
       "      <td>Single</td>\n",
       "      <td>Married</td>\n",
       "    </tr>\n",
       "    <tr>\n",
       "      <th>MonthlyIncome</th>\n",
       "      <td>5993</td>\n",
       "      <td>5130</td>\n",
       "      <td>2090</td>\n",
       "      <td>2909</td>\n",
       "    </tr>\n",
       "    <tr>\n",
       "      <th>MonthlyRate</th>\n",
       "      <td>19479</td>\n",
       "      <td>24907</td>\n",
       "      <td>2396</td>\n",
       "      <td>23159</td>\n",
       "    </tr>\n",
       "    <tr>\n",
       "      <th>NumCompaniesWorked</th>\n",
       "      <td>8</td>\n",
       "      <td>1</td>\n",
       "      <td>6</td>\n",
       "      <td>1</td>\n",
       "    </tr>\n",
       "    <tr>\n",
       "      <th>Over18</th>\n",
       "      <td>Y</td>\n",
       "      <td>Y</td>\n",
       "      <td>Y</td>\n",
       "      <td>Y</td>\n",
       "    </tr>\n",
       "    <tr>\n",
       "      <th>OverTime</th>\n",
       "      <td>Yes</td>\n",
       "      <td>No</td>\n",
       "      <td>Yes</td>\n",
       "      <td>Yes</td>\n",
       "    </tr>\n",
       "    <tr>\n",
       "      <th>PercentSalaryHike</th>\n",
       "      <td>11</td>\n",
       "      <td>23</td>\n",
       "      <td>15</td>\n",
       "      <td>11</td>\n",
       "    </tr>\n",
       "    <tr>\n",
       "      <th>PerformanceRating</th>\n",
       "      <td>3</td>\n",
       "      <td>4</td>\n",
       "      <td>3</td>\n",
       "      <td>3</td>\n",
       "    </tr>\n",
       "    <tr>\n",
       "      <th>RelationshipSatisfaction</th>\n",
       "      <td>1</td>\n",
       "      <td>4</td>\n",
       "      <td>2</td>\n",
       "      <td>3</td>\n",
       "    </tr>\n",
       "    <tr>\n",
       "      <th>StandardHours</th>\n",
       "      <td>80</td>\n",
       "      <td>80</td>\n",
       "      <td>80</td>\n",
       "      <td>80</td>\n",
       "    </tr>\n",
       "    <tr>\n",
       "      <th>StockOptionLevel</th>\n",
       "      <td>0</td>\n",
       "      <td>1</td>\n",
       "      <td>0</td>\n",
       "      <td>0</td>\n",
       "    </tr>\n",
       "    <tr>\n",
       "      <th>TotalWorkingYears</th>\n",
       "      <td>8</td>\n",
       "      <td>10</td>\n",
       "      <td>7</td>\n",
       "      <td>8</td>\n",
       "    </tr>\n",
       "    <tr>\n",
       "      <th>TrainingTimesLastYear</th>\n",
       "      <td>0</td>\n",
       "      <td>3</td>\n",
       "      <td>3</td>\n",
       "      <td>3</td>\n",
       "    </tr>\n",
       "    <tr>\n",
       "      <th>WorkLifeBalance</th>\n",
       "      <td>1</td>\n",
       "      <td>3</td>\n",
       "      <td>3</td>\n",
       "      <td>3</td>\n",
       "    </tr>\n",
       "    <tr>\n",
       "      <th>YearsAtCompany</th>\n",
       "      <td>6</td>\n",
       "      <td>10</td>\n",
       "      <td>0</td>\n",
       "      <td>8</td>\n",
       "    </tr>\n",
       "    <tr>\n",
       "      <th>YearsInCurrentRole</th>\n",
       "      <td>4</td>\n",
       "      <td>7</td>\n",
       "      <td>0</td>\n",
       "      <td>7</td>\n",
       "    </tr>\n",
       "    <tr>\n",
       "      <th>YearsSinceLastPromotion</th>\n",
       "      <td>0</td>\n",
       "      <td>1</td>\n",
       "      <td>0</td>\n",
       "      <td>3</td>\n",
       "    </tr>\n",
       "    <tr>\n",
       "      <th>YearsWithCurrManager</th>\n",
       "      <td>5</td>\n",
       "      <td>7</td>\n",
       "      <td>0</td>\n",
       "      <td>0</td>\n",
       "    </tr>\n",
       "  </tbody>\n",
       "</table>\n",
       "</div>"
      ],
      "text/plain": [
       "                                        0                       1  \\\n",
       "Age                                    41                      49   \n",
       "Attrition                             Yes                      No   \n",
       "BusinessTravel              Travel_Rarely       Travel_Frequently   \n",
       "DailyRate                            1102                     279   \n",
       "Department                          Sales  Research & Development   \n",
       "DistanceFromHome                        1                       8   \n",
       "Education                               2                       1   \n",
       "EducationField              Life Sciences           Life Sciences   \n",
       "EmployeeCount                           1                       1   \n",
       "EmployeeNumber                          1                       2   \n",
       "EnvironmentSatisfaction                 2                       3   \n",
       "Gender                             Female                    Male   \n",
       "HourlyRate                             94                      61   \n",
       "JobInvolvement                          3                       2   \n",
       "JobLevel                                2                       2   \n",
       "JobRole                   Sales Executive      Research Scientist   \n",
       "JobSatisfaction                         4                       2   \n",
       "MaritalStatus                      Single                 Married   \n",
       "MonthlyIncome                        5993                    5130   \n",
       "MonthlyRate                         19479                   24907   \n",
       "NumCompaniesWorked                      8                       1   \n",
       "Over18                                  Y                       Y   \n",
       "OverTime                              Yes                      No   \n",
       "PercentSalaryHike                      11                      23   \n",
       "PerformanceRating                       3                       4   \n",
       "RelationshipSatisfaction                1                       4   \n",
       "StandardHours                          80                      80   \n",
       "StockOptionLevel                        0                       1   \n",
       "TotalWorkingYears                       8                      10   \n",
       "TrainingTimesLastYear                   0                       3   \n",
       "WorkLifeBalance                         1                       3   \n",
       "YearsAtCompany                          6                      10   \n",
       "YearsInCurrentRole                      4                       7   \n",
       "YearsSinceLastPromotion                 0                       1   \n",
       "YearsWithCurrManager                    5                       7   \n",
       "\n",
       "                                               2                       3  \n",
       "Age                                           37                      33  \n",
       "Attrition                                    Yes                      No  \n",
       "BusinessTravel                     Travel_Rarely       Travel_Frequently  \n",
       "DailyRate                                   1373                    1392  \n",
       "Department                Research & Development  Research & Development  \n",
       "DistanceFromHome                               2                       3  \n",
       "Education                                      2                       4  \n",
       "EducationField                             Other           Life Sciences  \n",
       "EmployeeCount                                  1                       1  \n",
       "EmployeeNumber                                 4                       5  \n",
       "EnvironmentSatisfaction                        4                       4  \n",
       "Gender                                      Male                  Female  \n",
       "HourlyRate                                    92                      56  \n",
       "JobInvolvement                                 2                       3  \n",
       "JobLevel                                       1                       1  \n",
       "JobRole                    Laboratory Technician      Research Scientist  \n",
       "JobSatisfaction                                3                       3  \n",
       "MaritalStatus                             Single                 Married  \n",
       "MonthlyIncome                               2090                    2909  \n",
       "MonthlyRate                                 2396                   23159  \n",
       "NumCompaniesWorked                             6                       1  \n",
       "Over18                                         Y                       Y  \n",
       "OverTime                                     Yes                     Yes  \n",
       "PercentSalaryHike                             15                      11  \n",
       "PerformanceRating                              3                       3  \n",
       "RelationshipSatisfaction                       2                       3  \n",
       "StandardHours                                 80                      80  \n",
       "StockOptionLevel                               0                       0  \n",
       "TotalWorkingYears                              7                       8  \n",
       "TrainingTimesLastYear                          3                       3  \n",
       "WorkLifeBalance                                3                       3  \n",
       "YearsAtCompany                                 0                       8  \n",
       "YearsInCurrentRole                             0                       7  \n",
       "YearsSinceLastPromotion                        0                       3  \n",
       "YearsWithCurrManager                           0                       0  "
      ]
     },
     "execution_count": 3,
     "metadata": {},
     "output_type": "execute_result"
    }
   ],
   "source": [
    "df.head(4).T\n",
    "#pritn out the first few records. transposed so that info is vertical, no horizontal scrolling"
   ]
  },
  {
   "cell_type": "code",
   "execution_count": 5,
   "id": "227eb14a",
   "metadata": {},
   "outputs": [
    {
     "data": {
      "text/plain": [
       "<AxesSubplot:>"
      ]
     },
     "execution_count": 5,
     "metadata": {},
     "output_type": "execute_result"
    },
    {
     "data": {
      "image/png": "[encoded data removed]",
      "text/plain": [
       "<Figure size 432x288 with 1 Axes>"
      ]
     },
     "metadata": {
      "needs_background": "light"
     },
     "output_type": "display_data"
    }
   ],
   "source": [
    "# target variable is attrition\n",
    "# value counts and histograms\n",
    "df.Attrition.hist()"
   ]
  },
  {
   "cell_type": "code",
   "execution_count": 6,
   "id": "e4407215",
   "metadata": {},
   "outputs": [
    {
     "data": {
      "text/plain": [
       "No     1233\n",
       "Yes     237\n",
       "Name: Attrition, dtype: int64"
      ]
     },
     "execution_count": 6,
     "metadata": {},
     "output_type": "execute_result"
    }
   ],
   "source": [
    "df.Attrition.value_counts()"
   ]
  },
  {
   "cell_type": "code",
   "execution_count": 8,
   "id": "c47882e2",
   "metadata": {},
   "outputs": [
    {
     "data": {
      "text/plain": [
       "0.16122448979591836"
      ]
     },
     "execution_count": 8,
     "metadata": {},
     "output_type": "execute_result"
    }
   ],
   "source": [
    "# Ok what's our company's attrition v industry standard?\n",
    "# Our company: 16%\n",
    "# Industry standard (google): 10%\n",
    "# we are 60% higher than industry standard\n",
    "\n",
    "\n",
    "df[df.Attrition == 'Yes'].shape[0]/df.shape[0]"
   ]
  },
  {
   "cell_type": "code",
   "execution_count": 9,
   "id": "9156e061",
   "metadata": {},
   "outputs": [
    {
     "name": "stdout",
     "output_type": "stream",
     "text": [
      "<class 'pandas.core.frame.DataFrame'>\n",
      "RangeIndex: 1470 entries, 0 to 1469\n",
      "Data columns (total 35 columns):\n",
      " #   Column                    Non-Null Count  Dtype \n",
      "---  ------                    --------------  ----- \n",
      " 0   Age                       1470 non-null   int64 \n",
      " 1   Attrition                 1470 non-null   object\n",
      " 2   BusinessTravel            1470 non-null   object\n",
      " 3   DailyRate                 1470 non-null   int64 \n",
      " 4   Department                1470 non-null   object\n",
      " 5   DistanceFromHome          1470 non-null   int64 \n",
      " 6   Education                 1470 non-null   int64 \n",
      " 7   EducationField            1470 non-null   object\n",
      " 8   EmployeeCount             1470 non-null   int64 \n",
      " 9   EmployeeNumber            1470 non-null   int64 \n",
      " 10  EnvironmentSatisfaction   1470 non-null   int64 \n",
      " 11  Gender                    1470 non-null   object\n",
      " 12  HourlyRate                1470 non-null   int64 \n",
      " 13  JobInvolvement            1470 non-null   int64 \n",
      " 14  JobLevel                  1470 non-null   int64 \n",
      " 15  JobRole                   1470 non-null   object\n",
      " 16  JobSatisfaction           1470 non-null   int64 \n",
      " 17  MaritalStatus             1470 non-null   object\n",
      " 18  MonthlyIncome             1470 non-null   int64 \n",
      " 19  MonthlyRate               1470 non-null   int64 \n",
      " 20  NumCompaniesWorked        1470 non-null   int64 \n",
      " 21  Over18                    1470 non-null   object\n",
      " 22  OverTime                  1470 non-null   object\n",
      " 23  PercentSalaryHike         1470 non-null   int64 \n",
      " 24  PerformanceRating         1470 non-null   int64 \n",
      " 25  RelationshipSatisfaction  1470 non-null   int64 \n",
      " 26  StandardHours             1470 non-null   int64 \n",
      " 27  StockOptionLevel          1470 non-null   int64 \n",
      " 28  TotalWorkingYears         1470 non-null   int64 \n",
      " 29  TrainingTimesLastYear     1470 non-null   int64 \n",
      " 30  WorkLifeBalance           1470 non-null   int64 \n",
      " 31  YearsAtCompany            1470 non-null   int64 \n",
      " 32  YearsInCurrentRole        1470 non-null   int64 \n",
      " 33  YearsSinceLastPromotion   1470 non-null   int64 \n",
      " 34  YearsWithCurrManager      1470 non-null   int64 \n",
      "dtypes: int64(26), object(9)\n",
      "memory usage: 402.1+ KB\n"
     ]
    }
   ],
   "source": [
    "# check for nulls\n",
    "df.info()\n",
    "# no null sto worry about yet"
   ]
  },
  {
   "cell_type": "code",
   "execution_count": 16,
   "id": "6fd3abb1",
   "metadata": {},
   "outputs": [
    {
     "data": {
      "text/plain": [
       "1134541"
      ]
     },
     "execution_count": 16,
     "metadata": {},
     "output_type": "execute_result"
    }
   ],
   "source": [
    "# Quantify the cost of lost employees:\n",
    "# retraining cost * number of lost employees\n",
    "# cost = 6-9 months salary = 0.5-0.75% of salary\n",
    "# assume 60% of employees\n",
    "monthly_income_att = df[df.Attrition == 'Yes'].MonthlyIncome.sum()\n",
    "monthly_income_att"
   ]
  },
  {
   "cell_type": "code",
   "execution_count": 17,
   "id": "2c5a01d1",
   "metadata": {},
   "outputs": [
    {
     "data": {
      "text/plain": [
       "13614492"
      ]
     },
     "execution_count": 17,
     "metadata": {},
     "output_type": "execute_result"
    }
   ],
   "source": [
    "yearly_income_att = monthly_income_att * 12\n",
    "yearly_income_att"
   ]
  },
  {
   "cell_type": "code",
   "execution_count": 18,
   "id": "31d803b4",
   "metadata": {},
   "outputs": [
    {
     "data": {
      "text/plain": [
       "8168695.199999999"
      ]
     },
     "execution_count": 18,
     "metadata": {},
     "output_type": "execute_result"
    }
   ],
   "source": [
    "# this is the cost of the problem\n",
    "retrain_cost = yearly_income_att * .6\n",
    "retrain_cost"
   ]
  },
  {
   "cell_type": "code",
   "execution_count": 22,
   "id": "5a33dfb5",
   "metadata": {},
   "outputs": [
    {
     "data": {
      "text/plain": [
       "237"
      ]
     },
     "execution_count": 22,
     "metadata": {},
     "output_type": "execute_result"
    }
   ],
   "source": [
    "(df.Attrition == 'Yes').sum()"
   ]
  },
  {
   "cell_type": "markdown",
   "id": "d63215b6",
   "metadata": {},
   "source": [
    "## Takeaways\n",
    "- 60% higher churn rate above industry\n",
    "- retrain/replace costs may cost $8.2 mn for the 237 employees we need to hire"
   ]
  },
  {
   "cell_type": "markdown",
   "id": "feeba119",
   "metadata": {},
   "source": [
    "## Step 3: Answer initial hypotheses with visuals and stats (write takeaways as we go)\n",
    "- use desc stats, visuals, hypothesis tests\n",
    "- visualize satisfaction v attrition\n",
    "- visualize income to attrition\n",
    "- sometimes a few stats tell the story, other times we need a handful\n"
   ]
  },
  {
   "cell_type": "code",
   "execution_count": 23,
   "id": "519c7211",
   "metadata": {},
   "outputs": [
    {
     "data": {
      "text/plain": [
       "<AxesSubplot:xlabel='Attrition', ylabel='MonthlyIncome'>"
      ]
     },
     "execution_count": 23,
     "metadata": {},
     "output_type": "execute_result"
    },
    {
     "data": {
      "image/png": "[encoded data removed]",
      "text/plain": [
       "<Figure size 432x288 with 1 Axes>"
      ]
     },
     "metadata": {
      "needs_background": "light"
     },
     "output_type": "display_data"
    }
   ],
   "source": [
    "sns.barplot(x = \"Attrition\", y = \"MonthlyIncome\", data = df) #averages"
   ]
  },
  {
   "cell_type": "code",
   "execution_count": 37,
   "id": "f5944a63",
   "metadata": {},
   "outputs": [
    {
     "data": {
      "text/plain": [
       "<AxesSubplot:xlabel='Attrition', ylabel='MonthlyIncome'>"
      ]
     },
     "execution_count": 37,
     "metadata": {},
     "output_type": "execute_result"
    },
    {
     "data": {
      "image/png": "[encoded data removed]",
      "text/plain": [
       "<Figure size 432x288 with 1 Axes>"
      ]
     },
     "metadata": {
      "needs_background": "light"
     },
     "output_type": "display_data"
    }
   ],
   "source": [
    "sns.barplot(x = \"Attrition\", y = \"MonthlyIncome\", hue = \"MaritalStatus\", data = df) #averages"
   ]
  },
  {
   "cell_type": "code",
   "execution_count": 24,
   "id": "a7bc21c0",
   "metadata": {},
   "outputs": [
    {
     "data": {
      "text/plain": [
       "<AxesSubplot:xlabel='Attrition', ylabel='MonthlyIncome'>"
      ]
     },
     "execution_count": 24,
     "metadata": {},
     "output_type": "execute_result"
    },
    {
     "data": {
      "image/png": "[encoded data removed]",
      "text/plain": [
       "<Figure size 432x288 with 1 Axes>"
      ]
     },
     "metadata": {
      "needs_background": "light"
     },
     "output_type": "display_data"
    }
   ],
   "source": [
    "sns.boxplot(x = \"Attrition\", y = \"MonthlyIncome\", data = df) #distribution"
   ]
  },
  {
   "cell_type": "markdown",
   "id": "afa95dcb",
   "metadata": {},
   "source": [
    "## Takeaways so far:\n",
    "- avg and median incomes for leavers are lower than for those who stay\n",
    "- leavers ('lost'): larger proportion were single\n",
    "- keepers ('kept'): larger proportion were married"
   ]
  },
  {
   "cell_type": "code",
   "execution_count": null,
   "id": "721240f3",
   "metadata": {},
   "outputs": [],
   "source": [
    "# Build the variables using pandas\n",
    "churn = telco_data[df.Attrition == 'Yes']\n",
    "kept = df[df.Attrition == 'No']"
   ]
  },
  {
   "cell_type": "code",
   "execution_count": 25,
   "id": "17cc99bc",
   "metadata": {},
   "outputs": [
    {
     "data": {
      "text/plain": [
       "<AxesSubplot:>"
      ]
     },
     "execution_count": 25,
     "metadata": {},
     "output_type": "execute_result"
    },
    {
     "data": {
      "image/png": "[encoded data removed]",
      "text/plain": [
       "<Figure size 432x288 with 1 Axes>"
      ]
     },
     "metadata": {
      "needs_background": "light"
     },
     "output_type": "display_data"
    }
   ],
   "source": [
    "kept.MaritalStatus.hist()"
   ]
  },
  {
   "cell_type": "code",
   "execution_count": 27,
   "id": "22253daf",
   "metadata": {},
   "outputs": [
    {
     "data": {
      "text/plain": [
       "<AxesSubplot:>"
      ]
     },
     "execution_count": 27,
     "metadata": {},
     "output_type": "execute_result"
    },
    {
     "data": {
      "image/png": "[encoded data removed]",
      "text/plain": [
       "<Figure size 432x288 with 1 Axes>"
      ]
     },
     "metadata": {
      "needs_background": "light"
     },
     "output_type": "display_data"
    }
   ],
   "source": [
    "lost.MaritalStatus.hist()"
   ]
  },
  {
   "cell_type": "code",
   "execution_count": 30,
   "id": "a2cb12a3",
   "metadata": {},
   "outputs": [
    {
     "data": {
      "text/plain": [
       "Male      150\n",
       "Female     87\n",
       "Name: Gender, dtype: int64"
      ]
     },
     "execution_count": 30,
     "metadata": {},
     "output_type": "execute_result"
    }
   ],
   "source": [
    "lost.Gender.value_counts()"
   ]
  },
  {
   "cell_type": "code",
   "execution_count": 31,
   "id": "32f878a7",
   "metadata": {},
   "outputs": [
    {
     "data": {
      "text/plain": [
       "Male      732\n",
       "Female    501\n",
       "Name: Gender, dtype: int64"
      ]
     },
     "execution_count": 31,
     "metadata": {},
     "output_type": "execute_result"
    }
   ],
   "source": [
    "kept.Gender.value_counts()"
   ]
  },
  {
   "cell_type": "code",
   "execution_count": 32,
   "id": "aa6013e2",
   "metadata": {},
   "outputs": [
    {
     "data": {
      "text/plain": [
       "Male      882\n",
       "Female    588\n",
       "Name: Gender, dtype: int64"
      ]
     },
     "execution_count": 32,
     "metadata": {},
     "output_type": "execute_result"
    }
   ],
   "source": [
    "df.Gender.value_counts()"
   ]
  },
  {
   "cell_type": "markdown",
   "id": "e57d9434",
   "metadata": {},
   "source": [
    "## Boxplots and histograms work well for these initial explorations"
   ]
  },
  {
   "cell_type": "code",
   "execution_count": 36,
   "id": "5cabc0e4",
   "metadata": {},
   "outputs": [
    {
     "data": {
      "text/plain": [
       "<seaborn.axisgrid.FacetGrid at 0x7f94512aa760>"
      ]
     },
     "execution_count": 36,
     "metadata": {},
     "output_type": "execute_result"
    },
    {
     "data": {
      "image/png": "[encoded data removed]",
      "text/plain": [
       "<Figure size 792.125x360 with 2 Axes>"
      ]
     },
     "metadata": {
      "needs_background": "light"
     },
     "output_type": "display_data"
    }
   ],
   "source": [
    "## boxplot shows distribution and spread\n",
    "#Barplots show averages\n",
    "#We can graph other things too, that pique our interest\n",
    "sns.relplot(x=\"MonthlyIncome\", y=\"YearsInCurrentRole\", col=\"Attrition\", data=df, hue=\"Gender\")"
   ]
  },
  {
   "cell_type": "code",
   "execution_count": null,
   "id": "e1f8b29d",
   "metadata": {},
   "outputs": [],
   "source": []
  }
 ],
 "metadata": {
  "kernelspec": {
   "display_name": "Python 3 (ipykernel)",
   "language": "python",
   "name": "python3"
  },
  "language_info": {
   "codemirror_mode": {
    "name": "ipython",
    "version": 3
   },
   "file_extension": ".py",
   "mimetype": "text/x-python",
   "name": "python",
   "nbconvert_exporter": "python",
   "pygments_lexer": "ipython3",
   "version": "3.9.7"
  }
 },
 "nbformat": 4,
 "nbformat_minor": 5
}
